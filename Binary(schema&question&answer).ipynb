{
 "cells": [
  {
   "cell_type": "markdown",
   "id": "f99212c7-6456-433e-bacb-08a2923214b5",
   "metadata": {},
   "source": [
    "# Preprocess"
   ]
  },
  {
   "cell_type": "code",
   "execution_count": 1,
   "id": "64aadb8b-8507-4cf8-b1af-66b4efde1ab4",
   "metadata": {},
   "outputs": [],
   "source": [
    "import pandas as pd"
   ]
  },
  {
   "cell_type": "code",
   "execution_count": 2,
   "id": "24da5493-83d8-49d0-8ae9-d0a84144fc31",
   "metadata": {},
   "outputs": [],
   "source": [
    "df = pd.read_csv('schema&question&answer.csv')"
   ]
  },
  {
   "cell_type": "code",
   "execution_count": 3,
   "id": "337defb4-6959-467f-8ad3-2c5763cc0e41",
   "metadata": {},
   "outputs": [
    {
     "data": {
      "text/html": [
       "<div>\n",
       "<style scoped>\n",
       "    .dataframe tbody tr th:only-of-type {\n",
       "        vertical-align: middle;\n",
       "    }\n",
       "\n",
       "    .dataframe tbody tr th {\n",
       "        vertical-align: top;\n",
       "    }\n",
       "\n",
       "    .dataframe thead th {\n",
       "        text-align: right;\n",
       "    }\n",
       "</style>\n",
       "<table border=\"1\" class=\"dataframe\">\n",
       "  <thead>\n",
       "    <tr style=\"text-align: right;\">\n",
       "      <th></th>\n",
       "      <th>field1</th>\n",
       "      <th>field2</th>\n",
       "      <th>field3</th>\n",
       "      <th>field4</th>\n",
       "      <th>field5</th>\n",
       "      <th>field6</th>\n",
       "      <th>field7</th>\n",
       "      <th>field1.1</th>\n",
       "      <th>field2.1</th>\n",
       "      <th>field1.2</th>\n",
       "      <th>field2.2</th>\n",
       "      <th>field3.1</th>\n",
       "      <th>field4.1</th>\n",
       "      <th>field5.1</th>\n",
       "    </tr>\n",
       "  </thead>\n",
       "  <tbody>\n",
       "    <tr>\n",
       "      <th>0</th>\n",
       "      <td>1409</td>\n",
       "      <td>SELECT SUM(first_name)\\r\\nFROM person \\r\\nWHER...</td>\n",
       "      <td>2018-08-22 09:03:34.219155+10</td>\n",
       "      <td>1</td>\n",
       "      <td>0</td>\n",
       "      <td>240</td>\n",
       "      <td>noninterpretable</td>\n",
       "      <td>1</td>\n",
       "      <td>Person(id, first_name, last_name, year_born) p...</td>\n",
       "      <td>1</td>\n",
       "      <td>SQL Exercise 1</td>\n",
       "      <td>Consider the given relational database moviedb...</td>\n",
       "      <td>2</td>\n",
       "      <td>SELECT count(*) \\r\\nFROM person p \\r\\nWHERE EX...</td>\n",
       "    </tr>\n",
       "    <tr>\n",
       "      <th>1</th>\n",
       "      <td>53</td>\n",
       "      <td>SELECT COUNT(*) FROM (SELECT DISTINCT person.i...</td>\n",
       "      <td>2018-08-10 12:31:49.231881+10</td>\n",
       "      <td>1</td>\n",
       "      <td>1</td>\n",
       "      <td>12</td>\n",
       "      <td>correct</td>\n",
       "      <td>1</td>\n",
       "      <td>Person(id, first_name, last_name, year_born) p...</td>\n",
       "      <td>1</td>\n",
       "      <td>SQL Exercise 1</td>\n",
       "      <td>Consider the given relational database moviedb...</td>\n",
       "      <td>2</td>\n",
       "      <td>SELECT count(*) \\r\\nFROM person p \\r\\nWHERE EX...</td>\n",
       "    </tr>\n",
       "    <tr>\n",
       "      <th>2</th>\n",
       "      <td>54</td>\n",
       "      <td>SELECT COUNT(*) FROM (SELECT DISTINCT person.i...</td>\n",
       "      <td>2018-08-10 12:32:19.970559+10</td>\n",
       "      <td>1</td>\n",
       "      <td>1</td>\n",
       "      <td>12</td>\n",
       "      <td>correct</td>\n",
       "      <td>1</td>\n",
       "      <td>Person(id, first_name, last_name, year_born) p...</td>\n",
       "      <td>1</td>\n",
       "      <td>SQL Exercise 1</td>\n",
       "      <td>Consider the given relational database moviedb...</td>\n",
       "      <td>2</td>\n",
       "      <td>SELECT count(*) \\r\\nFROM person p \\r\\nWHERE EX...</td>\n",
       "    </tr>\n",
       "    <tr>\n",
       "      <th>3</th>\n",
       "      <td>55</td>\n",
       "      <td>SELECT COUNT(*) FROM (SELECT person.id FROM pe...</td>\n",
       "      <td>2018-08-10 12:35:12.280294+10</td>\n",
       "      <td>1</td>\n",
       "      <td>0</td>\n",
       "      <td>12</td>\n",
       "      <td>partially correct</td>\n",
       "      <td>1</td>\n",
       "      <td>Person(id, first_name, last_name, year_born) p...</td>\n",
       "      <td>1</td>\n",
       "      <td>SQL Exercise 1</td>\n",
       "      <td>Consider the given relational database moviedb...</td>\n",
       "      <td>2</td>\n",
       "      <td>SELECT count(*) \\r\\nFROM person p \\r\\nWHERE EX...</td>\n",
       "    </tr>\n",
       "    <tr>\n",
       "      <th>4</th>\n",
       "      <td>56</td>\n",
       "      <td>SELECT production_year, COUNT(*) FROM movie \\r...</td>\n",
       "      <td>2018-08-10 12:48:24.607193+10</td>\n",
       "      <td>2</td>\n",
       "      <td>1</td>\n",
       "      <td>12</td>\n",
       "      <td>correct</td>\n",
       "      <td>2</td>\n",
       "      <td>Movie(title, production_year, country, run_tim...</td>\n",
       "      <td>2</td>\n",
       "      <td>SQL Exercise 2</td>\n",
       "      <td>Consider the given relational database moviedb...</td>\n",
       "      <td>1</td>\n",
       "      <td>SELECT production_year, count(*) \\r\\nFROM movi...</td>\n",
       "    </tr>\n",
       "  </tbody>\n",
       "</table>\n",
       "</div>"
      ],
      "text/plain": [
       "   field1                                             field2  \\\n",
       "0    1409  SELECT SUM(first_name)\\r\\nFROM person \\r\\nWHER...   \n",
       "1      53  SELECT COUNT(*) FROM (SELECT DISTINCT person.i...   \n",
       "2      54  SELECT COUNT(*) FROM (SELECT DISTINCT person.i...   \n",
       "3      55  SELECT COUNT(*) FROM (SELECT person.id FROM pe...   \n",
       "4      56  SELECT production_year, COUNT(*) FROM movie \\r...   \n",
       "\n",
       "                          field3  field4  field5  field6             field7  \\\n",
       "0  2018-08-22 09:03:34.219155+10       1       0     240   noninterpretable   \n",
       "1  2018-08-10 12:31:49.231881+10       1       1      12            correct   \n",
       "2  2018-08-10 12:32:19.970559+10       1       1      12            correct   \n",
       "3  2018-08-10 12:35:12.280294+10       1       0      12  partially correct   \n",
       "4  2018-08-10 12:48:24.607193+10       2       1      12            correct   \n",
       "\n",
       "   field1.1                                           field2.1  field1.2  \\\n",
       "0         1  Person(id, first_name, last_name, year_born) p...         1   \n",
       "1         1  Person(id, first_name, last_name, year_born) p...         1   \n",
       "2         1  Person(id, first_name, last_name, year_born) p...         1   \n",
       "3         1  Person(id, first_name, last_name, year_born) p...         1   \n",
       "4         2  Movie(title, production_year, country, run_tim...         2   \n",
       "\n",
       "         field2.2                                           field3.1  \\\n",
       "0  SQL Exercise 1  Consider the given relational database moviedb...   \n",
       "1  SQL Exercise 1  Consider the given relational database moviedb...   \n",
       "2  SQL Exercise 1  Consider the given relational database moviedb...   \n",
       "3  SQL Exercise 1  Consider the given relational database moviedb...   \n",
       "4  SQL Exercise 2  Consider the given relational database moviedb...   \n",
       "\n",
       "   field4.1                                           field5.1  \n",
       "0         2  SELECT count(*) \\r\\nFROM person p \\r\\nWHERE EX...  \n",
       "1         2  SELECT count(*) \\r\\nFROM person p \\r\\nWHERE EX...  \n",
       "2         2  SELECT count(*) \\r\\nFROM person p \\r\\nWHERE EX...  \n",
       "3         2  SELECT count(*) \\r\\nFROM person p \\r\\nWHERE EX...  \n",
       "4         1  SELECT production_year, count(*) \\r\\nFROM movi...  "
      ]
     },
     "execution_count": 3,
     "metadata": {},
     "output_type": "execute_result"
    }
   ],
   "source": [
    "df.head()"
   ]
  },
  {
   "cell_type": "code",
   "execution_count": 4,
   "id": "ac40832b-7137-4e90-a01a-a6977da0587f",
   "metadata": {},
   "outputs": [
    {
     "data": {
      "text/plain": [
       "525"
      ]
     },
     "execution_count": 4,
     "metadata": {},
     "output_type": "execute_result"
    }
   ],
   "source": [
    "len(df['field2.1'][8000])"
   ]
  },
  {
   "cell_type": "code",
   "execution_count": 5,
   "id": "6716411f-0c99-4204-ba89-c2ea3ea37624",
   "metadata": {},
   "outputs": [
    {
     "data": {
      "text/plain": [
       "'Writer Award(id, title, production_year, award_name, year_of_award, category, result) primary key : {id, title, production_year, award_name, year_of_award, category} foreign keys : [id, title, production_year] _ Writer[id, title, production_year], [award_name] _ Award[award_name];\\nWriter(id, title, production_year, credits) primary key : {id, title, production_year} foreign keys : [title, production_year] _ Movie[title, production_year], [id] _ Person[id];\\nPerson(id, first_name, last_name, year born) primary key : {id};'"
      ]
     },
     "execution_count": 5,
     "metadata": {},
     "output_type": "execute_result"
    }
   ],
   "source": [
    "df['field2.1'][8000]"
   ]
  },
  {
   "cell_type": "code",
   "execution_count": 6,
   "id": "c7d73887-4251-4ea3-9ecb-b6c7a383f0e3",
   "metadata": {},
   "outputs": [],
   "source": [
    "df = df.drop(['field1', 'field3', 'field4', 'field6', 'field7', 'field1.1', 'field1.2', 'field2.2', 'field4.1', 'field5.1'], axis=1)"
   ]
  },
  {
   "cell_type": "code",
   "execution_count": 7,
   "id": "96e09935-c897-48c6-ab31-1a3fef949192",
   "metadata": {},
   "outputs": [
    {
     "data": {
      "text/html": [
       "<div>\n",
       "<style scoped>\n",
       "    .dataframe tbody tr th:only-of-type {\n",
       "        vertical-align: middle;\n",
       "    }\n",
       "\n",
       "    .dataframe tbody tr th {\n",
       "        vertical-align: top;\n",
       "    }\n",
       "\n",
       "    .dataframe thead th {\n",
       "        text-align: right;\n",
       "    }\n",
       "</style>\n",
       "<table border=\"1\" class=\"dataframe\">\n",
       "  <thead>\n",
       "    <tr style=\"text-align: right;\">\n",
       "      <th></th>\n",
       "      <th>field2</th>\n",
       "      <th>field5</th>\n",
       "      <th>field2.1</th>\n",
       "      <th>field3.1</th>\n",
       "    </tr>\n",
       "  </thead>\n",
       "  <tbody>\n",
       "    <tr>\n",
       "      <th>0</th>\n",
       "      <td>SELECT SUM(first_name)\\r\\nFROM person \\r\\nWHER...</td>\n",
       "      <td>0</td>\n",
       "      <td>Person(id, first_name, last_name, year_born) p...</td>\n",
       "      <td>Consider the given relational database moviedb...</td>\n",
       "    </tr>\n",
       "    <tr>\n",
       "      <th>1</th>\n",
       "      <td>SELECT COUNT(*) FROM (SELECT DISTINCT person.i...</td>\n",
       "      <td>1</td>\n",
       "      <td>Person(id, first_name, last_name, year_born) p...</td>\n",
       "      <td>Consider the given relational database moviedb...</td>\n",
       "    </tr>\n",
       "    <tr>\n",
       "      <th>2</th>\n",
       "      <td>SELECT COUNT(*) FROM (SELECT DISTINCT person.i...</td>\n",
       "      <td>1</td>\n",
       "      <td>Person(id, first_name, last_name, year_born) p...</td>\n",
       "      <td>Consider the given relational database moviedb...</td>\n",
       "    </tr>\n",
       "    <tr>\n",
       "      <th>3</th>\n",
       "      <td>SELECT COUNT(*) FROM (SELECT person.id FROM pe...</td>\n",
       "      <td>0</td>\n",
       "      <td>Person(id, first_name, last_name, year_born) p...</td>\n",
       "      <td>Consider the given relational database moviedb...</td>\n",
       "    </tr>\n",
       "    <tr>\n",
       "      <th>4</th>\n",
       "      <td>SELECT production_year, COUNT(*) FROM movie \\r...</td>\n",
       "      <td>1</td>\n",
       "      <td>Movie(title, production_year, country, run_tim...</td>\n",
       "      <td>Consider the given relational database moviedb...</td>\n",
       "    </tr>\n",
       "  </tbody>\n",
       "</table>\n",
       "</div>"
      ],
      "text/plain": [
       "                                              field2  field5  \\\n",
       "0  SELECT SUM(first_name)\\r\\nFROM person \\r\\nWHER...       0   \n",
       "1  SELECT COUNT(*) FROM (SELECT DISTINCT person.i...       1   \n",
       "2  SELECT COUNT(*) FROM (SELECT DISTINCT person.i...       1   \n",
       "3  SELECT COUNT(*) FROM (SELECT person.id FROM pe...       0   \n",
       "4  SELECT production_year, COUNT(*) FROM movie \\r...       1   \n",
       "\n",
       "                                            field2.1  \\\n",
       "0  Person(id, first_name, last_name, year_born) p...   \n",
       "1  Person(id, first_name, last_name, year_born) p...   \n",
       "2  Person(id, first_name, last_name, year_born) p...   \n",
       "3  Person(id, first_name, last_name, year_born) p...   \n",
       "4  Movie(title, production_year, country, run_tim...   \n",
       "\n",
       "                                            field3.1  \n",
       "0  Consider the given relational database moviedb...  \n",
       "1  Consider the given relational database moviedb...  \n",
       "2  Consider the given relational database moviedb...  \n",
       "3  Consider the given relational database moviedb...  \n",
       "4  Consider the given relational database moviedb...  "
      ]
     },
     "execution_count": 7,
     "metadata": {},
     "output_type": "execute_result"
    }
   ],
   "source": [
    "df.head()"
   ]
  },
  {
   "cell_type": "code",
   "execution_count": 8,
   "id": "db1bcc0d-8131-4d16-af88-482379a8e128",
   "metadata": {},
   "outputs": [],
   "source": [
    "import re\n",
    "\n",
    "# Function to clean text\n",
    "def clean_text(text):\n",
    "    start_pos = re.search('Question:', text).start()\n",
    "    return text[start_pos:]\n",
    "\n",
    "# Apply the cleaning function to all rows in the 'preamble' column\n",
    "df['questions'] = df['field3.1'].apply(clean_text)"
   ]
  },
  {
   "cell_type": "code",
   "execution_count": 9,
   "id": "0f8917cf-e353-4de4-bf22-172e1ee57a0d",
   "metadata": {},
   "outputs": [
    {
     "data": {
      "text/html": [
       "<div>\n",
       "<style scoped>\n",
       "    .dataframe tbody tr th:only-of-type {\n",
       "        vertical-align: middle;\n",
       "    }\n",
       "\n",
       "    .dataframe tbody tr th {\n",
       "        vertical-align: top;\n",
       "    }\n",
       "\n",
       "    .dataframe thead th {\n",
       "        text-align: right;\n",
       "    }\n",
       "</style>\n",
       "<table border=\"1\" class=\"dataframe\">\n",
       "  <thead>\n",
       "    <tr style=\"text-align: right;\">\n",
       "      <th></th>\n",
       "      <th>field2</th>\n",
       "      <th>field5</th>\n",
       "      <th>field2.1</th>\n",
       "      <th>field3.1</th>\n",
       "      <th>questions</th>\n",
       "    </tr>\n",
       "  </thead>\n",
       "  <tbody>\n",
       "    <tr>\n",
       "      <th>0</th>\n",
       "      <td>SELECT SUM(first_name)\\r\\nFROM person \\r\\nWHER...</td>\n",
       "      <td>0</td>\n",
       "      <td>Person(id, first_name, last_name, year_born) p...</td>\n",
       "      <td>Consider the given relational database moviedb...</td>\n",
       "      <td>Question: How many writers were born in 1935?</td>\n",
       "    </tr>\n",
       "    <tr>\n",
       "      <th>1</th>\n",
       "      <td>SELECT COUNT(*) FROM (SELECT DISTINCT person.i...</td>\n",
       "      <td>1</td>\n",
       "      <td>Person(id, first_name, last_name, year_born) p...</td>\n",
       "      <td>Consider the given relational database moviedb...</td>\n",
       "      <td>Question: How many writers were born in 1935?</td>\n",
       "    </tr>\n",
       "    <tr>\n",
       "      <th>2</th>\n",
       "      <td>SELECT COUNT(*) FROM (SELECT DISTINCT person.i...</td>\n",
       "      <td>1</td>\n",
       "      <td>Person(id, first_name, last_name, year_born) p...</td>\n",
       "      <td>Consider the given relational database moviedb...</td>\n",
       "      <td>Question: How many writers were born in 1935?</td>\n",
       "    </tr>\n",
       "    <tr>\n",
       "      <th>3</th>\n",
       "      <td>SELECT COUNT(*) FROM (SELECT person.id FROM pe...</td>\n",
       "      <td>0</td>\n",
       "      <td>Person(id, first_name, last_name, year_born) p...</td>\n",
       "      <td>Consider the given relational database moviedb...</td>\n",
       "      <td>Question: How many writers were born in 1935?</td>\n",
       "    </tr>\n",
       "    <tr>\n",
       "      <th>4</th>\n",
       "      <td>SELECT production_year, COUNT(*) FROM movie \\r...</td>\n",
       "      <td>1</td>\n",
       "      <td>Movie(title, production_year, country, run_tim...</td>\n",
       "      <td>Consider the given relational database moviedb...</td>\n",
       "      <td>Question: How many movies were produced in 199...</td>\n",
       "    </tr>\n",
       "  </tbody>\n",
       "</table>\n",
       "</div>"
      ],
      "text/plain": [
       "                                              field2  field5  \\\n",
       "0  SELECT SUM(first_name)\\r\\nFROM person \\r\\nWHER...       0   \n",
       "1  SELECT COUNT(*) FROM (SELECT DISTINCT person.i...       1   \n",
       "2  SELECT COUNT(*) FROM (SELECT DISTINCT person.i...       1   \n",
       "3  SELECT COUNT(*) FROM (SELECT person.id FROM pe...       0   \n",
       "4  SELECT production_year, COUNT(*) FROM movie \\r...       1   \n",
       "\n",
       "                                            field2.1  \\\n",
       "0  Person(id, first_name, last_name, year_born) p...   \n",
       "1  Person(id, first_name, last_name, year_born) p...   \n",
       "2  Person(id, first_name, last_name, year_born) p...   \n",
       "3  Person(id, first_name, last_name, year_born) p...   \n",
       "4  Movie(title, production_year, country, run_tim...   \n",
       "\n",
       "                                            field3.1  \\\n",
       "0  Consider the given relational database moviedb...   \n",
       "1  Consider the given relational database moviedb...   \n",
       "2  Consider the given relational database moviedb...   \n",
       "3  Consider the given relational database moviedb...   \n",
       "4  Consider the given relational database moviedb...   \n",
       "\n",
       "                                           questions  \n",
       "0      Question: How many writers were born in 1935?  \n",
       "1      Question: How many writers were born in 1935?  \n",
       "2      Question: How many writers were born in 1935?  \n",
       "3      Question: How many writers were born in 1935?  \n",
       "4  Question: How many movies were produced in 199...  "
      ]
     },
     "execution_count": 9,
     "metadata": {},
     "output_type": "execute_result"
    }
   ],
   "source": [
    "df.head()"
   ]
  },
  {
   "cell_type": "code",
   "execution_count": 10,
   "id": "36db6052-b0c7-4a32-9013-9bec3bb48863",
   "metadata": {},
   "outputs": [],
   "source": [
    "df = df.drop('field3.1', axis=1)"
   ]
  },
  {
   "cell_type": "code",
   "execution_count": 11,
   "id": "44b63279-e24d-4610-8efd-8266458bed46",
   "metadata": {},
   "outputs": [
    {
     "data": {
      "text/html": [
       "<div>\n",
       "<style scoped>\n",
       "    .dataframe tbody tr th:only-of-type {\n",
       "        vertical-align: middle;\n",
       "    }\n",
       "\n",
       "    .dataframe tbody tr th {\n",
       "        vertical-align: top;\n",
       "    }\n",
       "\n",
       "    .dataframe thead th {\n",
       "        text-align: right;\n",
       "    }\n",
       "</style>\n",
       "<table border=\"1\" class=\"dataframe\">\n",
       "  <thead>\n",
       "    <tr style=\"text-align: right;\">\n",
       "      <th></th>\n",
       "      <th>field2</th>\n",
       "      <th>field5</th>\n",
       "      <th>field2.1</th>\n",
       "      <th>questions</th>\n",
       "    </tr>\n",
       "  </thead>\n",
       "  <tbody>\n",
       "    <tr>\n",
       "      <th>0</th>\n",
       "      <td>SELECT SUM(first_name)\\r\\nFROM person \\r\\nWHER...</td>\n",
       "      <td>0</td>\n",
       "      <td>Person(id, first_name, last_name, year_born) p...</td>\n",
       "      <td>Question: How many writers were born in 1935?</td>\n",
       "    </tr>\n",
       "    <tr>\n",
       "      <th>1</th>\n",
       "      <td>SELECT COUNT(*) FROM (SELECT DISTINCT person.i...</td>\n",
       "      <td>1</td>\n",
       "      <td>Person(id, first_name, last_name, year_born) p...</td>\n",
       "      <td>Question: How many writers were born in 1935?</td>\n",
       "    </tr>\n",
       "    <tr>\n",
       "      <th>2</th>\n",
       "      <td>SELECT COUNT(*) FROM (SELECT DISTINCT person.i...</td>\n",
       "      <td>1</td>\n",
       "      <td>Person(id, first_name, last_name, year_born) p...</td>\n",
       "      <td>Question: How many writers were born in 1935?</td>\n",
       "    </tr>\n",
       "    <tr>\n",
       "      <th>3</th>\n",
       "      <td>SELECT COUNT(*) FROM (SELECT person.id FROM pe...</td>\n",
       "      <td>0</td>\n",
       "      <td>Person(id, first_name, last_name, year_born) p...</td>\n",
       "      <td>Question: How many writers were born in 1935?</td>\n",
       "    </tr>\n",
       "    <tr>\n",
       "      <th>4</th>\n",
       "      <td>SELECT production_year, COUNT(*) FROM movie \\r...</td>\n",
       "      <td>1</td>\n",
       "      <td>Movie(title, production_year, country, run_tim...</td>\n",
       "      <td>Question: How many movies were produced in 199...</td>\n",
       "    </tr>\n",
       "  </tbody>\n",
       "</table>\n",
       "</div>"
      ],
      "text/plain": [
       "                                              field2  field5  \\\n",
       "0  SELECT SUM(first_name)\\r\\nFROM person \\r\\nWHER...       0   \n",
       "1  SELECT COUNT(*) FROM (SELECT DISTINCT person.i...       1   \n",
       "2  SELECT COUNT(*) FROM (SELECT DISTINCT person.i...       1   \n",
       "3  SELECT COUNT(*) FROM (SELECT person.id FROM pe...       0   \n",
       "4  SELECT production_year, COUNT(*) FROM movie \\r...       1   \n",
       "\n",
       "                                            field2.1  \\\n",
       "0  Person(id, first_name, last_name, year_born) p...   \n",
       "1  Person(id, first_name, last_name, year_born) p...   \n",
       "2  Person(id, first_name, last_name, year_born) p...   \n",
       "3  Person(id, first_name, last_name, year_born) p...   \n",
       "4  Movie(title, production_year, country, run_tim...   \n",
       "\n",
       "                                           questions  \n",
       "0      Question: How many writers were born in 1935?  \n",
       "1      Question: How many writers were born in 1935?  \n",
       "2      Question: How many writers were born in 1935?  \n",
       "3      Question: How many writers were born in 1935?  \n",
       "4  Question: How many movies were produced in 199...  "
      ]
     },
     "execution_count": 11,
     "metadata": {},
     "output_type": "execute_result"
    }
   ],
   "source": [
    "df.head()"
   ]
  },
  {
   "cell_type": "code",
   "execution_count": 12,
   "id": "88500eaa-28bb-4a73-8526-5f1357581d6f",
   "metadata": {},
   "outputs": [],
   "source": [
    "# Function to add content to each row\n",
    "def add_content(row):\n",
    "    return \"[Answer]: \" + str(row)\n",
    "\n",
    "# Apply the function to the 'cleaned_preamble' column\n",
    "df['answer'] = df['field2'].apply(add_content)"
   ]
  },
  {
   "cell_type": "code",
   "execution_count": 13,
   "id": "ca3e2534-981c-4d53-91c8-164f2d655931",
   "metadata": {},
   "outputs": [
    {
     "data": {
      "text/html": [
       "<div>\n",
       "<style scoped>\n",
       "    .dataframe tbody tr th:only-of-type {\n",
       "        vertical-align: middle;\n",
       "    }\n",
       "\n",
       "    .dataframe tbody tr th {\n",
       "        vertical-align: top;\n",
       "    }\n",
       "\n",
       "    .dataframe thead th {\n",
       "        text-align: right;\n",
       "    }\n",
       "</style>\n",
       "<table border=\"1\" class=\"dataframe\">\n",
       "  <thead>\n",
       "    <tr style=\"text-align: right;\">\n",
       "      <th></th>\n",
       "      <th>field2</th>\n",
       "      <th>field5</th>\n",
       "      <th>field2.1</th>\n",
       "      <th>questions</th>\n",
       "      <th>answer</th>\n",
       "    </tr>\n",
       "  </thead>\n",
       "  <tbody>\n",
       "    <tr>\n",
       "      <th>0</th>\n",
       "      <td>SELECT SUM(first_name)\\r\\nFROM person \\r\\nWHER...</td>\n",
       "      <td>0</td>\n",
       "      <td>Person(id, first_name, last_name, year_born) p...</td>\n",
       "      <td>Question: How many writers were born in 1935?</td>\n",
       "      <td>[Answer]: SELECT SUM(first_name)\\r\\nFROM perso...</td>\n",
       "    </tr>\n",
       "    <tr>\n",
       "      <th>1</th>\n",
       "      <td>SELECT COUNT(*) FROM (SELECT DISTINCT person.i...</td>\n",
       "      <td>1</td>\n",
       "      <td>Person(id, first_name, last_name, year_born) p...</td>\n",
       "      <td>Question: How many writers were born in 1935?</td>\n",
       "      <td>[Answer]: SELECT COUNT(*) FROM (SELECT DISTINC...</td>\n",
       "    </tr>\n",
       "    <tr>\n",
       "      <th>2</th>\n",
       "      <td>SELECT COUNT(*) FROM (SELECT DISTINCT person.i...</td>\n",
       "      <td>1</td>\n",
       "      <td>Person(id, first_name, last_name, year_born) p...</td>\n",
       "      <td>Question: How many writers were born in 1935?</td>\n",
       "      <td>[Answer]: SELECT COUNT(*) FROM (SELECT DISTINC...</td>\n",
       "    </tr>\n",
       "    <tr>\n",
       "      <th>3</th>\n",
       "      <td>SELECT COUNT(*) FROM (SELECT person.id FROM pe...</td>\n",
       "      <td>0</td>\n",
       "      <td>Person(id, first_name, last_name, year_born) p...</td>\n",
       "      <td>Question: How many writers were born in 1935?</td>\n",
       "      <td>[Answer]: SELECT COUNT(*) FROM (SELECT person....</td>\n",
       "    </tr>\n",
       "    <tr>\n",
       "      <th>4</th>\n",
       "      <td>SELECT production_year, COUNT(*) FROM movie \\r...</td>\n",
       "      <td>1</td>\n",
       "      <td>Movie(title, production_year, country, run_tim...</td>\n",
       "      <td>Question: How many movies were produced in 199...</td>\n",
       "      <td>[Answer]: SELECT production_year, COUNT(*) FRO...</td>\n",
       "    </tr>\n",
       "  </tbody>\n",
       "</table>\n",
       "</div>"
      ],
      "text/plain": [
       "                                              field2  field5  \\\n",
       "0  SELECT SUM(first_name)\\r\\nFROM person \\r\\nWHER...       0   \n",
       "1  SELECT COUNT(*) FROM (SELECT DISTINCT person.i...       1   \n",
       "2  SELECT COUNT(*) FROM (SELECT DISTINCT person.i...       1   \n",
       "3  SELECT COUNT(*) FROM (SELECT person.id FROM pe...       0   \n",
       "4  SELECT production_year, COUNT(*) FROM movie \\r...       1   \n",
       "\n",
       "                                            field2.1  \\\n",
       "0  Person(id, first_name, last_name, year_born) p...   \n",
       "1  Person(id, first_name, last_name, year_born) p...   \n",
       "2  Person(id, first_name, last_name, year_born) p...   \n",
       "3  Person(id, first_name, last_name, year_born) p...   \n",
       "4  Movie(title, production_year, country, run_tim...   \n",
       "\n",
       "                                           questions  \\\n",
       "0      Question: How many writers were born in 1935?   \n",
       "1      Question: How many writers were born in 1935?   \n",
       "2      Question: How many writers were born in 1935?   \n",
       "3      Question: How many writers were born in 1935?   \n",
       "4  Question: How many movies were produced in 199...   \n",
       "\n",
       "                                              answer  \n",
       "0  [Answer]: SELECT SUM(first_name)\\r\\nFROM perso...  \n",
       "1  [Answer]: SELECT COUNT(*) FROM (SELECT DISTINC...  \n",
       "2  [Answer]: SELECT COUNT(*) FROM (SELECT DISTINC...  \n",
       "3  [Answer]: SELECT COUNT(*) FROM (SELECT person....  \n",
       "4  [Answer]: SELECT production_year, COUNT(*) FRO...  "
      ]
     },
     "execution_count": 13,
     "metadata": {},
     "output_type": "execute_result"
    }
   ],
   "source": [
    "df.head()"
   ]
  },
  {
   "cell_type": "code",
   "execution_count": 14,
   "id": "fb1effd7-d9ee-47e8-89ab-2f6c39268d08",
   "metadata": {},
   "outputs": [],
   "source": [
    "df = df.drop('field2', axis=1)"
   ]
  },
  {
   "cell_type": "code",
   "execution_count": 15,
   "id": "94333a44-d5da-4a7f-809e-22c094d2dc02",
   "metadata": {},
   "outputs": [
    {
     "data": {
      "text/html": [
       "<div>\n",
       "<style scoped>\n",
       "    .dataframe tbody tr th:only-of-type {\n",
       "        vertical-align: middle;\n",
       "    }\n",
       "\n",
       "    .dataframe tbody tr th {\n",
       "        vertical-align: top;\n",
       "    }\n",
       "\n",
       "    .dataframe thead th {\n",
       "        text-align: right;\n",
       "    }\n",
       "</style>\n",
       "<table border=\"1\" class=\"dataframe\">\n",
       "  <thead>\n",
       "    <tr style=\"text-align: right;\">\n",
       "      <th></th>\n",
       "      <th>field5</th>\n",
       "      <th>field2.1</th>\n",
       "      <th>questions</th>\n",
       "      <th>answer</th>\n",
       "    </tr>\n",
       "  </thead>\n",
       "  <tbody>\n",
       "    <tr>\n",
       "      <th>0</th>\n",
       "      <td>0</td>\n",
       "      <td>Person(id, first_name, last_name, year_born) p...</td>\n",
       "      <td>Question: How many writers were born in 1935?</td>\n",
       "      <td>[Answer]: SELECT SUM(first_name)\\r\\nFROM perso...</td>\n",
       "    </tr>\n",
       "    <tr>\n",
       "      <th>1</th>\n",
       "      <td>1</td>\n",
       "      <td>Person(id, first_name, last_name, year_born) p...</td>\n",
       "      <td>Question: How many writers were born in 1935?</td>\n",
       "      <td>[Answer]: SELECT COUNT(*) FROM (SELECT DISTINC...</td>\n",
       "    </tr>\n",
       "    <tr>\n",
       "      <th>2</th>\n",
       "      <td>1</td>\n",
       "      <td>Person(id, first_name, last_name, year_born) p...</td>\n",
       "      <td>Question: How many writers were born in 1935?</td>\n",
       "      <td>[Answer]: SELECT COUNT(*) FROM (SELECT DISTINC...</td>\n",
       "    </tr>\n",
       "    <tr>\n",
       "      <th>3</th>\n",
       "      <td>0</td>\n",
       "      <td>Person(id, first_name, last_name, year_born) p...</td>\n",
       "      <td>Question: How many writers were born in 1935?</td>\n",
       "      <td>[Answer]: SELECT COUNT(*) FROM (SELECT person....</td>\n",
       "    </tr>\n",
       "    <tr>\n",
       "      <th>4</th>\n",
       "      <td>1</td>\n",
       "      <td>Movie(title, production_year, country, run_tim...</td>\n",
       "      <td>Question: How many movies were produced in 199...</td>\n",
       "      <td>[Answer]: SELECT production_year, COUNT(*) FRO...</td>\n",
       "    </tr>\n",
       "  </tbody>\n",
       "</table>\n",
       "</div>"
      ],
      "text/plain": [
       "   field5                                           field2.1  \\\n",
       "0       0  Person(id, first_name, last_name, year_born) p...   \n",
       "1       1  Person(id, first_name, last_name, year_born) p...   \n",
       "2       1  Person(id, first_name, last_name, year_born) p...   \n",
       "3       0  Person(id, first_name, last_name, year_born) p...   \n",
       "4       1  Movie(title, production_year, country, run_tim...   \n",
       "\n",
       "                                           questions  \\\n",
       "0      Question: How many writers were born in 1935?   \n",
       "1      Question: How many writers were born in 1935?   \n",
       "2      Question: How many writers were born in 1935?   \n",
       "3      Question: How many writers were born in 1935?   \n",
       "4  Question: How many movies were produced in 199...   \n",
       "\n",
       "                                              answer  \n",
       "0  [Answer]: SELECT SUM(first_name)\\r\\nFROM perso...  \n",
       "1  [Answer]: SELECT COUNT(*) FROM (SELECT DISTINC...  \n",
       "2  [Answer]: SELECT COUNT(*) FROM (SELECT DISTINC...  \n",
       "3  [Answer]: SELECT COUNT(*) FROM (SELECT person....  \n",
       "4  [Answer]: SELECT production_year, COUNT(*) FRO...  "
      ]
     },
     "execution_count": 15,
     "metadata": {},
     "output_type": "execute_result"
    }
   ],
   "source": [
    "df.head()"
   ]
  },
  {
   "cell_type": "code",
   "execution_count": 16,
   "id": "e7742115-59e8-4bc9-952a-2a076ab1de42",
   "metadata": {},
   "outputs": [],
   "source": [
    "# Function to add content to each row\n",
    "def add_content(row):\n",
    "    return \"[Schema]: \" + str(row)\n",
    "\n",
    "# Apply the function to the 'cleaned_preamble' column\n",
    "df['Schema'] = df['field2.1'].apply(add_content)"
   ]
  },
  {
   "cell_type": "code",
   "execution_count": 17,
   "id": "af900788-2b36-4bcf-bd66-3e35004e0fd3",
   "metadata": {},
   "outputs": [],
   "source": [
    "df = df.drop('field2.1', axis=1)"
   ]
  },
  {
   "cell_type": "code",
   "execution_count": 18,
   "id": "cb588bf4-38c8-40ae-8a08-bd19659a88e9",
   "metadata": {},
   "outputs": [
    {
     "data": {
      "text/html": [
       "<div>\n",
       "<style scoped>\n",
       "    .dataframe tbody tr th:only-of-type {\n",
       "        vertical-align: middle;\n",
       "    }\n",
       "\n",
       "    .dataframe tbody tr th {\n",
       "        vertical-align: top;\n",
       "    }\n",
       "\n",
       "    .dataframe thead th {\n",
       "        text-align: right;\n",
       "    }\n",
       "</style>\n",
       "<table border=\"1\" class=\"dataframe\">\n",
       "  <thead>\n",
       "    <tr style=\"text-align: right;\">\n",
       "      <th></th>\n",
       "      <th>field5</th>\n",
       "      <th>questions</th>\n",
       "      <th>answer</th>\n",
       "      <th>Schema</th>\n",
       "    </tr>\n",
       "  </thead>\n",
       "  <tbody>\n",
       "    <tr>\n",
       "      <th>0</th>\n",
       "      <td>0</td>\n",
       "      <td>Question: How many writers were born in 1935?</td>\n",
       "      <td>[Answer]: SELECT SUM(first_name)\\r\\nFROM perso...</td>\n",
       "      <td>[Schema]: Person(id, first_name, last_name, ye...</td>\n",
       "    </tr>\n",
       "    <tr>\n",
       "      <th>1</th>\n",
       "      <td>1</td>\n",
       "      <td>Question: How many writers were born in 1935?</td>\n",
       "      <td>[Answer]: SELECT COUNT(*) FROM (SELECT DISTINC...</td>\n",
       "      <td>[Schema]: Person(id, first_name, last_name, ye...</td>\n",
       "    </tr>\n",
       "    <tr>\n",
       "      <th>2</th>\n",
       "      <td>1</td>\n",
       "      <td>Question: How many writers were born in 1935?</td>\n",
       "      <td>[Answer]: SELECT COUNT(*) FROM (SELECT DISTINC...</td>\n",
       "      <td>[Schema]: Person(id, first_name, last_name, ye...</td>\n",
       "    </tr>\n",
       "    <tr>\n",
       "      <th>3</th>\n",
       "      <td>0</td>\n",
       "      <td>Question: How many writers were born in 1935?</td>\n",
       "      <td>[Answer]: SELECT COUNT(*) FROM (SELECT person....</td>\n",
       "      <td>[Schema]: Person(id, first_name, last_name, ye...</td>\n",
       "    </tr>\n",
       "    <tr>\n",
       "      <th>4</th>\n",
       "      <td>1</td>\n",
       "      <td>Question: How many movies were produced in 199...</td>\n",
       "      <td>[Answer]: SELECT production_year, COUNT(*) FRO...</td>\n",
       "      <td>[Schema]: Movie(title, production_year, countr...</td>\n",
       "    </tr>\n",
       "  </tbody>\n",
       "</table>\n",
       "</div>"
      ],
      "text/plain": [
       "   field5                                          questions  \\\n",
       "0       0      Question: How many writers were born in 1935?   \n",
       "1       1      Question: How many writers were born in 1935?   \n",
       "2       1      Question: How many writers were born in 1935?   \n",
       "3       0      Question: How many writers were born in 1935?   \n",
       "4       1  Question: How many movies were produced in 199...   \n",
       "\n",
       "                                              answer  \\\n",
       "0  [Answer]: SELECT SUM(first_name)\\r\\nFROM perso...   \n",
       "1  [Answer]: SELECT COUNT(*) FROM (SELECT DISTINC...   \n",
       "2  [Answer]: SELECT COUNT(*) FROM (SELECT DISTINC...   \n",
       "3  [Answer]: SELECT COUNT(*) FROM (SELECT person....   \n",
       "4  [Answer]: SELECT production_year, COUNT(*) FRO...   \n",
       "\n",
       "                                              Schema  \n",
       "0  [Schema]: Person(id, first_name, last_name, ye...  \n",
       "1  [Schema]: Person(id, first_name, last_name, ye...  \n",
       "2  [Schema]: Person(id, first_name, last_name, ye...  \n",
       "3  [Schema]: Person(id, first_name, last_name, ye...  \n",
       "4  [Schema]: Movie(title, production_year, countr...  "
      ]
     },
     "execution_count": 18,
     "metadata": {},
     "output_type": "execute_result"
    }
   ],
   "source": [
    "df.head()"
   ]
  },
  {
   "cell_type": "code",
   "execution_count": 19,
   "id": "cc2c8ddd-2651-4e78-8aa8-c5801b5b0285",
   "metadata": {},
   "outputs": [],
   "source": [
    "# Function to add square brackets around \"Question\"\n",
    "def add_brackets(row):\n",
    "    return row.replace(\"Question\", \"[Question]\")\n",
    "\n",
    "# Apply the function to the 'cleaned_preamble' column\n",
    "df['questions'] = df['questions'].apply(add_brackets)"
   ]
  },
  {
   "cell_type": "code",
   "execution_count": 20,
   "id": "2810ee20-25ec-46f3-9659-867aefc3e20f",
   "metadata": {},
   "outputs": [
    {
     "data": {
      "text/html": [
       "<div>\n",
       "<style scoped>\n",
       "    .dataframe tbody tr th:only-of-type {\n",
       "        vertical-align: middle;\n",
       "    }\n",
       "\n",
       "    .dataframe tbody tr th {\n",
       "        vertical-align: top;\n",
       "    }\n",
       "\n",
       "    .dataframe thead th {\n",
       "        text-align: right;\n",
       "    }\n",
       "</style>\n",
       "<table border=\"1\" class=\"dataframe\">\n",
       "  <thead>\n",
       "    <tr style=\"text-align: right;\">\n",
       "      <th></th>\n",
       "      <th>field5</th>\n",
       "      <th>questions</th>\n",
       "      <th>answer</th>\n",
       "      <th>Schema</th>\n",
       "    </tr>\n",
       "  </thead>\n",
       "  <tbody>\n",
       "    <tr>\n",
       "      <th>0</th>\n",
       "      <td>0</td>\n",
       "      <td>[Question]: How many writers were born in 1935?</td>\n",
       "      <td>[Answer]: SELECT SUM(first_name)\\r\\nFROM perso...</td>\n",
       "      <td>[Schema]: Person(id, first_name, last_name, ye...</td>\n",
       "    </tr>\n",
       "    <tr>\n",
       "      <th>1</th>\n",
       "      <td>1</td>\n",
       "      <td>[Question]: How many writers were born in 1935?</td>\n",
       "      <td>[Answer]: SELECT COUNT(*) FROM (SELECT DISTINC...</td>\n",
       "      <td>[Schema]: Person(id, first_name, last_name, ye...</td>\n",
       "    </tr>\n",
       "    <tr>\n",
       "      <th>2</th>\n",
       "      <td>1</td>\n",
       "      <td>[Question]: How many writers were born in 1935?</td>\n",
       "      <td>[Answer]: SELECT COUNT(*) FROM (SELECT DISTINC...</td>\n",
       "      <td>[Schema]: Person(id, first_name, last_name, ye...</td>\n",
       "    </tr>\n",
       "    <tr>\n",
       "      <th>3</th>\n",
       "      <td>0</td>\n",
       "      <td>[Question]: How many writers were born in 1935?</td>\n",
       "      <td>[Answer]: SELECT COUNT(*) FROM (SELECT person....</td>\n",
       "      <td>[Schema]: Person(id, first_name, last_name, ye...</td>\n",
       "    </tr>\n",
       "    <tr>\n",
       "      <th>4</th>\n",
       "      <td>1</td>\n",
       "      <td>[Question]: How many movies were produced in 1...</td>\n",
       "      <td>[Answer]: SELECT production_year, COUNT(*) FRO...</td>\n",
       "      <td>[Schema]: Movie(title, production_year, countr...</td>\n",
       "    </tr>\n",
       "  </tbody>\n",
       "</table>\n",
       "</div>"
      ],
      "text/plain": [
       "   field5                                          questions  \\\n",
       "0       0    [Question]: How many writers were born in 1935?   \n",
       "1       1    [Question]: How many writers were born in 1935?   \n",
       "2       1    [Question]: How many writers were born in 1935?   \n",
       "3       0    [Question]: How many writers were born in 1935?   \n",
       "4       1  [Question]: How many movies were produced in 1...   \n",
       "\n",
       "                                              answer  \\\n",
       "0  [Answer]: SELECT SUM(first_name)\\r\\nFROM perso...   \n",
       "1  [Answer]: SELECT COUNT(*) FROM (SELECT DISTINC...   \n",
       "2  [Answer]: SELECT COUNT(*) FROM (SELECT DISTINC...   \n",
       "3  [Answer]: SELECT COUNT(*) FROM (SELECT person....   \n",
       "4  [Answer]: SELECT production_year, COUNT(*) FRO...   \n",
       "\n",
       "                                              Schema  \n",
       "0  [Schema]: Person(id, first_name, last_name, ye...  \n",
       "1  [Schema]: Person(id, first_name, last_name, ye...  \n",
       "2  [Schema]: Person(id, first_name, last_name, ye...  \n",
       "3  [Schema]: Person(id, first_name, last_name, ye...  \n",
       "4  [Schema]: Movie(title, production_year, countr...  "
      ]
     },
     "execution_count": 20,
     "metadata": {},
     "output_type": "execute_result"
    }
   ],
   "source": [
    "df.head()"
   ]
  },
  {
   "cell_type": "code",
   "execution_count": 21,
   "id": "d14b462d-b4a3-4799-901f-3f8d6de1d9e5",
   "metadata": {},
   "outputs": [],
   "source": [
    "df = df.loc[:,['Schema', 'questions', 'answer', 'field5']]"
   ]
  },
  {
   "cell_type": "code",
   "execution_count": 22,
   "id": "137ff276-da3d-4c5d-b2f6-11c1387e1476",
   "metadata": {},
   "outputs": [
    {
     "data": {
      "text/html": [
       "<div>\n",
       "<style scoped>\n",
       "    .dataframe tbody tr th:only-of-type {\n",
       "        vertical-align: middle;\n",
       "    }\n",
       "\n",
       "    .dataframe tbody tr th {\n",
       "        vertical-align: top;\n",
       "    }\n",
       "\n",
       "    .dataframe thead th {\n",
       "        text-align: right;\n",
       "    }\n",
       "</style>\n",
       "<table border=\"1\" class=\"dataframe\">\n",
       "  <thead>\n",
       "    <tr style=\"text-align: right;\">\n",
       "      <th></th>\n",
       "      <th>Schema</th>\n",
       "      <th>questions</th>\n",
       "      <th>answer</th>\n",
       "      <th>field5</th>\n",
       "    </tr>\n",
       "  </thead>\n",
       "  <tbody>\n",
       "    <tr>\n",
       "      <th>0</th>\n",
       "      <td>[Schema]: Person(id, first_name, last_name, ye...</td>\n",
       "      <td>[Question]: How many writers were born in 1935?</td>\n",
       "      <td>[Answer]: SELECT SUM(first_name)\\r\\nFROM perso...</td>\n",
       "      <td>0</td>\n",
       "    </tr>\n",
       "    <tr>\n",
       "      <th>1</th>\n",
       "      <td>[Schema]: Person(id, first_name, last_name, ye...</td>\n",
       "      <td>[Question]: How many writers were born in 1935?</td>\n",
       "      <td>[Answer]: SELECT COUNT(*) FROM (SELECT DISTINC...</td>\n",
       "      <td>1</td>\n",
       "    </tr>\n",
       "    <tr>\n",
       "      <th>2</th>\n",
       "      <td>[Schema]: Person(id, first_name, last_name, ye...</td>\n",
       "      <td>[Question]: How many writers were born in 1935?</td>\n",
       "      <td>[Answer]: SELECT COUNT(*) FROM (SELECT DISTINC...</td>\n",
       "      <td>1</td>\n",
       "    </tr>\n",
       "    <tr>\n",
       "      <th>3</th>\n",
       "      <td>[Schema]: Person(id, first_name, last_name, ye...</td>\n",
       "      <td>[Question]: How many writers were born in 1935?</td>\n",
       "      <td>[Answer]: SELECT COUNT(*) FROM (SELECT person....</td>\n",
       "      <td>0</td>\n",
       "    </tr>\n",
       "    <tr>\n",
       "      <th>4</th>\n",
       "      <td>[Schema]: Movie(title, production_year, countr...</td>\n",
       "      <td>[Question]: How many movies were produced in 1...</td>\n",
       "      <td>[Answer]: SELECT production_year, COUNT(*) FRO...</td>\n",
       "      <td>1</td>\n",
       "    </tr>\n",
       "  </tbody>\n",
       "</table>\n",
       "</div>"
      ],
      "text/plain": [
       "                                              Schema  \\\n",
       "0  [Schema]: Person(id, first_name, last_name, ye...   \n",
       "1  [Schema]: Person(id, first_name, last_name, ye...   \n",
       "2  [Schema]: Person(id, first_name, last_name, ye...   \n",
       "3  [Schema]: Person(id, first_name, last_name, ye...   \n",
       "4  [Schema]: Movie(title, production_year, countr...   \n",
       "\n",
       "                                           questions  \\\n",
       "0    [Question]: How many writers were born in 1935?   \n",
       "1    [Question]: How many writers were born in 1935?   \n",
       "2    [Question]: How many writers were born in 1935?   \n",
       "3    [Question]: How many writers were born in 1935?   \n",
       "4  [Question]: How many movies were produced in 1...   \n",
       "\n",
       "                                              answer  field5  \n",
       "0  [Answer]: SELECT SUM(first_name)\\r\\nFROM perso...       0  \n",
       "1  [Answer]: SELECT COUNT(*) FROM (SELECT DISTINC...       1  \n",
       "2  [Answer]: SELECT COUNT(*) FROM (SELECT DISTINC...       1  \n",
       "3  [Answer]: SELECT COUNT(*) FROM (SELECT person....       0  \n",
       "4  [Answer]: SELECT production_year, COUNT(*) FRO...       1  "
      ]
     },
     "execution_count": 22,
     "metadata": {},
     "output_type": "execute_result"
    }
   ],
   "source": [
    "df.head()"
   ]
  },
  {
   "cell_type": "code",
   "execution_count": 23,
   "id": "5ead5e3f-f77d-48b3-a009-8d13f7f2fafd",
   "metadata": {},
   "outputs": [],
   "source": [
    "df['text'] = df['Schema'] + \" \" + df['questions'] + \" \" + df['answer']"
   ]
  },
  {
   "cell_type": "code",
   "execution_count": 24,
   "id": "3b7902cd-d85b-4a89-9f7f-ee12ced1bbf4",
   "metadata": {},
   "outputs": [
    {
     "data": {
      "text/html": [
       "<div>\n",
       "<style scoped>\n",
       "    .dataframe tbody tr th:only-of-type {\n",
       "        vertical-align: middle;\n",
       "    }\n",
       "\n",
       "    .dataframe tbody tr th {\n",
       "        vertical-align: top;\n",
       "    }\n",
       "\n",
       "    .dataframe thead th {\n",
       "        text-align: right;\n",
       "    }\n",
       "</style>\n",
       "<table border=\"1\" class=\"dataframe\">\n",
       "  <thead>\n",
       "    <tr style=\"text-align: right;\">\n",
       "      <th></th>\n",
       "      <th>Schema</th>\n",
       "      <th>questions</th>\n",
       "      <th>answer</th>\n",
       "      <th>field5</th>\n",
       "      <th>text</th>\n",
       "    </tr>\n",
       "  </thead>\n",
       "  <tbody>\n",
       "    <tr>\n",
       "      <th>0</th>\n",
       "      <td>[Schema]: Person(id, first_name, last_name, ye...</td>\n",
       "      <td>[Question]: How many writers were born in 1935?</td>\n",
       "      <td>[Answer]: SELECT SUM(first_name)\\r\\nFROM perso...</td>\n",
       "      <td>0</td>\n",
       "      <td>[Schema]: Person(id, first_name, last_name, ye...</td>\n",
       "    </tr>\n",
       "    <tr>\n",
       "      <th>1</th>\n",
       "      <td>[Schema]: Person(id, first_name, last_name, ye...</td>\n",
       "      <td>[Question]: How many writers were born in 1935?</td>\n",
       "      <td>[Answer]: SELECT COUNT(*) FROM (SELECT DISTINC...</td>\n",
       "      <td>1</td>\n",
       "      <td>[Schema]: Person(id, first_name, last_name, ye...</td>\n",
       "    </tr>\n",
       "    <tr>\n",
       "      <th>2</th>\n",
       "      <td>[Schema]: Person(id, first_name, last_name, ye...</td>\n",
       "      <td>[Question]: How many writers were born in 1935?</td>\n",
       "      <td>[Answer]: SELECT COUNT(*) FROM (SELECT DISTINC...</td>\n",
       "      <td>1</td>\n",
       "      <td>[Schema]: Person(id, first_name, last_name, ye...</td>\n",
       "    </tr>\n",
       "    <tr>\n",
       "      <th>3</th>\n",
       "      <td>[Schema]: Person(id, first_name, last_name, ye...</td>\n",
       "      <td>[Question]: How many writers were born in 1935?</td>\n",
       "      <td>[Answer]: SELECT COUNT(*) FROM (SELECT person....</td>\n",
       "      <td>0</td>\n",
       "      <td>[Schema]: Person(id, first_name, last_name, ye...</td>\n",
       "    </tr>\n",
       "    <tr>\n",
       "      <th>4</th>\n",
       "      <td>[Schema]: Movie(title, production_year, countr...</td>\n",
       "      <td>[Question]: How many movies were produced in 1...</td>\n",
       "      <td>[Answer]: SELECT production_year, COUNT(*) FRO...</td>\n",
       "      <td>1</td>\n",
       "      <td>[Schema]: Movie(title, production_year, countr...</td>\n",
       "    </tr>\n",
       "  </tbody>\n",
       "</table>\n",
       "</div>"
      ],
      "text/plain": [
       "                                              Schema  \\\n",
       "0  [Schema]: Person(id, first_name, last_name, ye...   \n",
       "1  [Schema]: Person(id, first_name, last_name, ye...   \n",
       "2  [Schema]: Person(id, first_name, last_name, ye...   \n",
       "3  [Schema]: Person(id, first_name, last_name, ye...   \n",
       "4  [Schema]: Movie(title, production_year, countr...   \n",
       "\n",
       "                                           questions  \\\n",
       "0    [Question]: How many writers were born in 1935?   \n",
       "1    [Question]: How many writers were born in 1935?   \n",
       "2    [Question]: How many writers were born in 1935?   \n",
       "3    [Question]: How many writers were born in 1935?   \n",
       "4  [Question]: How many movies were produced in 1...   \n",
       "\n",
       "                                              answer  field5  \\\n",
       "0  [Answer]: SELECT SUM(first_name)\\r\\nFROM perso...       0   \n",
       "1  [Answer]: SELECT COUNT(*) FROM (SELECT DISTINC...       1   \n",
       "2  [Answer]: SELECT COUNT(*) FROM (SELECT DISTINC...       1   \n",
       "3  [Answer]: SELECT COUNT(*) FROM (SELECT person....       0   \n",
       "4  [Answer]: SELECT production_year, COUNT(*) FRO...       1   \n",
       "\n",
       "                                                text  \n",
       "0  [Schema]: Person(id, first_name, last_name, ye...  \n",
       "1  [Schema]: Person(id, first_name, last_name, ye...  \n",
       "2  [Schema]: Person(id, first_name, last_name, ye...  \n",
       "3  [Schema]: Person(id, first_name, last_name, ye...  \n",
       "4  [Schema]: Movie(title, production_year, countr...  "
      ]
     },
     "execution_count": 24,
     "metadata": {},
     "output_type": "execute_result"
    }
   ],
   "source": [
    "df.head()"
   ]
  },
  {
   "cell_type": "code",
   "execution_count": 25,
   "id": "fbd4c329-8994-4758-b611-c26db5b5abdc",
   "metadata": {},
   "outputs": [],
   "source": [
    "df = df.drop(['Schema', 'questions', 'answer'], axis=1)"
   ]
  },
  {
   "cell_type": "code",
   "execution_count": 26,
   "id": "4cde39b8-d359-46fe-a1bc-f51521f3c61f",
   "metadata": {},
   "outputs": [
    {
     "data": {
      "text/html": [
       "<div>\n",
       "<style scoped>\n",
       "    .dataframe tbody tr th:only-of-type {\n",
       "        vertical-align: middle;\n",
       "    }\n",
       "\n",
       "    .dataframe tbody tr th {\n",
       "        vertical-align: top;\n",
       "    }\n",
       "\n",
       "    .dataframe thead th {\n",
       "        text-align: right;\n",
       "    }\n",
       "</style>\n",
       "<table border=\"1\" class=\"dataframe\">\n",
       "  <thead>\n",
       "    <tr style=\"text-align: right;\">\n",
       "      <th></th>\n",
       "      <th>field5</th>\n",
       "      <th>text</th>\n",
       "    </tr>\n",
       "  </thead>\n",
       "  <tbody>\n",
       "    <tr>\n",
       "      <th>0</th>\n",
       "      <td>0</td>\n",
       "      <td>[Schema]: Person(id, first_name, last_name, ye...</td>\n",
       "    </tr>\n",
       "    <tr>\n",
       "      <th>1</th>\n",
       "      <td>1</td>\n",
       "      <td>[Schema]: Person(id, first_name, last_name, ye...</td>\n",
       "    </tr>\n",
       "    <tr>\n",
       "      <th>2</th>\n",
       "      <td>1</td>\n",
       "      <td>[Schema]: Person(id, first_name, last_name, ye...</td>\n",
       "    </tr>\n",
       "    <tr>\n",
       "      <th>3</th>\n",
       "      <td>0</td>\n",
       "      <td>[Schema]: Person(id, first_name, last_name, ye...</td>\n",
       "    </tr>\n",
       "    <tr>\n",
       "      <th>4</th>\n",
       "      <td>1</td>\n",
       "      <td>[Schema]: Movie(title, production_year, countr...</td>\n",
       "    </tr>\n",
       "  </tbody>\n",
       "</table>\n",
       "</div>"
      ],
      "text/plain": [
       "   field5                                               text\n",
       "0       0  [Schema]: Person(id, first_name, last_name, ye...\n",
       "1       1  [Schema]: Person(id, first_name, last_name, ye...\n",
       "2       1  [Schema]: Person(id, first_name, last_name, ye...\n",
       "3       0  [Schema]: Person(id, first_name, last_name, ye...\n",
       "4       1  [Schema]: Movie(title, production_year, countr..."
      ]
     },
     "execution_count": 26,
     "metadata": {},
     "output_type": "execute_result"
    }
   ],
   "source": [
    "df.head()"
   ]
  },
  {
   "cell_type": "code",
   "execution_count": 27,
   "id": "80175ed9-4208-4068-a713-8df84b7f277f",
   "metadata": {},
   "outputs": [],
   "source": [
    "df = df.loc[:,['text', 'field5']]"
   ]
  },
  {
   "cell_type": "code",
   "execution_count": 28,
   "id": "e53ddf89-6bbd-485c-8ad3-f577bd940b70",
   "metadata": {},
   "outputs": [],
   "source": [
    "df = df.rename({'field5': 'label'}, axis=1)"
   ]
  },
  {
   "cell_type": "code",
   "execution_count": 29,
   "id": "d7e663af-cab0-4d3e-a17d-a5e501584f60",
   "metadata": {},
   "outputs": [
    {
     "data": {
      "text/html": [
       "<div>\n",
       "<style scoped>\n",
       "    .dataframe tbody tr th:only-of-type {\n",
       "        vertical-align: middle;\n",
       "    }\n",
       "\n",
       "    .dataframe tbody tr th {\n",
       "        vertical-align: top;\n",
       "    }\n",
       "\n",
       "    .dataframe thead th {\n",
       "        text-align: right;\n",
       "    }\n",
       "</style>\n",
       "<table border=\"1\" class=\"dataframe\">\n",
       "  <thead>\n",
       "    <tr style=\"text-align: right;\">\n",
       "      <th></th>\n",
       "      <th>text</th>\n",
       "      <th>label</th>\n",
       "    </tr>\n",
       "  </thead>\n",
       "  <tbody>\n",
       "    <tr>\n",
       "      <th>0</th>\n",
       "      <td>[Schema]: Person(id, first_name, last_name, ye...</td>\n",
       "      <td>0</td>\n",
       "    </tr>\n",
       "    <tr>\n",
       "      <th>1</th>\n",
       "      <td>[Schema]: Person(id, first_name, last_name, ye...</td>\n",
       "      <td>1</td>\n",
       "    </tr>\n",
       "    <tr>\n",
       "      <th>2</th>\n",
       "      <td>[Schema]: Person(id, first_name, last_name, ye...</td>\n",
       "      <td>1</td>\n",
       "    </tr>\n",
       "    <tr>\n",
       "      <th>3</th>\n",
       "      <td>[Schema]: Person(id, first_name, last_name, ye...</td>\n",
       "      <td>0</td>\n",
       "    </tr>\n",
       "    <tr>\n",
       "      <th>4</th>\n",
       "      <td>[Schema]: Movie(title, production_year, countr...</td>\n",
       "      <td>1</td>\n",
       "    </tr>\n",
       "  </tbody>\n",
       "</table>\n",
       "</div>"
      ],
      "text/plain": [
       "                                                text  label\n",
       "0  [Schema]: Person(id, first_name, last_name, ye...      0\n",
       "1  [Schema]: Person(id, first_name, last_name, ye...      1\n",
       "2  [Schema]: Person(id, first_name, last_name, ye...      1\n",
       "3  [Schema]: Person(id, first_name, last_name, ye...      0\n",
       "4  [Schema]: Movie(title, production_year, countr...      1"
      ]
     },
     "execution_count": 29,
     "metadata": {},
     "output_type": "execute_result"
    }
   ],
   "source": [
    "df.head()"
   ]
  },
  {
   "cell_type": "code",
   "execution_count": 30,
   "id": "389f520b-194a-4346-b99b-ad360a68821e",
   "metadata": {},
   "outputs": [
    {
     "data": {
      "text/plain": [
       "'[Schema]: Person(id, first_name, last_name, year_born) primary key : {id};\\nWriter(id, title, production_year, credits) primary key : {id, title, production_year} foreign keys : [title, production_year] _ Movie[title, production_year], [id] _ Person[id] [Question]: How many writers were born in 1935? [Answer]: SELECT SUM(first_name)\\r\\nFROM person \\r\\nWHERE year_born == 1935;'"
      ]
     },
     "execution_count": 30,
     "metadata": {},
     "output_type": "execute_result"
    }
   ],
   "source": [
    "df['text'][0]"
   ]
  },
  {
   "cell_type": "code",
   "execution_count": 31,
   "id": "337890dc-7caa-4bd3-8d68-c71ae781e630",
   "metadata": {},
   "outputs": [],
   "source": [
    "df['text_length'] = df['text'].apply(len)\n"
   ]
  },
  {
   "cell_type": "code",
   "execution_count": 32,
   "id": "467be437-e615-4e7d-93fa-3719ca3ef238",
   "metadata": {},
   "outputs": [
    {
     "data": {
      "text/html": [
       "<div>\n",
       "<style scoped>\n",
       "    .dataframe tbody tr th:only-of-type {\n",
       "        vertical-align: middle;\n",
       "    }\n",
       "\n",
       "    .dataframe tbody tr th {\n",
       "        vertical-align: top;\n",
       "    }\n",
       "\n",
       "    .dataframe thead th {\n",
       "        text-align: right;\n",
       "    }\n",
       "</style>\n",
       "<table border=\"1\" class=\"dataframe\">\n",
       "  <thead>\n",
       "    <tr style=\"text-align: right;\">\n",
       "      <th></th>\n",
       "      <th>text</th>\n",
       "      <th>label</th>\n",
       "      <th>text_length</th>\n",
       "    </tr>\n",
       "  </thead>\n",
       "  <tbody>\n",
       "    <tr>\n",
       "      <th>0</th>\n",
       "      <td>[Schema]: Person(id, first_name, last_name, ye...</td>\n",
       "      <td>0</td>\n",
       "      <td>373</td>\n",
       "    </tr>\n",
       "    <tr>\n",
       "      <th>1</th>\n",
       "      <td>[Schema]: Person(id, first_name, last_name, ye...</td>\n",
       "      <td>1</td>\n",
       "      <td>432</td>\n",
       "    </tr>\n",
       "    <tr>\n",
       "      <th>2</th>\n",
       "      <td>[Schema]: Person(id, first_name, last_name, ye...</td>\n",
       "      <td>1</td>\n",
       "      <td>432</td>\n",
       "    </tr>\n",
       "    <tr>\n",
       "      <th>3</th>\n",
       "      <td>[Schema]: Person(id, first_name, last_name, ye...</td>\n",
       "      <td>0</td>\n",
       "      <td>423</td>\n",
       "    </tr>\n",
       "    <tr>\n",
       "      <th>4</th>\n",
       "      <td>[Schema]: Movie(title, production_year, countr...</td>\n",
       "      <td>1</td>\n",
       "      <td>380</td>\n",
       "    </tr>\n",
       "    <tr>\n",
       "      <th>...</th>\n",
       "      <td>...</td>\n",
       "      <td>...</td>\n",
       "      <td>...</td>\n",
       "    </tr>\n",
       "    <tr>\n",
       "      <th>12894</th>\n",
       "      <td>[Schema]: Movie(title, production_year, countr...</td>\n",
       "      <td>1</td>\n",
       "      <td>2294</td>\n",
       "    </tr>\n",
       "    <tr>\n",
       "      <th>12895</th>\n",
       "      <td>[Schema]: Person(id, first_name, last_name, ye...</td>\n",
       "      <td>0</td>\n",
       "      <td>328</td>\n",
       "    </tr>\n",
       "    <tr>\n",
       "      <th>12896</th>\n",
       "      <td>[Schema]: Person(id, first_name, last_name, ye...</td>\n",
       "      <td>1</td>\n",
       "      <td>477</td>\n",
       "    </tr>\n",
       "    <tr>\n",
       "      <th>12897</th>\n",
       "      <td>[Schema]: Person(id, first_name, last_name, ye...</td>\n",
       "      <td>1</td>\n",
       "      <td>838</td>\n",
       "    </tr>\n",
       "    <tr>\n",
       "      <th>12898</th>\n",
       "      <td>[Schema]: Director Award(title, production_yea...</td>\n",
       "      <td>0</td>\n",
       "      <td>672</td>\n",
       "    </tr>\n",
       "  </tbody>\n",
       "</table>\n",
       "<p>12899 rows × 3 columns</p>\n",
       "</div>"
      ],
      "text/plain": [
       "                                                    text  label  text_length\n",
       "0      [Schema]: Person(id, first_name, last_name, ye...      0          373\n",
       "1      [Schema]: Person(id, first_name, last_name, ye...      1          432\n",
       "2      [Schema]: Person(id, first_name, last_name, ye...      1          432\n",
       "3      [Schema]: Person(id, first_name, last_name, ye...      0          423\n",
       "4      [Schema]: Movie(title, production_year, countr...      1          380\n",
       "...                                                  ...    ...          ...\n",
       "12894  [Schema]: Movie(title, production_year, countr...      1         2294\n",
       "12895  [Schema]: Person(id, first_name, last_name, ye...      0          328\n",
       "12896  [Schema]: Person(id, first_name, last_name, ye...      1          477\n",
       "12897  [Schema]: Person(id, first_name, last_name, ye...      1          838\n",
       "12898  [Schema]: Director Award(title, production_yea...      0          672\n",
       "\n",
       "[12899 rows x 3 columns]"
      ]
     },
     "execution_count": 32,
     "metadata": {},
     "output_type": "execute_result"
    }
   ],
   "source": [
    "df"
   ]
  },
  {
   "cell_type": "code",
   "execution_count": 33,
   "id": "19f46710-2059-4af4-9162-e41224503cef",
   "metadata": {},
   "outputs": [
    {
     "data": {
      "text/plain": [
       "count    12899.000000\n",
       "mean       747.615939\n",
       "std        428.317409\n",
       "min        195.000000\n",
       "25%        421.000000\n",
       "50%        686.000000\n",
       "75%        949.000000\n",
       "max       3059.000000\n",
       "Name: text_length, dtype: float64"
      ]
     },
     "execution_count": 33,
     "metadata": {},
     "output_type": "execute_result"
    }
   ],
   "source": [
    "df['text_length'].describe()"
   ]
  },
  {
   "cell_type": "code",
   "execution_count": 34,
   "id": "bcd07113-d12f-40b1-b044-56cca91ea13d",
   "metadata": {},
   "outputs": [],
   "source": [
    "df = df[df['text_length'] <= 512]"
   ]
  },
  {
   "cell_type": "code",
   "execution_count": 35,
   "id": "91435e08-750e-415a-9749-50965c124dcb",
   "metadata": {},
   "outputs": [
    {
     "data": {
      "text/html": [
       "<div>\n",
       "<style scoped>\n",
       "    .dataframe tbody tr th:only-of-type {\n",
       "        vertical-align: middle;\n",
       "    }\n",
       "\n",
       "    .dataframe tbody tr th {\n",
       "        vertical-align: top;\n",
       "    }\n",
       "\n",
       "    .dataframe thead th {\n",
       "        text-align: right;\n",
       "    }\n",
       "</style>\n",
       "<table border=\"1\" class=\"dataframe\">\n",
       "  <thead>\n",
       "    <tr style=\"text-align: right;\">\n",
       "      <th></th>\n",
       "      <th>text</th>\n",
       "      <th>label</th>\n",
       "      <th>text_length</th>\n",
       "    </tr>\n",
       "  </thead>\n",
       "  <tbody>\n",
       "    <tr>\n",
       "      <th>0</th>\n",
       "      <td>[Schema]: Person(id, first_name, last_name, ye...</td>\n",
       "      <td>0</td>\n",
       "      <td>373</td>\n",
       "    </tr>\n",
       "    <tr>\n",
       "      <th>1</th>\n",
       "      <td>[Schema]: Person(id, first_name, last_name, ye...</td>\n",
       "      <td>1</td>\n",
       "      <td>432</td>\n",
       "    </tr>\n",
       "    <tr>\n",
       "      <th>2</th>\n",
       "      <td>[Schema]: Person(id, first_name, last_name, ye...</td>\n",
       "      <td>1</td>\n",
       "      <td>432</td>\n",
       "    </tr>\n",
       "    <tr>\n",
       "      <th>3</th>\n",
       "      <td>[Schema]: Person(id, first_name, last_name, ye...</td>\n",
       "      <td>0</td>\n",
       "      <td>423</td>\n",
       "    </tr>\n",
       "    <tr>\n",
       "      <th>4</th>\n",
       "      <td>[Schema]: Movie(title, production_year, countr...</td>\n",
       "      <td>1</td>\n",
       "      <td>380</td>\n",
       "    </tr>\n",
       "    <tr>\n",
       "      <th>...</th>\n",
       "      <td>...</td>\n",
       "      <td>...</td>\n",
       "      <td>...</td>\n",
       "    </tr>\n",
       "    <tr>\n",
       "      <th>12888</th>\n",
       "      <td>[Schema]: Movie(title, production_year, countr...</td>\n",
       "      <td>1</td>\n",
       "      <td>384</td>\n",
       "    </tr>\n",
       "    <tr>\n",
       "      <th>12889</th>\n",
       "      <td>[Schema]: Movie(title, production_year, countr...</td>\n",
       "      <td>1</td>\n",
       "      <td>384</td>\n",
       "    </tr>\n",
       "    <tr>\n",
       "      <th>12890</th>\n",
       "      <td>[Schema]: Person(id, first_name, last_name, ye...</td>\n",
       "      <td>0</td>\n",
       "      <td>391</td>\n",
       "    </tr>\n",
       "    <tr>\n",
       "      <th>12895</th>\n",
       "      <td>[Schema]: Person(id, first_name, last_name, ye...</td>\n",
       "      <td>0</td>\n",
       "      <td>328</td>\n",
       "    </tr>\n",
       "    <tr>\n",
       "      <th>12896</th>\n",
       "      <td>[Schema]: Person(id, first_name, last_name, ye...</td>\n",
       "      <td>1</td>\n",
       "      <td>477</td>\n",
       "    </tr>\n",
       "  </tbody>\n",
       "</table>\n",
       "<p>5181 rows × 3 columns</p>\n",
       "</div>"
      ],
      "text/plain": [
       "                                                    text  label  text_length\n",
       "0      [Schema]: Person(id, first_name, last_name, ye...      0          373\n",
       "1      [Schema]: Person(id, first_name, last_name, ye...      1          432\n",
       "2      [Schema]: Person(id, first_name, last_name, ye...      1          432\n",
       "3      [Schema]: Person(id, first_name, last_name, ye...      0          423\n",
       "4      [Schema]: Movie(title, production_year, countr...      1          380\n",
       "...                                                  ...    ...          ...\n",
       "12888  [Schema]: Movie(title, production_year, countr...      1          384\n",
       "12889  [Schema]: Movie(title, production_year, countr...      1          384\n",
       "12890  [Schema]: Person(id, first_name, last_name, ye...      0          391\n",
       "12895  [Schema]: Person(id, first_name, last_name, ye...      0          328\n",
       "12896  [Schema]: Person(id, first_name, last_name, ye...      1          477\n",
       "\n",
       "[5181 rows x 3 columns]"
      ]
     },
     "execution_count": 35,
     "metadata": {},
     "output_type": "execute_result"
    }
   ],
   "source": [
    "df"
   ]
  },
  {
   "cell_type": "markdown",
   "id": "90019365-7e1d-4c0d-97c7-9b035805b2f8",
   "metadata": {},
   "source": [
    "# training"
   ]
  },
  {
   "cell_type": "code",
   "execution_count": 36,
   "id": "cb4cb21d-9f09-4e27-923c-53e1156049ee",
   "metadata": {},
   "outputs": [],
   "source": [
    "import numpy as np\n",
    "import pandas as pd\n",
    "from datasets import Dataset\n",
    "from transformers import TrainingArguments\n",
    "from transformers import Trainer"
   ]
  },
  {
   "cell_type": "code",
   "execution_count": 37,
   "id": "910a8aed-b4be-4a12-af4f-9ee98f91afb9",
   "metadata": {},
   "outputs": [],
   "source": [
    "ds = Dataset.from_pandas(df)"
   ]
  },
  {
   "cell_type": "code",
   "execution_count": 38,
   "id": "5098e215-ba6e-410a-b093-e91fd080a876",
   "metadata": {},
   "outputs": [
    {
     "data": {
      "text/plain": [
       "Dataset({\n",
       "    features: ['text', 'label', 'text_length', '__index_level_0__'],\n",
       "    num_rows: 5181\n",
       "})"
      ]
     },
     "execution_count": 38,
     "metadata": {},
     "output_type": "execute_result"
    }
   ],
   "source": [
    "ds"
   ]
  },
  {
   "cell_type": "code",
   "execution_count": 39,
   "id": "1ac376f7-e79b-4754-b4c0-fd83f8dca8bd",
   "metadata": {},
   "outputs": [
    {
     "data": {
      "text/plain": [
       "DatasetDict({\n",
       "    train: Dataset({\n",
       "        features: ['text', 'label', 'text_length', '__index_level_0__'],\n",
       "        num_rows: 4144\n",
       "    })\n",
       "    test: Dataset({\n",
       "        features: ['text', 'label', 'text_length', '__index_level_0__'],\n",
       "        num_rows: 1037\n",
       "    })\n",
       "})"
      ]
     },
     "execution_count": 39,
     "metadata": {},
     "output_type": "execute_result"
    }
   ],
   "source": [
    "ds = ds.train_test_split(test_size=0.2)\n",
    "ds"
   ]
  },
  {
   "cell_type": "code",
   "execution_count": 40,
   "id": "3c68f25a-df78-488c-89fd-a82af56f203e",
   "metadata": {},
   "outputs": [],
   "source": [
    "from transformers import AutoTokenizer\n",
    "tokenizer = AutoTokenizer.from_pretrained(\"bert-base-uncased\")"
   ]
  },
  {
   "cell_type": "code",
   "execution_count": 41,
   "id": "02263a21-0a09-42f9-8b0d-b91b8813f8f6",
   "metadata": {},
   "outputs": [],
   "source": [
    "def tokenize(batch):\n",
    "    return tokenizer(batch['text'], truncation=True)"
   ]
  },
  {
   "cell_type": "code",
   "execution_count": 42,
   "id": "a4c09f3f-1579-4fe7-b758-9e444aa953fd",
   "metadata": {},
   "outputs": [
    {
     "data": {
      "application/vnd.jupyter.widget-view+json": {
       "model_id": "ae2195e64d744c479ccad29555eba870",
       "version_major": 2,
       "version_minor": 0
      },
      "text/plain": [
       "Map:   0%|          | 0/4144 [00:00<?, ? examples/s]"
      ]
     },
     "metadata": {},
     "output_type": "display_data"
    },
    {
     "data": {
      "application/vnd.jupyter.widget-view+json": {
       "model_id": "f123bfaaa8164eda996497dc7d0f2696",
       "version_major": 2,
       "version_minor": 0
      },
      "text/plain": [
       "Map:   0%|          | 0/1037 [00:00<?, ? examples/s]"
      ]
     },
     "metadata": {},
     "output_type": "display_data"
    },
    {
     "data": {
      "text/plain": [
       "DatasetDict({\n",
       "    train: Dataset({\n",
       "        features: ['text', 'label', 'text_length', '__index_level_0__', 'input_ids', 'token_type_ids', 'attention_mask'],\n",
       "        num_rows: 4144\n",
       "    })\n",
       "    test: Dataset({\n",
       "        features: ['text', 'label', 'text_length', '__index_level_0__', 'input_ids', 'token_type_ids', 'attention_mask'],\n",
       "        num_rows: 1037\n",
       "    })\n",
       "})"
      ]
     },
     "execution_count": 42,
     "metadata": {},
     "output_type": "execute_result"
    }
   ],
   "source": [
    "tokenized_ds = ds.map(tokenize, batched=True)\n",
    "tokenized_ds"
   ]
  },
  {
   "cell_type": "code",
   "execution_count": 43,
   "id": "981c413c-2a2a-4c60-bd10-eb285d002e3a",
   "metadata": {},
   "outputs": [],
   "source": [
    "from transformers import DataCollatorWithPadding\n",
    "\n",
    "data_collator = DataCollatorWithPadding(tokenizer)"
   ]
  },
  {
   "cell_type": "code",
   "execution_count": 44,
   "id": "519cf4ee-65c0-4f0d-87da-543b295df488",
   "metadata": {},
   "outputs": [],
   "source": [
    "import evaluate\n",
    "\n",
    "accuracy = evaluate.load(\"accuracy\")\n",
    "\n",
    "def compute_metrics(eval_pred):\n",
    "    predictions, labels = eval_pred\n",
    "    predictions = np.argmax(predictions, axis=1)\n",
    "    return accuracy.compute(predictions=predictions, references=labels)\n"
   ]
  },
  {
   "cell_type": "code",
   "execution_count": 45,
   "id": "218c1260-3f85-42b5-8ba4-e8d4a7fdca7a",
   "metadata": {},
   "outputs": [],
   "source": [
    "id2label = {0: \"negative\", 1: \"positive\"}  \n",
    "label2id = {\"negative\": 0, \"positive\": 1}\n"
   ]
  },
  {
   "cell_type": "code",
   "execution_count": 46,
   "id": "9d36ce3c-bb18-4a7b-9b27-014159810e56",
   "metadata": {},
   "outputs": [
    {
     "name": "stderr",
     "output_type": "stream",
     "text": [
      "Some weights of BertForSequenceClassification were not initialized from the model checkpoint at bert-base-uncased and are newly initialized: ['classifier.bias', 'classifier.weight']\n",
      "You should probably TRAIN this model on a down-stream task to be able to use it for predictions and inference.\n"
     ]
    }
   ],
   "source": [
    "from transformers import AutoModelForSequenceClassification\n",
    "\n",
    "model = AutoModelForSequenceClassification.from_pretrained(\n",
    "    \"bert-base-uncased\", num_labels=2, id2label=id2label, label2id=label2id\n",
    ")"
   ]
  },
  {
   "cell_type": "code",
   "execution_count": 47,
   "id": "4cf952c2-21a4-46ff-b1f2-897fb55dae28",
   "metadata": {},
   "outputs": [],
   "source": [
    "from transformers import TrainingArguments\n",
    "\n",
    "finetuned_model_name = 'PatWang/bert-base-uncased-finetuned-sql-classification-with_schema_question'\n",
    "batch_size = 4\n",
    "\n",
    "training_args = TrainingArguments(\n",
    "    output_dir=finetuned_model_name,\n",
    "    num_train_epochs=5,\n",
    "    per_device_train_batch_size=batch_size,\n",
    "    per_device_eval_batch_size=batch_size,\n",
    "    evaluation_strategy='epoch',\n",
    "    save_strategy='epoch'\n",
    ")"
   ]
  },
  {
   "cell_type": "code",
   "execution_count": 48,
   "id": "8bd00a9b-fe1f-4627-b9e3-82a4efcd563d",
   "metadata": {},
   "outputs": [],
   "source": [
    "from transformers import Trainer\n",
    "\n",
    "trainer = Trainer(\n",
    "    model,\n",
    "    training_args,\n",
    "    train_dataset=tokenized_ds['train'],\n",
    "    eval_dataset=tokenized_ds['test'],\n",
    "    tokenizer=tokenizer,\n",
    "    compute_metrics=compute_metrics\n",
    ")"
   ]
  },
  {
   "cell_type": "code",
   "execution_count": 49,
   "id": "496d92df-f4c2-4233-a3b4-03e33b056afb",
   "metadata": {},
   "outputs": [],
   "source": [
    "# preds_output = trainer.predict(tokenized_ds['test'])\n",
    "# preds_output.metrics"
   ]
  },
  {
   "cell_type": "code",
   "execution_count": 50,
   "id": "589dc526-b338-486e-b63a-7b23c548b664",
   "metadata": {},
   "outputs": [],
   "source": [
    "# trainer.train()"
   ]
  },
  {
   "cell_type": "code",
   "execution_count": 51,
   "id": "18dca2a5-bb17-47e4-bc95-05e37a1c104c",
   "metadata": {},
   "outputs": [],
   "source": [
    "# from huggingface_hub import notebook_login\n",
    "\n",
    "# notebook_login()"
   ]
  },
  {
   "cell_type": "code",
   "execution_count": 52,
   "id": "7f488657-66aa-453a-acc3-46d2d785a70d",
   "metadata": {},
   "outputs": [],
   "source": [
    "# trainer.push_to_hub()"
   ]
  },
  {
   "cell_type": "code",
   "execution_count": 53,
   "id": "b0cbe68e-c5c4-4b4d-8c54-ccc4db2c6a6c",
   "metadata": {},
   "outputs": [
    {
     "data": {
      "text/plain": [
       "Dataset({\n",
       "    features: ['text', 'label', 'text_length', '__index_level_0__'],\n",
       "    num_rows: 1037\n",
       "})"
      ]
     },
     "execution_count": 53,
     "metadata": {},
     "output_type": "execute_result"
    }
   ],
   "source": [
    "ds['test']"
   ]
  },
  {
   "cell_type": "code",
   "execution_count": 55,
   "id": "892094aa-ccf8-4f16-aa1c-fa1d8c91a384",
   "metadata": {},
   "outputs": [
    {
     "data": {
      "text/plain": [
       "'[Schema]: Person(id, first_name, last_name, year_born) primary key : {id} [Question]: Assume persons who were born in the same year are the same age and there is only one youngest person (with no ties/draws) in this database, who is/are the second youngest person(s) in the database? List the id(s) of the person(s). [Answer]: select id from person where year_born=(\\r\\nselect max(year_born) from person where year_born <> (select max(year_born) from person)\\r\\n);'"
      ]
     },
     "execution_count": 55,
     "metadata": {},
     "output_type": "execute_result"
    }
   ],
   "source": [
    "ds['test']['text'][0]"
   ]
  },
  {
   "cell_type": "markdown",
   "id": "57e02c1e-f531-4313-9206-b3cf4e1eebc9",
   "metadata": {},
   "source": [
    "# Test result from different schemas"
   ]
  },
  {
   "cell_type": "code",
   "execution_count": 109,
   "id": "4ab29f01-977f-4610-a675-5ba25bd65a92",
   "metadata": {},
   "outputs": [],
   "source": [
    "df = pd.read_json('sql_create_context_v4.json')"
   ]
  },
  {
   "cell_type": "code",
   "execution_count": 110,
   "id": "373680ec-bbe5-408a-8f58-d15af4f8aaea",
   "metadata": {},
   "outputs": [
    {
     "data": {
      "text/html": [
       "<div>\n",
       "<style scoped>\n",
       "    .dataframe tbody tr th:only-of-type {\n",
       "        vertical-align: middle;\n",
       "    }\n",
       "\n",
       "    .dataframe tbody tr th {\n",
       "        vertical-align: top;\n",
       "    }\n",
       "\n",
       "    .dataframe thead th {\n",
       "        text-align: right;\n",
       "    }\n",
       "</style>\n",
       "<table border=\"1\" class=\"dataframe\">\n",
       "  <thead>\n",
       "    <tr style=\"text-align: right;\">\n",
       "      <th></th>\n",
       "      <th>question</th>\n",
       "      <th>context</th>\n",
       "      <th>answer</th>\n",
       "    </tr>\n",
       "  </thead>\n",
       "  <tbody>\n",
       "    <tr>\n",
       "      <th>0</th>\n",
       "      <td>How many heads of the departments are older th...</td>\n",
       "      <td>CREATE TABLE head (age INTEGER)</td>\n",
       "      <td>SELECT COUNT(*) FROM head WHERE age &gt; 56</td>\n",
       "    </tr>\n",
       "    <tr>\n",
       "      <th>1</th>\n",
       "      <td>List the name, born state and age of the heads...</td>\n",
       "      <td>CREATE TABLE head (name VARCHAR, born_state VA...</td>\n",
       "      <td>SELECT name, born_state, age FROM head ORDER B...</td>\n",
       "    </tr>\n",
       "    <tr>\n",
       "      <th>2</th>\n",
       "      <td>List the creation year, name and budget of eac...</td>\n",
       "      <td>CREATE TABLE department (creation VARCHAR, nam...</td>\n",
       "      <td>SELECT creation, name, budget_in_billions FROM...</td>\n",
       "    </tr>\n",
       "    <tr>\n",
       "      <th>3</th>\n",
       "      <td>What are the maximum and minimum budget of the...</td>\n",
       "      <td>CREATE TABLE department (budget_in_billions IN...</td>\n",
       "      <td>SELECT MAX(budget_in_billions), MIN(budget_in_...</td>\n",
       "    </tr>\n",
       "    <tr>\n",
       "      <th>4</th>\n",
       "      <td>What is the average number of employees of the...</td>\n",
       "      <td>CREATE TABLE department (num_employees INTEGER...</td>\n",
       "      <td>SELECT AVG(num_employees) FROM department WHER...</td>\n",
       "    </tr>\n",
       "  </tbody>\n",
       "</table>\n",
       "</div>"
      ],
      "text/plain": [
       "                                            question  \\\n",
       "0  How many heads of the departments are older th...   \n",
       "1  List the name, born state and age of the heads...   \n",
       "2  List the creation year, name and budget of eac...   \n",
       "3  What are the maximum and minimum budget of the...   \n",
       "4  What is the average number of employees of the...   \n",
       "\n",
       "                                             context  \\\n",
       "0                    CREATE TABLE head (age INTEGER)   \n",
       "1  CREATE TABLE head (name VARCHAR, born_state VA...   \n",
       "2  CREATE TABLE department (creation VARCHAR, nam...   \n",
       "3  CREATE TABLE department (budget_in_billions IN...   \n",
       "4  CREATE TABLE department (num_employees INTEGER...   \n",
       "\n",
       "                                              answer  \n",
       "0           SELECT COUNT(*) FROM head WHERE age > 56  \n",
       "1  SELECT name, born_state, age FROM head ORDER B...  \n",
       "2  SELECT creation, name, budget_in_billions FROM...  \n",
       "3  SELECT MAX(budget_in_billions), MIN(budget_in_...  \n",
       "4  SELECT AVG(num_employees) FROM department WHER...  "
      ]
     },
     "execution_count": 110,
     "metadata": {},
     "output_type": "execute_result"
    }
   ],
   "source": [
    "df.head()"
   ]
  },
  {
   "cell_type": "code",
   "execution_count": 111,
   "id": "b9cc367f-33b3-4d04-9945-fb664293e25f",
   "metadata": {},
   "outputs": [],
   "source": [
    "def add_content(row):\n",
    "    return \"[Question]: \" + str(row)\n",
    "\n",
    "# Apply the function to the 'cleaned_preamble' column\n",
    "df['question'] = df['question'].apply(add_content)"
   ]
  },
  {
   "cell_type": "code",
   "execution_count": 112,
   "id": "d0970a82-ab1b-48e1-a619-83bc43aec40f",
   "metadata": {},
   "outputs": [],
   "source": [
    "def add_content(row):\n",
    "    return \"[Question]: \" + str(row)\n",
    "\n",
    "# Apply the function to the 'cleaned_preamble' column\n",
    "df['question'] = df['question'].apply(add_content)"
   ]
  },
  {
   "cell_type": "code",
   "execution_count": 113,
   "id": "76f600ff-427e-4b09-8ae0-aa3bdd1300bf",
   "metadata": {},
   "outputs": [],
   "source": [
    "length = {}\n",
    "for i in range(1000):\n",
    "    length[i] = len(df['context'][i])\n"
   ]
  },
  {
   "cell_type": "code",
   "execution_count": 114,
   "id": "c42f8c1a-9b0f-43e8-90a1-0b810721e209",
   "metadata": {},
   "outputs": [],
   "source": [
    "max_key = max(length, key=length.get)\n",
    "max_value = length[max_key]\n"
   ]
  },
  {
   "cell_type": "code",
   "execution_count": 115,
   "id": "9b149c50-a7f0-4ff1-8ae8-d1971c7c9785",
   "metadata": {},
   "outputs": [
    {
     "data": {
      "text/plain": [
       "734"
      ]
     },
     "execution_count": 115,
     "metadata": {},
     "output_type": "execute_result"
    }
   ],
   "source": [
    "max_key"
   ]
  },
  {
   "cell_type": "code",
   "execution_count": 116,
   "id": "fc598cb9-3077-4d30-993c-1b47a3d9347e",
   "metadata": {},
   "outputs": [
    {
     "data": {
      "text/plain": [
       "292"
      ]
     },
     "execution_count": 116,
     "metadata": {},
     "output_type": "execute_result"
    }
   ],
   "source": [
    "max_value"
   ]
  },
  {
   "cell_type": "code",
   "execution_count": 117,
   "id": "0509cd45-6f71-41da-b23d-15488427d677",
   "metadata": {},
   "outputs": [
    {
     "data": {
      "text/plain": [
       "292"
      ]
     },
     "execution_count": 117,
     "metadata": {},
     "output_type": "execute_result"
    }
   ],
   "source": [
    "length[734]"
   ]
  },
  {
   "cell_type": "code",
   "execution_count": 118,
   "id": "f9b91fc2-1801-43b2-90b4-b497fc206ff7",
   "metadata": {},
   "outputs": [
    {
     "data": {
      "text/plain": [
       "'CREATE TABLE stadium (name VARCHAR, average_attendance VARCHAR, total_attendance VARCHAR, id VARCHAR); CREATE TABLE stadium (name VARCHAR, average_attendance VARCHAR, total_attendance VARCHAR); CREATE TABLE game (stadium_id VARCHAR, id VARCHAR); CREATE TABLE injury_accident (game_id VARCHAR)'"
      ]
     },
     "execution_count": 118,
     "metadata": {},
     "output_type": "execute_result"
    }
   ],
   "source": [
    "df['context'][734]"
   ]
  },
  {
   "cell_type": "code",
   "execution_count": null,
   "id": "a2f8817c-320b-47aa-875c-089d51a00195",
   "metadata": {},
   "outputs": [],
   "source": []
  }
 ],
 "metadata": {
  "kernelspec": {
   "display_name": "Python 3 (ipykernel)",
   "language": "python",
   "name": "python3"
  },
  "language_info": {
   "codemirror_mode": {
    "name": "ipython",
    "version": 3
   },
   "file_extension": ".py",
   "mimetype": "text/x-python",
   "name": "python",
   "nbconvert_exporter": "python",
   "pygments_lexer": "ipython3",
   "version": "3.11.5"
  }
 },
 "nbformat": 4,
 "nbformat_minor": 5
}
