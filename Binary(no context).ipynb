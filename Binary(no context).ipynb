{
 "cells": [
  {
   "cell_type": "code",
   "execution_count": 12,
   "id": "9a3452e7-2329-466e-b24b-ad14f014eda2",
   "metadata": {},
   "outputs": [],
   "source": [
    "import numpy as np\n",
    "import pandas as pd\n",
    "from datasets import Dataset\n",
    "from transformers import TrainingArguments\n",
    "from transformers import Trainer\n"
   ]
  },
  {
   "cell_type": "markdown",
   "id": "7ff59244-cfc3-4b38-80a1-8602ed7980a7",
   "metadata": {},
   "source": [
    "# import data"
   ]
  },
  {
   "cell_type": "code",
   "execution_count": 13,
   "id": "8774f80f-9ca4-4ef6-98da-40a10927dd61",
   "metadata": {},
   "outputs": [],
   "source": [
    "raw_data = pd.read_csv('training_data.csv')"
   ]
  },
  {
   "cell_type": "code",
   "execution_count": 14,
   "id": "34514cb5-f499-4327-a31e-b846de76d8be",
   "metadata": {},
   "outputs": [
    {
     "data": {
      "text/html": [
       "<div>\n",
       "<style scoped>\n",
       "    .dataframe tbody tr th:only-of-type {\n",
       "        vertical-align: middle;\n",
       "    }\n",
       "\n",
       "    .dataframe tbody tr th {\n",
       "        vertical-align: top;\n",
       "    }\n",
       "\n",
       "    .dataframe thead th {\n",
       "        text-align: right;\n",
       "    }\n",
       "</style>\n",
       "<table border=\"1\" class=\"dataframe\">\n",
       "  <thead>\n",
       "    <tr style=\"text-align: right;\">\n",
       "      <th></th>\n",
       "      <th>submission_id</th>\n",
       "      <th>submitted_answer</th>\n",
       "      <th>submission_time</th>\n",
       "      <th>exercise_id</th>\n",
       "      <th>is_correct</th>\n",
       "      <th>student_id</th>\n",
       "      <th>category</th>\n",
       "    </tr>\n",
       "  </thead>\n",
       "  <tbody>\n",
       "    <tr>\n",
       "      <th>0</th>\n",
       "      <td>1409</td>\n",
       "      <td>SELECT SUM(first_name)\\r\\nFROM person \\r\\nWHER...</td>\n",
       "      <td>2018-08-22 09:03:34.219155+10</td>\n",
       "      <td>1</td>\n",
       "      <td>0</td>\n",
       "      <td>240</td>\n",
       "      <td>noninterpretable</td>\n",
       "    </tr>\n",
       "    <tr>\n",
       "      <th>1</th>\n",
       "      <td>53</td>\n",
       "      <td>SELECT COUNT(*) FROM (SELECT DISTINCT person.i...</td>\n",
       "      <td>2018-08-10 12:31:49.231881+10</td>\n",
       "      <td>1</td>\n",
       "      <td>1</td>\n",
       "      <td>12</td>\n",
       "      <td>correct</td>\n",
       "    </tr>\n",
       "    <tr>\n",
       "      <th>2</th>\n",
       "      <td>54</td>\n",
       "      <td>SELECT COUNT(*) FROM (SELECT DISTINCT person.i...</td>\n",
       "      <td>2018-08-10 12:32:19.970559+10</td>\n",
       "      <td>1</td>\n",
       "      <td>1</td>\n",
       "      <td>12</td>\n",
       "      <td>correct</td>\n",
       "    </tr>\n",
       "    <tr>\n",
       "      <th>3</th>\n",
       "      <td>55</td>\n",
       "      <td>SELECT COUNT(*) FROM (SELECT person.id FROM pe...</td>\n",
       "      <td>2018-08-10 12:35:12.280294+10</td>\n",
       "      <td>1</td>\n",
       "      <td>0</td>\n",
       "      <td>12</td>\n",
       "      <td>partially correct</td>\n",
       "    </tr>\n",
       "    <tr>\n",
       "      <th>4</th>\n",
       "      <td>56</td>\n",
       "      <td>SELECT production_year, COUNT(*) FROM movie \\r...</td>\n",
       "      <td>2018-08-10 12:48:24.607193+10</td>\n",
       "      <td>2</td>\n",
       "      <td>1</td>\n",
       "      <td>12</td>\n",
       "      <td>correct</td>\n",
       "    </tr>\n",
       "    <tr>\n",
       "      <th>5</th>\n",
       "      <td>57</td>\n",
       "      <td>SELECT COUNT(*) FROM person\\r\\nWHERE person.id...</td>\n",
       "      <td>2018-08-10 12:51:54.063001+10</td>\n",
       "      <td>12</td>\n",
       "      <td>1</td>\n",
       "      <td>12</td>\n",
       "      <td>correct</td>\n",
       "    </tr>\n",
       "    <tr>\n",
       "      <th>6</th>\n",
       "      <td>58</td>\n",
       "      <td>SELECT p.id, p.first_name, p.last_name FROM pe...</td>\n",
       "      <td>2018-08-10 13:01:57.66289+10</td>\n",
       "      <td>4</td>\n",
       "      <td>1</td>\n",
       "      <td>12</td>\n",
       "      <td>correct</td>\n",
       "    </tr>\n",
       "    <tr>\n",
       "      <th>7</th>\n",
       "      <td>59</td>\n",
       "      <td>SELECT mw.title, mw.production_year\\r\\nFROM (m...</td>\n",
       "      <td>2018-08-10 13:08:43.24407+10</td>\n",
       "      <td>5</td>\n",
       "      <td>1</td>\n",
       "      <td>12</td>\n",
       "      <td>correct</td>\n",
       "    </tr>\n",
       "    <tr>\n",
       "      <th>8</th>\n",
       "      <td>60</td>\n",
       "      <td>SELECT country FROM restriction\\r\\nWHERE LOWER...</td>\n",
       "      <td>2018-08-10 14:56:33.969809+10</td>\n",
       "      <td>6</td>\n",
       "      <td>1</td>\n",
       "      <td>12</td>\n",
       "      <td>correct</td>\n",
       "    </tr>\n",
       "    <tr>\n",
       "      <th>9</th>\n",
       "      <td>61</td>\n",
       "      <td>SELECT id, first_name, last_name FROM person\\r...</td>\n",
       "      <td>2018-08-10 14:59:15.472475+10</td>\n",
       "      <td>7</td>\n",
       "      <td>1</td>\n",
       "      <td>12</td>\n",
       "      <td>correct</td>\n",
       "    </tr>\n",
       "  </tbody>\n",
       "</table>\n",
       "</div>"
      ],
      "text/plain": [
       "   submission_id                                   submitted_answer  \\\n",
       "0           1409  SELECT SUM(first_name)\\r\\nFROM person \\r\\nWHER...   \n",
       "1             53  SELECT COUNT(*) FROM (SELECT DISTINCT person.i...   \n",
       "2             54  SELECT COUNT(*) FROM (SELECT DISTINCT person.i...   \n",
       "3             55  SELECT COUNT(*) FROM (SELECT person.id FROM pe...   \n",
       "4             56  SELECT production_year, COUNT(*) FROM movie \\r...   \n",
       "5             57  SELECT COUNT(*) FROM person\\r\\nWHERE person.id...   \n",
       "6             58  SELECT p.id, p.first_name, p.last_name FROM pe...   \n",
       "7             59  SELECT mw.title, mw.production_year\\r\\nFROM (m...   \n",
       "8             60  SELECT country FROM restriction\\r\\nWHERE LOWER...   \n",
       "9             61  SELECT id, first_name, last_name FROM person\\r...   \n",
       "\n",
       "                 submission_time  exercise_id  is_correct  student_id  \\\n",
       "0  2018-08-22 09:03:34.219155+10            1           0         240   \n",
       "1  2018-08-10 12:31:49.231881+10            1           1          12   \n",
       "2  2018-08-10 12:32:19.970559+10            1           1          12   \n",
       "3  2018-08-10 12:35:12.280294+10            1           0          12   \n",
       "4  2018-08-10 12:48:24.607193+10            2           1          12   \n",
       "5  2018-08-10 12:51:54.063001+10           12           1          12   \n",
       "6   2018-08-10 13:01:57.66289+10            4           1          12   \n",
       "7   2018-08-10 13:08:43.24407+10            5           1          12   \n",
       "8  2018-08-10 14:56:33.969809+10            6           1          12   \n",
       "9  2018-08-10 14:59:15.472475+10            7           1          12   \n",
       "\n",
       "            category  \n",
       "0   noninterpretable  \n",
       "1            correct  \n",
       "2            correct  \n",
       "3  partially correct  \n",
       "4            correct  \n",
       "5            correct  \n",
       "6            correct  \n",
       "7            correct  \n",
       "8            correct  \n",
       "9            correct  "
      ]
     },
     "execution_count": 14,
     "metadata": {},
     "output_type": "execute_result"
    }
   ],
   "source": [
    "raw_data[:10]"
   ]
  },
  {
   "cell_type": "code",
   "execution_count": 93,
   "id": "0d3c38a9-2a49-4aec-bb2c-33848a774560",
   "metadata": {},
   "outputs": [
    {
     "name": "stdout",
     "output_type": "stream",
     "text": [
      "<class 'pandas.core.frame.DataFrame'>\n",
      "RangeIndex: 12899 entries, 0 to 12898\n",
      "Data columns (total 7 columns):\n",
      " #   Column            Non-Null Count  Dtype \n",
      "---  ------            --------------  ----- \n",
      " 0   submission_id     12899 non-null  int64 \n",
      " 1   submitted_answer  12897 non-null  object\n",
      " 2   submission_time   12899 non-null  object\n",
      " 3   exercise_id       12899 non-null  int64 \n",
      " 4   is_correct        12899 non-null  int64 \n",
      " 5   student_id        12899 non-null  int64 \n",
      " 6   category          12899 non-null  object\n",
      "dtypes: int64(4), object(3)\n",
      "memory usage: 705.5+ KB\n"
     ]
    }
   ],
   "source": [
    "raw_data.info()"
   ]
  },
  {
   "cell_type": "code",
   "execution_count": 16,
   "id": "c5e221a1-5c40-4ddf-9d4c-8624db35820f",
   "metadata": {},
   "outputs": [],
   "source": [
    "df = raw_data.dropna()"
   ]
  },
  {
   "cell_type": "code",
   "execution_count": 7,
   "id": "4115b2ab-74f4-4d2d-ba16-88fb2f092d52",
   "metadata": {},
   "outputs": [
    {
     "name": "stdout",
     "output_type": "stream",
     "text": [
      "<class 'pandas.core.frame.DataFrame'>\n",
      "Index: 12897 entries, 0 to 12898\n",
      "Data columns (total 7 columns):\n",
      " #   Column            Non-Null Count  Dtype \n",
      "---  ------            --------------  ----- \n",
      " 0   submission_id     12897 non-null  int64 \n",
      " 1   submitted_answer  12897 non-null  object\n",
      " 2   submission_time   12897 non-null  object\n",
      " 3   exercise_id       12897 non-null  int64 \n",
      " 4   is_correct        12897 non-null  int64 \n",
      " 5   student_id        12897 non-null  int64 \n",
      " 6   category          12897 non-null  object\n",
      "dtypes: int64(4), object(3)\n",
      "memory usage: 806.1+ KB\n"
     ]
    }
   ],
   "source": [
    "df.info()"
   ]
  },
  {
   "cell_type": "code",
   "execution_count": 17,
   "id": "e9d929e9-8e1c-4b8c-af4b-bcda5f5471ba",
   "metadata": {},
   "outputs": [
    {
     "data": {
      "text/html": [
       "<div>\n",
       "<style scoped>\n",
       "    .dataframe tbody tr th:only-of-type {\n",
       "        vertical-align: middle;\n",
       "    }\n",
       "\n",
       "    .dataframe tbody tr th {\n",
       "        vertical-align: top;\n",
       "    }\n",
       "\n",
       "    .dataframe thead th {\n",
       "        text-align: right;\n",
       "    }\n",
       "</style>\n",
       "<table border=\"1\" class=\"dataframe\">\n",
       "  <thead>\n",
       "    <tr style=\"text-align: right;\">\n",
       "      <th></th>\n",
       "      <th>submitted_answer</th>\n",
       "      <th>is_correct</th>\n",
       "    </tr>\n",
       "  </thead>\n",
       "  <tbody>\n",
       "    <tr>\n",
       "      <th>0</th>\n",
       "      <td>SELECT SUM(first_name)\\r\\nFROM person \\r\\nWHER...</td>\n",
       "      <td>0</td>\n",
       "    </tr>\n",
       "    <tr>\n",
       "      <th>1</th>\n",
       "      <td>SELECT COUNT(*) FROM (SELECT DISTINCT person.i...</td>\n",
       "      <td>1</td>\n",
       "    </tr>\n",
       "    <tr>\n",
       "      <th>2</th>\n",
       "      <td>SELECT COUNT(*) FROM (SELECT DISTINCT person.i...</td>\n",
       "      <td>1</td>\n",
       "    </tr>\n",
       "    <tr>\n",
       "      <th>3</th>\n",
       "      <td>SELECT COUNT(*) FROM (SELECT person.id FROM pe...</td>\n",
       "      <td>0</td>\n",
       "    </tr>\n",
       "    <tr>\n",
       "      <th>4</th>\n",
       "      <td>SELECT production_year, COUNT(*) FROM movie \\r...</td>\n",
       "      <td>1</td>\n",
       "    </tr>\n",
       "    <tr>\n",
       "      <th>...</th>\n",
       "      <td>...</td>\n",
       "      <td>...</td>\n",
       "    </tr>\n",
       "    <tr>\n",
       "      <th>12894</th>\n",
       "      <td>SELECT count(*) \\r\\nFROM movie m \\r\\nWHERE not...</td>\n",
       "      <td>1</td>\n",
       "    </tr>\n",
       "    <tr>\n",
       "      <th>12895</th>\n",
       "      <td>;</td>\n",
       "      <td>0</td>\n",
       "    </tr>\n",
       "    <tr>\n",
       "      <th>12896</th>\n",
       "      <td>SELECT p.id \\r\\nFROM person p \\r\\nWHERE p.year...</td>\n",
       "      <td>1</td>\n",
       "    </tr>\n",
       "    <tr>\n",
       "      <th>12897</th>\n",
       "      <td>select p.first_name, p.last_name, r.title, r.p...</td>\n",
       "      <td>1</td>\n",
       "    </tr>\n",
       "    <tr>\n",
       "      <th>12898</th>\n",
       "      <td>;</td>\n",
       "      <td>0</td>\n",
       "    </tr>\n",
       "  </tbody>\n",
       "</table>\n",
       "<p>12897 rows × 2 columns</p>\n",
       "</div>"
      ],
      "text/plain": [
       "                                        submitted_answer  is_correct\n",
       "0      SELECT SUM(first_name)\\r\\nFROM person \\r\\nWHER...           0\n",
       "1      SELECT COUNT(*) FROM (SELECT DISTINCT person.i...           1\n",
       "2      SELECT COUNT(*) FROM (SELECT DISTINCT person.i...           1\n",
       "3      SELECT COUNT(*) FROM (SELECT person.id FROM pe...           0\n",
       "4      SELECT production_year, COUNT(*) FROM movie \\r...           1\n",
       "...                                                  ...         ...\n",
       "12894  SELECT count(*) \\r\\nFROM movie m \\r\\nWHERE not...           1\n",
       "12895                                                  ;           0\n",
       "12896  SELECT p.id \\r\\nFROM person p \\r\\nWHERE p.year...           1\n",
       "12897  select p.first_name, p.last_name, r.title, r.p...           1\n",
       "12898                                                  ;           0\n",
       "\n",
       "[12897 rows x 2 columns]"
      ]
     },
     "execution_count": 17,
     "metadata": {},
     "output_type": "execute_result"
    }
   ],
   "source": [
    "df = df.drop(['submission_id', 'category', 'submission_time', 'exercise_id', 'student_id', 'category'], axis=1)\n",
    "df"
   ]
  },
  {
   "cell_type": "code",
   "execution_count": 97,
   "id": "4525e844-a1e9-4984-a2f1-49cc2cf50608",
   "metadata": {},
   "outputs": [
    {
     "data": {
      "text/plain": [
       "<Axes: xlabel='is_correct'>"
      ]
     },
     "execution_count": 97,
     "metadata": {},
     "output_type": "execute_result"
    },
    {
     "data": {
      "image/png": "[encoded data removed]",
      "text/plain": [
       "<Figure size 640x480 with 1 Axes>"
      ]
     },
     "metadata": {},
     "output_type": "display_data"
    }
   ],
   "source": [
    "df['is_correct'].value_counts().plot(kind='bar')\n"
   ]
  },
  {
   "cell_type": "code",
   "execution_count": 18,
   "id": "4bb19d98-a612-430a-bd29-8f32477fe758",
   "metadata": {},
   "outputs": [
    {
     "data": {
      "text/html": [
       "<div>\n",
       "<style scoped>\n",
       "    .dataframe tbody tr th:only-of-type {\n",
       "        vertical-align: middle;\n",
       "    }\n",
       "\n",
       "    .dataframe tbody tr th {\n",
       "        vertical-align: top;\n",
       "    }\n",
       "\n",
       "    .dataframe thead th {\n",
       "        text-align: right;\n",
       "    }\n",
       "</style>\n",
       "<table border=\"1\" class=\"dataframe\">\n",
       "  <thead>\n",
       "    <tr style=\"text-align: right;\">\n",
       "      <th></th>\n",
       "      <th>text</th>\n",
       "      <th>label</th>\n",
       "    </tr>\n",
       "  </thead>\n",
       "  <tbody>\n",
       "    <tr>\n",
       "      <th>0</th>\n",
       "      <td>SELECT SUM(first_name)\\r\\nFROM person \\r\\nWHER...</td>\n",
       "      <td>0</td>\n",
       "    </tr>\n",
       "    <tr>\n",
       "      <th>1</th>\n",
       "      <td>SELECT COUNT(*) FROM (SELECT DISTINCT person.i...</td>\n",
       "      <td>1</td>\n",
       "    </tr>\n",
       "    <tr>\n",
       "      <th>2</th>\n",
       "      <td>SELECT COUNT(*) FROM (SELECT DISTINCT person.i...</td>\n",
       "      <td>1</td>\n",
       "    </tr>\n",
       "    <tr>\n",
       "      <th>3</th>\n",
       "      <td>SELECT COUNT(*) FROM (SELECT person.id FROM pe...</td>\n",
       "      <td>0</td>\n",
       "    </tr>\n",
       "    <tr>\n",
       "      <th>4</th>\n",
       "      <td>SELECT production_year, COUNT(*) FROM movie \\r...</td>\n",
       "      <td>1</td>\n",
       "    </tr>\n",
       "    <tr>\n",
       "      <th>...</th>\n",
       "      <td>...</td>\n",
       "      <td>...</td>\n",
       "    </tr>\n",
       "    <tr>\n",
       "      <th>12894</th>\n",
       "      <td>SELECT count(*) \\r\\nFROM movie m \\r\\nWHERE not...</td>\n",
       "      <td>1</td>\n",
       "    </tr>\n",
       "    <tr>\n",
       "      <th>12895</th>\n",
       "      <td>;</td>\n",
       "      <td>0</td>\n",
       "    </tr>\n",
       "    <tr>\n",
       "      <th>12896</th>\n",
       "      <td>SELECT p.id \\r\\nFROM person p \\r\\nWHERE p.year...</td>\n",
       "      <td>1</td>\n",
       "    </tr>\n",
       "    <tr>\n",
       "      <th>12897</th>\n",
       "      <td>select p.first_name, p.last_name, r.title, r.p...</td>\n",
       "      <td>1</td>\n",
       "    </tr>\n",
       "    <tr>\n",
       "      <th>12898</th>\n",
       "      <td>;</td>\n",
       "      <td>0</td>\n",
       "    </tr>\n",
       "  </tbody>\n",
       "</table>\n",
       "<p>12897 rows × 2 columns</p>\n",
       "</div>"
      ],
      "text/plain": [
       "                                                    text  label\n",
       "0      SELECT SUM(first_name)\\r\\nFROM person \\r\\nWHER...      0\n",
       "1      SELECT COUNT(*) FROM (SELECT DISTINCT person.i...      1\n",
       "2      SELECT COUNT(*) FROM (SELECT DISTINCT person.i...      1\n",
       "3      SELECT COUNT(*) FROM (SELECT person.id FROM pe...      0\n",
       "4      SELECT production_year, COUNT(*) FROM movie \\r...      1\n",
       "...                                                  ...    ...\n",
       "12894  SELECT count(*) \\r\\nFROM movie m \\r\\nWHERE not...      1\n",
       "12895                                                  ;      0\n",
       "12896  SELECT p.id \\r\\nFROM person p \\r\\nWHERE p.year...      1\n",
       "12897  select p.first_name, p.last_name, r.title, r.p...      1\n",
       "12898                                                  ;      0\n",
       "\n",
       "[12897 rows x 2 columns]"
      ]
     },
     "execution_count": 18,
     "metadata": {},
     "output_type": "execute_result"
    }
   ],
   "source": [
    "df.rename(columns = {'submitted_answer':'text', 'is_correct':'label'}, inplace=True)\n",
    "df"
   ]
  },
  {
   "cell_type": "markdown",
   "id": "1f50f20c-bf87-4365-8511-71e2a0626ec3",
   "metadata": {},
   "source": [
    "# subset(1000)"
   ]
  },
  {
   "cell_type": "code",
   "execution_count": 63,
   "id": "d52f3d68-82ef-40d7-8a80-77befd59f7b9",
   "metadata": {},
   "outputs": [
    {
     "data": {
      "text/html": [
       "<div>\n",
       "<style scoped>\n",
       "    .dataframe tbody tr th:only-of-type {\n",
       "        vertical-align: middle;\n",
       "    }\n",
       "\n",
       "    .dataframe tbody tr th {\n",
       "        vertical-align: top;\n",
       "    }\n",
       "\n",
       "    .dataframe thead th {\n",
       "        text-align: right;\n",
       "    }\n",
       "</style>\n",
       "<table border=\"1\" class=\"dataframe\">\n",
       "  <thead>\n",
       "    <tr style=\"text-align: right;\">\n",
       "      <th></th>\n",
       "      <th>text</th>\n",
       "      <th>label</th>\n",
       "    </tr>\n",
       "  </thead>\n",
       "  <tbody>\n",
       "    <tr>\n",
       "      <th>0</th>\n",
       "      <td>SELECT SUM(first_name)\\r\\nFROM person \\r\\nWHER...</td>\n",
       "      <td>0</td>\n",
       "    </tr>\n",
       "    <tr>\n",
       "      <th>1</th>\n",
       "      <td>SELECT COUNT(*) FROM (SELECT DISTINCT person.i...</td>\n",
       "      <td>1</td>\n",
       "    </tr>\n",
       "    <tr>\n",
       "      <th>2</th>\n",
       "      <td>SELECT COUNT(*) FROM (SELECT DISTINCT person.i...</td>\n",
       "      <td>1</td>\n",
       "    </tr>\n",
       "    <tr>\n",
       "      <th>3</th>\n",
       "      <td>SELECT COUNT(*) FROM (SELECT person.id FROM pe...</td>\n",
       "      <td>0</td>\n",
       "    </tr>\n",
       "    <tr>\n",
       "      <th>4</th>\n",
       "      <td>SELECT production_year, COUNT(*) FROM movie \\r...</td>\n",
       "      <td>1</td>\n",
       "    </tr>\n",
       "    <tr>\n",
       "      <th>...</th>\n",
       "      <td>...</td>\n",
       "      <td>...</td>\n",
       "    </tr>\n",
       "    <tr>\n",
       "      <th>995</th>\n",
       "      <td>select;\\r\\n</td>\n",
       "      <td>0</td>\n",
       "    </tr>\n",
       "    <tr>\n",
       "      <th>996</th>\n",
       "      <td>SELECT id,first_name,last_name\\r\\nFROM PERSON\\...</td>\n",
       "      <td>1</td>\n",
       "    </tr>\n",
       "    <tr>\n",
       "      <th>997</th>\n",
       "      <td>SELECT\\r\\n    r.id\\r\\nFROM\\r\\n    scene s,\\r\\n...</td>\n",
       "      <td>1</td>\n",
       "    </tr>\n",
       "    <tr>\n",
       "      <th>998</th>\n",
       "      <td>SELECT a.title,a.production_year,b.first_name,...</td>\n",
       "      <td>1</td>\n",
       "    </tr>\n",
       "    <tr>\n",
       "      <th>999</th>\n",
       "      <td>select;\\r\\n</td>\n",
       "      <td>0</td>\n",
       "    </tr>\n",
       "  </tbody>\n",
       "</table>\n",
       "<p>1000 rows × 2 columns</p>\n",
       "</div>"
      ],
      "text/plain": [
       "                                                  text  label\n",
       "0    SELECT SUM(first_name)\\r\\nFROM person \\r\\nWHER...      0\n",
       "1    SELECT COUNT(*) FROM (SELECT DISTINCT person.i...      1\n",
       "2    SELECT COUNT(*) FROM (SELECT DISTINCT person.i...      1\n",
       "3    SELECT COUNT(*) FROM (SELECT person.id FROM pe...      0\n",
       "4    SELECT production_year, COUNT(*) FROM movie \\r...      1\n",
       "..                                                 ...    ...\n",
       "995                                        select;\\r\\n      0\n",
       "996  SELECT id,first_name,last_name\\r\\nFROM PERSON\\...      1\n",
       "997  SELECT\\r\\n    r.id\\r\\nFROM\\r\\n    scene s,\\r\\n...      1\n",
       "998  SELECT a.title,a.production_year,b.first_name,...      1\n",
       "999                                        select;\\r\\n      0\n",
       "\n",
       "[1000 rows x 2 columns]"
      ]
     },
     "execution_count": 63,
     "metadata": {},
     "output_type": "execute_result"
    }
   ],
   "source": [
    "mini_df = df[0:1000]\n",
    "mini_df"
   ]
  },
  {
   "cell_type": "code",
   "execution_count": 64,
   "id": "1bc711dc-dee0-4436-8c6c-63b1d8fd159f",
   "metadata": {},
   "outputs": [],
   "source": [
    "\n",
    "mini_ds = Dataset.from_pandas(mini_df)\n"
   ]
  },
  {
   "cell_type": "code",
   "execution_count": 65,
   "id": "baa892f1-4a64-4f20-8d58-7b1882f92c68",
   "metadata": {},
   "outputs": [
    {
     "data": {
      "text/plain": [
       "DatasetDict({\n",
       "    train: Dataset({\n",
       "        features: ['text', 'label'],\n",
       "        num_rows: 800\n",
       "    })\n",
       "    test: Dataset({\n",
       "        features: ['text', 'label'],\n",
       "        num_rows: 200\n",
       "    })\n",
       "})"
      ]
     },
     "execution_count": 65,
     "metadata": {},
     "output_type": "execute_result"
    }
   ],
   "source": [
    "mini_ds = mini_ds.train_test_split(test_size=0.2)\n",
    "mini_ds"
   ]
  },
  {
   "cell_type": "code",
   "execution_count": 66,
   "id": "89704d5e-bc9c-4a8f-bf52-9bdfd3129a95",
   "metadata": {},
   "outputs": [
    {
     "data": {
      "text/plain": [
       "datasets.dataset_dict.DatasetDict"
      ]
     },
     "execution_count": 66,
     "metadata": {},
     "output_type": "execute_result"
    }
   ],
   "source": [
    "type(mini_ds)"
   ]
  },
  {
   "cell_type": "code",
   "execution_count": 67,
   "id": "16c401d7-8f2d-4144-aa30-44ad78c43929",
   "metadata": {},
   "outputs": [
    {
     "data": {
      "text/plain": [
       "{'text': 'select id, first_name, last_name\\r\\nfrom person \\r\\norder by year_born desc limit 1;',\n",
       " 'label': 1}"
      ]
     },
     "execution_count": 67,
     "metadata": {},
     "output_type": "execute_result"
    }
   ],
   "source": [
    "mini_ds['test'][0]"
   ]
  },
  {
   "cell_type": "code",
   "execution_count": 19,
   "id": "15f8e57c-3665-414b-a10a-1fd164e9c817",
   "metadata": {},
   "outputs": [
    {
     "data": {
      "application/vnd.jupyter.widget-view+json": {
       "model_id": "5e3cdfbebf964c37a90946511c9cbb4d",
       "version_major": 2,
       "version_minor": 0
      },
      "text/plain": [
       "tokenizer_config.json:   0%|          | 0.00/48.0 [00:00<?, ?B/s]"
      ]
     },
     "metadata": {},
     "output_type": "display_data"
    },
    {
     "name": "stderr",
     "output_type": "stream",
     "text": [
      "C:\\Users\\Pat\\miniconda3\\Lib\\site-packages\\huggingface_hub\\file_download.py:149: UserWarning: `huggingface_hub` cache-system uses symlinks by default to efficiently store duplicated files but your machine does not support them in C:\\Users\\Pat\\.cache\\huggingface\\hub\\models--bert-base-uncased. Caching files will still work but in a degraded version that might require more space on your disk. This warning can be disabled by setting the `HF_HUB_DISABLE_SYMLINKS_WARNING` environment variable. For more details, see https://huggingface.co/docs/huggingface_hub/how-to-cache#limitations.\n",
      "To support symlinks on Windows, you either need to activate Developer Mode or to run Python as an administrator. In order to see activate developer mode, see this article: https://docs.microsoft.com/en-us/windows/apps/get-started/enable-your-device-for-development\n",
      "  warnings.warn(message)\n"
     ]
    },
    {
     "data": {
      "application/vnd.jupyter.widget-view+json": {
       "model_id": "449e6eb40fe549eca69d9c2294666048",
       "version_major": 2,
       "version_minor": 0
      },
      "text/plain": [
       "config.json:   0%|          | 0.00/570 [00:00<?, ?B/s]"
      ]
     },
     "metadata": {},
     "output_type": "display_data"
    },
    {
     "data": {
      "application/vnd.jupyter.widget-view+json": {
       "model_id": "58f8e43f72b64c73845e4019cf926f6c",
       "version_major": 2,
       "version_minor": 0
      },
      "text/plain": [
       "vocab.txt:   0%|          | 0.00/232k [00:00<?, ?B/s]"
      ]
     },
     "metadata": {},
     "output_type": "display_data"
    },
    {
     "data": {
      "application/vnd.jupyter.widget-view+json": {
       "model_id": "6bab94e836c640b08b8a70b0ee12f64c",
       "version_major": 2,
       "version_minor": 0
      },
      "text/plain": [
       "tokenizer.json:   0%|          | 0.00/466k [00:00<?, ?B/s]"
      ]
     },
     "metadata": {},
     "output_type": "display_data"
    }
   ],
   "source": [
    "from transformers import AutoTokenizer\n",
    "tokenizer = AutoTokenizer.from_pretrained(\"bert-base-uncased\")"
   ]
  },
  {
   "cell_type": "code",
   "execution_count": 69,
   "id": "6f9d6beb-b4db-4c77-9323-f17d1ce7175d",
   "metadata": {},
   "outputs": [
    {
     "data": {
      "text/plain": [
       "{'input_ids': [101, 7276, 4175, 1006, 1049, 1012, 2516, 1007, 2013, 3185, 1049, 2073, 2025, 6526, 1006, 7276, 2516, 1010, 2537, 1035, 2095, 2013, 3185, 1035, 2400, 5003, 2073, 2896, 1006, 5003, 1012, 2765, 1007, 1027, 1005, 2180, 1005, 1998, 5003, 1012, 2516, 1027, 1049, 1012, 2516, 1998, 5003, 1012, 2537, 1035, 2095, 1027, 1049, 1012, 2537, 1035, 2095, 2586, 7276, 2516, 1010, 2537, 1035, 2095, 2013, 3626, 1035, 2400, 6187, 2073, 2896, 1006, 6187, 1012, 2765, 1007, 1027, 1005, 2180, 1005, 1998, 6187, 1012, 2516, 1027, 1049, 1012, 2516, 1998, 6187, 1012, 2537, 1035, 2095, 1027, 1049, 1012, 2537, 1035, 2095, 2586, 7276, 2516, 1010, 2537, 1035, 2095, 2013, 2472, 1035, 2400, 4830, 2073, 2896, 1006, 4830, 1012, 2765, 1007, 1027, 1005, 2180, 1005, 1998, 4830, 1012, 2516, 1027, 1049, 1012, 2516, 1998, 4830, 1012, 2537, 1035, 2095, 1027, 1049, 1012, 2537, 1035, 2095, 2586, 7276, 2516, 1010, 2537, 1035, 2095, 2013, 3364, 1035, 2400, 9779, 2073, 2896, 1006, 9779, 1012, 2765, 1007, 1027, 1005, 2180, 1005, 1998, 9779, 1012, 2516, 1027, 1049, 1012, 2516, 1998, 9779, 1012, 2537, 1035, 2095, 1027, 1049, 1012, 2537, 1035, 2095, 2586, 7276, 2516, 1010, 2537, 1035, 2095, 2013, 3213, 1035, 2400, 11333, 2073, 2896, 1006, 11333, 1012, 2765, 1007, 1027, 1005, 2180, 1005, 1998, 11333, 1012, 2516, 1027, 1049, 1012, 2516, 1998, 11333, 1012, 2537, 1035, 2095, 1027, 1049, 1012, 2537, 1035, 2095, 1007, 1025, 102], 'attention_mask': [1, 1, 1, 1, 1, 1, 1, 1, 1, 1, 1, 1, 1, 1, 1, 1, 1, 1, 1, 1, 1, 1, 1, 1, 1, 1, 1, 1, 1, 1, 1, 1, 1, 1, 1, 1, 1, 1, 1, 1, 1, 1, 1, 1, 1, 1, 1, 1, 1, 1, 1, 1, 1, 1, 1, 1, 1, 1, 1, 1, 1, 1, 1, 1, 1, 1, 1, 1, 1, 1, 1, 1, 1, 1, 1, 1, 1, 1, 1, 1, 1, 1, 1, 1, 1, 1, 1, 1, 1, 1, 1, 1, 1, 1, 1, 1, 1, 1, 1, 1, 1, 1, 1, 1, 1, 1, 1, 1, 1, 1, 1, 1, 1, 1, 1, 1, 1, 1, 1, 1, 1, 1, 1, 1, 1, 1, 1, 1, 1, 1, 1, 1, 1, 1, 1, 1, 1, 1, 1, 1, 1, 1, 1, 1, 1, 1, 1, 1, 1, 1, 1, 1, 1, 1, 1, 1, 1, 1, 1, 1, 1, 1, 1, 1, 1, 1, 1, 1, 1, 1, 1, 1, 1, 1, 1, 1, 1, 1, 1, 1, 1, 1, 1, 1, 1, 1, 1, 1, 1, 1, 1, 1, 1, 1, 1, 1, 1, 1, 1, 1, 1, 1, 1, 1, 1, 1, 1, 1, 1, 1, 1, 1, 1, 1, 1, 1, 1, 1, 1, 1, 1, 1, 1, 1, 1, 1, 1, 1, 1, 1, 1, 1]}"
      ]
     },
     "execution_count": 69,
     "metadata": {},
     "output_type": "execute_result"
    }
   ],
   "source": [
    "tokenizer(mini_ds['train'][0]['text'])"
   ]
  },
  {
   "cell_type": "code",
   "execution_count": 20,
   "id": "47c5f97d-48df-4662-a57f-b382274d962e",
   "metadata": {},
   "outputs": [],
   "source": [
    "def tokenize(batch):\n",
    "    return tokenizer(batch['text'], truncation=True)"
   ]
  },
  {
   "cell_type": "code",
   "execution_count": 71,
   "id": "226e44f8-49fb-4c8c-970d-e2d278392f90",
   "metadata": {},
   "outputs": [
    {
     "data": {
      "text/plain": [
       "{'input_ids': [[101, 7276, 4175, 1006, 1049, 1012, 2516, 1007, 2013, 3185, 1049, 2073, 2025, 6526, 1006, 7276, 2516, 1010, 2537, 1035, 2095, 2013, 3185, 1035, 2400, 5003, 2073, 2896, 1006, 5003, 1012, 2765, 1007, 1027, 1005, 2180, 1005, 1998, 5003, 1012, 2516, 1027, 1049, 1012, 2516, 1998, 5003, 1012, 2537, 1035, 2095, 1027, 1049, 1012, 2537, 1035, 2095, 2586, 7276, 2516, 1010, 2537, 1035, 2095, 2013, 3626, 1035, 2400, 6187, 2073, 2896, 1006, 6187, 1012, 2765, 1007, 1027, 1005, 2180, 1005, 1998, 6187, 1012, 2516, 1027, 1049, 1012, 2516, 1998, 6187, 1012, 2537, 1035, 2095, 1027, 1049, 1012, 2537, 1035, 2095, 2586, 7276, 2516, 1010, 2537, 1035, 2095, 2013, 2472, 1035, 2400, 4830, 2073, 2896, 1006, 4830, 1012, 2765, 1007, 1027, 1005, 2180, 1005, 1998, 4830, 1012, 2516, 1027, 1049, 1012, 2516, 1998, 4830, 1012, 2537, 1035, 2095, 1027, 1049, 1012, 2537, 1035, 2095, 2586, 7276, 2516, 1010, 2537, 1035, 2095, 2013, 3364, 1035, 2400, 9779, 2073, 2896, 1006, 9779, 1012, 2765, 1007, 1027, 1005, 2180, 1005, 1998, 9779, 1012, 2516, 1027, 1049, 1012, 2516, 1998, 9779, 1012, 2537, 1035, 2095, 1027, 1049, 1012, 2537, 1035, 2095, 2586, 7276, 2516, 1010, 2537, 1035, 2095, 2013, 3213, 1035, 2400, 11333, 2073, 2896, 1006, 11333, 1012, 2765, 1007, 1027, 1005, 2180, 1005, 1998, 11333, 1012, 2516, 1027, 1049, 1012, 2516, 1998, 11333, 1012, 2537, 1035, 2095, 1027, 1049, 1012, 2537, 1035, 2095, 1007, 1025, 102], [101, 7276, 4175, 1006, 1008, 1007, 2013, 2711, 1052, 2073, 6526, 1006, 7276, 1008, 2013, 3213, 1059, 2073, 1059, 1012, 8909, 1027, 1052, 1012, 8909, 1998, 1052, 1012, 2095, 1035, 2141, 1027, 4437, 1007, 1025, 102], [101, 7276, 1008, 2433, 3185, 5787, 1015, 1025, 102]], 'attention_mask': [[1, 1, 1, 1, 1, 1, 1, 1, 1, 1, 1, 1, 1, 1, 1, 1, 1, 1, 1, 1, 1, 1, 1, 1, 1, 1, 1, 1, 1, 1, 1, 1, 1, 1, 1, 1, 1, 1, 1, 1, 1, 1, 1, 1, 1, 1, 1, 1, 1, 1, 1, 1, 1, 1, 1, 1, 1, 1, 1, 1, 1, 1, 1, 1, 1, 1, 1, 1, 1, 1, 1, 1, 1, 1, 1, 1, 1, 1, 1, 1, 1, 1, 1, 1, 1, 1, 1, 1, 1, 1, 1, 1, 1, 1, 1, 1, 1, 1, 1, 1, 1, 1, 1, 1, 1, 1, 1, 1, 1, 1, 1, 1, 1, 1, 1, 1, 1, 1, 1, 1, 1, 1, 1, 1, 1, 1, 1, 1, 1, 1, 1, 1, 1, 1, 1, 1, 1, 1, 1, 1, 1, 1, 1, 1, 1, 1, 1, 1, 1, 1, 1, 1, 1, 1, 1, 1, 1, 1, 1, 1, 1, 1, 1, 1, 1, 1, 1, 1, 1, 1, 1, 1, 1, 1, 1, 1, 1, 1, 1, 1, 1, 1, 1, 1, 1, 1, 1, 1, 1, 1, 1, 1, 1, 1, 1, 1, 1, 1, 1, 1, 1, 1, 1, 1, 1, 1, 1, 1, 1, 1, 1, 1, 1, 1, 1, 1, 1, 1, 1, 1, 1, 1, 1, 1, 1, 1, 1, 1, 1, 1, 1, 1], [1, 1, 1, 1, 1, 1, 1, 1, 1, 1, 1, 1, 1, 1, 1, 1, 1, 1, 1, 1, 1, 1, 1, 1, 1, 1, 1, 1, 1, 1, 1, 1, 1, 1, 1, 1], [1, 1, 1, 1, 1, 1, 1, 1, 1]]}"
      ]
     },
     "execution_count": 71,
     "metadata": {},
     "output_type": "execute_result"
    }
   ],
   "source": [
    "tokenize(mini_ds['train'][:3])"
   ]
  },
  {
   "cell_type": "code",
   "execution_count": 72,
   "id": "22533b73-5e56-4253-bd10-1377abf72c50",
   "metadata": {},
   "outputs": [
    {
     "data": {
      "application/vnd.jupyter.widget-view+json": {
       "model_id": "5bbd92f3d6f94d41a0219fa66bda14b5",
       "version_major": 2,
       "version_minor": 0
      },
      "text/plain": [
       "Map:   0%|          | 0/800 [00:00<?, ? examples/s]"
      ]
     },
     "metadata": {},
     "output_type": "display_data"
    },
    {
     "data": {
      "application/vnd.jupyter.widget-view+json": {
       "model_id": "83c6ef37b5f041a2936903fb8e773a84",
       "version_major": 2,
       "version_minor": 0
      },
      "text/plain": [
       "Map:   0%|          | 0/200 [00:00<?, ? examples/s]"
      ]
     },
     "metadata": {},
     "output_type": "display_data"
    },
    {
     "data": {
      "text/plain": [
       "DatasetDict({\n",
       "    train: Dataset({\n",
       "        features: ['text', 'label', 'input_ids', 'attention_mask'],\n",
       "        num_rows: 800\n",
       "    })\n",
       "    test: Dataset({\n",
       "        features: ['text', 'label', 'input_ids', 'attention_mask'],\n",
       "        num_rows: 200\n",
       "    })\n",
       "})"
      ]
     },
     "execution_count": 72,
     "metadata": {},
     "output_type": "execute_result"
    }
   ],
   "source": [
    "tokenized_mini_ds = mini_ds.map(tokenize, batched=True)\n",
    "tokenized_mini_ds"
   ]
  },
  {
   "cell_type": "code",
   "execution_count": 21,
   "id": "460e0ec1-57d4-4486-8a30-24e1d697e553",
   "metadata": {},
   "outputs": [],
   "source": [
    "from transformers import DataCollatorWithPadding\n",
    "\n",
    "data_collator = DataCollatorWithPadding(tokenizer)"
   ]
  },
  {
   "cell_type": "code",
   "execution_count": 22,
   "id": "777943b3-ee02-445c-bc8f-964f93c7c236",
   "metadata": {},
   "outputs": [],
   "source": [
    "import evaluate\n",
    "\n",
    "accuracy = evaluate.load(\"accuracy\")\n",
    "\n",
    "def compute_metrics(eval_pred):\n",
    "    predictions, labels = eval_pred\n",
    "    predictions = np.argmax(predictions, axis=1)\n",
    "    return accuracy.compute(predictions=predictions, references=labels)\n"
   ]
  },
  {
   "cell_type": "code",
   "execution_count": 23,
   "id": "1570b027-cf10-423e-9792-4d3e55dba536",
   "metadata": {},
   "outputs": [],
   "source": [
    "id2label = {0: \"negative\", 1: \"positive\"}  \n",
    "label2id = {\"negative\": 0, \"positive\": 1}\n"
   ]
  },
  {
   "cell_type": "code",
   "execution_count": 24,
   "id": "7b9e9b67-9d9e-4ae1-a53e-a84c27bef495",
   "metadata": {},
   "outputs": [
    {
     "data": {
      "application/vnd.jupyter.widget-view+json": {
       "model_id": "991357f930604761abdc0628c3c8ee0c",
       "version_major": 2,
       "version_minor": 0
      },
      "text/plain": [
       "model.safetensors:   0%|          | 0.00/440M [00:00<?, ?B/s]"
      ]
     },
     "metadata": {},
     "output_type": "display_data"
    },
    {
     "name": "stderr",
     "output_type": "stream",
     "text": [
      "Some weights of BertForSequenceClassification were not initialized from the model checkpoint at bert-base-uncased and are newly initialized: ['classifier.bias', 'classifier.weight']\n",
      "You should probably TRAIN this model on a down-stream task to be able to use it for predictions and inference.\n"
     ]
    }
   ],
   "source": [
    "from transformers import AutoModelForSequenceClassification\n",
    "\n",
    "model = AutoModelForSequenceClassification.from_pretrained(\n",
    "    \"bert-base-uncased\", num_labels=2, id2label=id2label, label2id=label2id\n",
    ")"
   ]
  },
  {
   "cell_type": "code",
   "execution_count": 77,
   "id": "743395ba-3e58-4c2f-be48-e1d5ae2272ad",
   "metadata": {},
   "outputs": [],
   "source": [
    "from transformers import TrainingArguments\n",
    "\n",
    "finetuned_model_name = 'distilbert-base-uncased-finetuned-sql-classification'\n",
    "batch_size = 4\n",
    "\n",
    "training_args = TrainingArguments(\n",
    "    output_dir=finetuned_model_name,\n",
    "    num_train_epochs=5,\n",
    "    per_device_train_batch_size=batch_size,\n",
    "    per_device_eval_batch_size=batch_size,\n",
    "    evaluation_strategy='epoch',\n",
    "    save_strategy='epoch'\n",
    ")"
   ]
  },
  {
   "cell_type": "code",
   "execution_count": 78,
   "id": "2ba10c22-1c96-4e13-be5e-d3bd35768ba5",
   "metadata": {},
   "outputs": [],
   "source": [
    "from transformers import Trainer\n",
    "\n",
    "trainer = Trainer(\n",
    "    model,\n",
    "    training_args,\n",
    "    train_dataset=tokenized_mini_ds['train'],\n",
    "    eval_dataset=tokenized_mini_ds['test'],\n",
    "    tokenizer=tokenizer,\n",
    "    compute_metrics=compute_metrics\n",
    ")"
   ]
  },
  {
   "cell_type": "code",
   "execution_count": 79,
   "id": "679f5330-04f7-4203-aa43-2a44bbfca95b",
   "metadata": {},
   "outputs": [
    {
     "data": {
      "text/html": [],
      "text/plain": [
       "<IPython.core.display.HTML object>"
      ]
     },
     "metadata": {},
     "output_type": "display_data"
    },
    {
     "data": {
      "text/plain": [
       "{'test_loss': 0.6879749894142151,\n",
       " 'test_accuracy': 0.55,\n",
       " 'test_runtime': 0.514,\n",
       " 'test_samples_per_second': 389.097,\n",
       " 'test_steps_per_second': 97.274}"
      ]
     },
     "execution_count": 79,
     "metadata": {},
     "output_type": "execute_result"
    }
   ],
   "source": [
    "preds_output = trainer.predict(tokenized_mini_ds['test'])\n",
    "preds_output.metrics"
   ]
  },
  {
   "cell_type": "code",
   "execution_count": 81,
   "id": "f9cd0256-a932-4876-926c-adf658eb9ba4",
   "metadata": {},
   "outputs": [
    {
     "data": {
      "text/html": [
       "\n",
       "    <div>\n",
       "      \n",
       "      <progress value='1000' max='1000' style='width:300px; height:20px; vertical-align: middle;'></progress>\n",
       "      [1000/1000 00:29, Epoch 5/5]\n",
       "    </div>\n",
       "    <table border=\"1\" class=\"dataframe\">\n",
       "  <thead>\n",
       " <tr style=\"text-align: left;\">\n",
       "      <th>Epoch</th>\n",
       "      <th>Training Loss</th>\n",
       "      <th>Validation Loss</th>\n",
       "      <th>Accuracy</th>\n",
       "    </tr>\n",
       "  </thead>\n",
       "  <tbody>\n",
       "    <tr>\n",
       "      <td>1</td>\n",
       "      <td>No log</td>\n",
       "      <td>0.867337</td>\n",
       "      <td>0.800000</td>\n",
       "    </tr>\n",
       "    <tr>\n",
       "      <td>2</td>\n",
       "      <td>No log</td>\n",
       "      <td>0.676578</td>\n",
       "      <td>0.800000</td>\n",
       "    </tr>\n",
       "    <tr>\n",
       "      <td>3</td>\n",
       "      <td>0.413200</td>\n",
       "      <td>0.770640</td>\n",
       "      <td>0.815000</td>\n",
       "    </tr>\n",
       "    <tr>\n",
       "      <td>4</td>\n",
       "      <td>0.413200</td>\n",
       "      <td>0.862585</td>\n",
       "      <td>0.810000</td>\n",
       "    </tr>\n",
       "    <tr>\n",
       "      <td>5</td>\n",
       "      <td>0.203300</td>\n",
       "      <td>0.913803</td>\n",
       "      <td>0.800000</td>\n",
       "    </tr>\n",
       "  </tbody>\n",
       "</table><p>"
      ],
      "text/plain": [
       "<IPython.core.display.HTML object>"
      ]
     },
     "metadata": {},
     "output_type": "display_data"
    },
    {
     "data": {
      "text/plain": [
       "TrainOutput(global_step=1000, training_loss=0.3082433242797852, metrics={'train_runtime': 30.0229, 'train_samples_per_second': 133.231, 'train_steps_per_second': 33.308, 'total_flos': 89160908311008.0, 'train_loss': 0.3082433242797852, 'epoch': 5.0})"
      ]
     },
     "execution_count": 81,
     "metadata": {},
     "output_type": "execute_result"
    }
   ],
   "source": [
    "trainer.train()"
   ]
  },
  {
   "cell_type": "code",
   "execution_count": 25,
   "id": "679d14fa-be96-40a5-8794-a3c3249d25ea",
   "metadata": {},
   "outputs": [
    {
     "data": {
      "application/vnd.jupyter.widget-view+json": {
       "model_id": "d78aa4fa999344ef9892b3a03c7c3910",
       "version_major": 2,
       "version_minor": 0
      },
      "text/plain": [
       "VBox(children=(HTML(value='<center> <img\\nsrc=https://huggingface.co/front/assets/huggingface_logo-noborder.sv…"
      ]
     },
     "metadata": {},
     "output_type": "display_data"
    }
   ],
   "source": [
    "# from huggingface_hub import notebook_login\n",
    " \n",
    "# notebook_login()"
   ]
  },
  {
   "cell_type": "markdown",
   "id": "9b672877-b005-4b86-8dc8-1cff771a41bd",
   "metadata": {},
   "source": [
    "# subset 5000"
   ]
  },
  {
   "cell_type": "code",
   "execution_count": 100,
   "id": "8b3fbf71-dde7-4ab2-86cf-505b83b5838b",
   "metadata": {},
   "outputs": [
    {
     "data": {
      "application/vnd.jupyter.widget-view+json": {
       "model_id": "2d0a9c4ccfb64e6e81ccf975f7637905",
       "version_major": 2,
       "version_minor": 0
      },
      "text/plain": [
       "Map:   0%|          | 0/4000 [00:00<?, ? examples/s]"
      ]
     },
     "metadata": {},
     "output_type": "display_data"
    },
    {
     "data": {
      "application/vnd.jupyter.widget-view+json": {
       "model_id": "7cac6314c0034410a491c586bc101b29",
       "version_major": 2,
       "version_minor": 0
      },
      "text/plain": [
       "Map:   0%|          | 0/1000 [00:00<?, ? examples/s]"
      ]
     },
     "metadata": {},
     "output_type": "display_data"
    }
   ],
   "source": [
    "mini_df = df[0:5000]\n",
    "mini_ds = Dataset.from_pandas(mini_df)\n",
    "mini_ds = mini_ds.train_test_split(test_size=0.2)\n",
    "\n",
    "tokenized_mini_ds = mini_ds.map(tokenize, batched=True)"
   ]
  },
  {
   "cell_type": "code",
   "execution_count": 101,
   "id": "a38f99a5-bb11-4b75-a76f-9e33370c0dcd",
   "metadata": {},
   "outputs": [
    {
     "data": {
      "text/html": [],
      "text/plain": [
       "<IPython.core.display.HTML object>"
      ]
     },
     "metadata": {},
     "output_type": "display_data"
    },
    {
     "data": {
      "text/html": [
       "\n",
       "    <div>\n",
       "      \n",
       "      <progress value='5000' max='5000' style='width:300px; height:20px; vertical-align: middle;'></progress>\n",
       "      [5000/5000 02:20, Epoch 5/5]\n",
       "    </div>\n",
       "    <table border=\"1\" class=\"dataframe\">\n",
       "  <thead>\n",
       " <tr style=\"text-align: left;\">\n",
       "      <th>Epoch</th>\n",
       "      <th>Training Loss</th>\n",
       "      <th>Validation Loss</th>\n",
       "      <th>Accuracy</th>\n",
       "    </tr>\n",
       "  </thead>\n",
       "  <tbody>\n",
       "    <tr>\n",
       "      <td>1</td>\n",
       "      <td>0.520100</td>\n",
       "      <td>0.562982</td>\n",
       "      <td>0.833000</td>\n",
       "    </tr>\n",
       "    <tr>\n",
       "      <td>2</td>\n",
       "      <td>0.444100</td>\n",
       "      <td>0.410804</td>\n",
       "      <td>0.869000</td>\n",
       "    </tr>\n",
       "    <tr>\n",
       "      <td>3</td>\n",
       "      <td>0.363000</td>\n",
       "      <td>0.443829</td>\n",
       "      <td>0.888000</td>\n",
       "    </tr>\n",
       "    <tr>\n",
       "      <td>4</td>\n",
       "      <td>0.304000</td>\n",
       "      <td>0.479316</td>\n",
       "      <td>0.888000</td>\n",
       "    </tr>\n",
       "    <tr>\n",
       "      <td>5</td>\n",
       "      <td>0.263600</td>\n",
       "      <td>0.474138</td>\n",
       "      <td>0.898000</td>\n",
       "    </tr>\n",
       "  </tbody>\n",
       "</table><p>"
      ],
      "text/plain": [
       "<IPython.core.display.HTML object>"
      ]
     },
     "metadata": {},
     "output_type": "display_data"
    },
    {
     "name": "stderr",
     "output_type": "stream",
     "text": [
      "Checkpoint destination directory distilbert-base-uncased-finetuned-sql-classification\\checkpoint-1000 already exists and is non-empty.Saving will proceed but saved results may be invalid.\n"
     ]
    },
    {
     "data": {
      "text/plain": [
       "TrainOutput(global_step=5000, training_loss=0.38325163269042967, metrics={'train_runtime': 140.6039, 'train_samples_per_second': 142.244, 'train_steps_per_second': 35.561, 'total_flos': 510106079685456.0, 'train_loss': 0.38325163269042967, 'epoch': 5.0})"
      ]
     },
     "execution_count": 101,
     "metadata": {},
     "output_type": "execute_result"
    }
   ],
   "source": [
    "\n",
    "finetuned_model_name = 'distilbert-base-uncased-finetuned-sql-classification'\n",
    "batch_size = 4\n",
    "\n",
    "training_args = TrainingArguments(\n",
    "    output_dir=finetuned_model_name,\n",
    "    num_train_epochs=5,\n",
    "    per_device_train_batch_size=batch_size,\n",
    "    per_device_eval_batch_size=batch_size,\n",
    "    evaluation_strategy='epoch',\n",
    "    save_strategy='epoch'\n",
    ")\n",
    "\n",
    "trainer = Trainer(\n",
    "    model,\n",
    "    training_args,\n",
    "    train_dataset=tokenized_mini_ds['train'],\n",
    "    eval_dataset=tokenized_mini_ds['test'],\n",
    "    tokenizer=tokenizer,\n",
    "    compute_metrics=compute_metrics\n",
    ")\n",
    "\n",
    "preds_output = trainer.predict(tokenized_mini_ds['test'])\n",
    "preds_output.metrics\n",
    "\n",
    "trainer.train()"
   ]
  },
  {
   "cell_type": "markdown",
   "id": "37a6978f-d1e8-45f9-b955-45093420cd34",
   "metadata": {},
   "source": [
    "# Whole Dataset"
   ]
  },
  {
   "cell_type": "code",
   "execution_count": 25,
   "id": "4e8aeda7-6d12-4f4e-8c16-54fb4e8d1bdb",
   "metadata": {},
   "outputs": [
    {
     "data": {
      "application/vnd.jupyter.widget-view+json": {
       "model_id": "ff71725a6b6e4153b1fd9d3cf216c8f0",
       "version_major": 2,
       "version_minor": 0
      },
      "text/plain": [
       "Map:   0%|          | 0/10317 [00:00<?, ? examples/s]"
      ]
     },
     "metadata": {},
     "output_type": "display_data"
    },
    {
     "data": {
      "application/vnd.jupyter.widget-view+json": {
       "model_id": "bafa1b56ec324ae599b8448c875f4ba6",
       "version_major": 2,
       "version_minor": 0
      },
      "text/plain": [
       "Map:   0%|          | 0/2580 [00:00<?, ? examples/s]"
      ]
     },
     "metadata": {},
     "output_type": "display_data"
    }
   ],
   "source": [
    "ds = Dataset.from_pandas(df)\n",
    "ds = ds.train_test_split(test_size=0.2)\n",
    "\n",
    "tokenized_ds = ds.map(tokenize, batched=True)"
   ]
  },
  {
   "cell_type": "code",
   "execution_count": 17,
   "id": "7c73347d-b52e-457b-b7be-fe36af44ffff",
   "metadata": {},
   "outputs": [
    {
     "data": {
      "text/plain": [
       "DatasetDict({\n",
       "    train: Dataset({\n",
       "        features: ['text', 'label', '__index_level_0__', 'input_ids', 'attention_mask'],\n",
       "        num_rows: 10317\n",
       "    })\n",
       "    test: Dataset({\n",
       "        features: ['text', 'label', '__index_level_0__', 'input_ids', 'attention_mask'],\n",
       "        num_rows: 2580\n",
       "    })\n",
       "})"
      ]
     },
     "execution_count": 17,
     "metadata": {},
     "output_type": "execute_result"
    }
   ],
   "source": [
    "tokenized_ds"
   ]
  },
  {
   "cell_type": "code",
   "execution_count": 26,
   "id": "c6c13962-499a-4836-a70c-300b5d1be53b",
   "metadata": {},
   "outputs": [
    {
     "data": {
      "text/html": [],
      "text/plain": [
       "<IPython.core.display.HTML object>"
      ]
     },
     "metadata": {},
     "output_type": "display_data"
    },
    {
     "data": {
      "text/html": [
       "\n",
       "    <div>\n",
       "      \n",
       "      <progress value='6450' max='6450' style='width:300px; height:20px; vertical-align: middle;'></progress>\n",
       "      [6450/6450 08:20, Epoch 5/5]\n",
       "    </div>\n",
       "    <table border=\"1\" class=\"dataframe\">\n",
       "  <thead>\n",
       " <tr style=\"text-align: left;\">\n",
       "      <th>Epoch</th>\n",
       "      <th>Training Loss</th>\n",
       "      <th>Validation Loss</th>\n",
       "      <th>Accuracy</th>\n",
       "    </tr>\n",
       "  </thead>\n",
       "  <tbody>\n",
       "    <tr>\n",
       "      <td>1</td>\n",
       "      <td>0.496900</td>\n",
       "      <td>0.460844</td>\n",
       "      <td>0.812403</td>\n",
       "    </tr>\n",
       "    <tr>\n",
       "      <td>2</td>\n",
       "      <td>0.430800</td>\n",
       "      <td>0.373947</td>\n",
       "      <td>0.854651</td>\n",
       "    </tr>\n",
       "    <tr>\n",
       "      <td>3</td>\n",
       "      <td>0.401800</td>\n",
       "      <td>0.435608</td>\n",
       "      <td>0.855039</td>\n",
       "    </tr>\n",
       "    <tr>\n",
       "      <td>4</td>\n",
       "      <td>0.330800</td>\n",
       "      <td>0.375380</td>\n",
       "      <td>0.868605</td>\n",
       "    </tr>\n",
       "    <tr>\n",
       "      <td>5</td>\n",
       "      <td>0.340300</td>\n",
       "      <td>0.419753</td>\n",
       "      <td>0.879070</td>\n",
       "    </tr>\n",
       "  </tbody>\n",
       "</table><p>"
      ],
      "text/plain": [
       "<IPython.core.display.HTML object>"
      ]
     },
     "metadata": {},
     "output_type": "display_data"
    },
    {
     "data": {
      "text/plain": [
       "TrainOutput(global_step=6450, training_loss=0.3982023230264353, metrics={'train_runtime': 500.3958, 'train_samples_per_second': 103.088, 'train_steps_per_second': 12.89, 'total_flos': 3666607236964380.0, 'train_loss': 0.3982023230264353, 'epoch': 5.0})"
      ]
     },
     "execution_count": 26,
     "metadata": {},
     "output_type": "execute_result"
    }
   ],
   "source": [
    "finetuned_model_name = 'bert-base-uncased-finetuned-sql-classification-no_context'\n",
    "batch_size = 8\n",
    "\n",
    "training_args = TrainingArguments(\n",
    "    output_dir=finetuned_model_name,\n",
    "    num_train_epochs=5,\n",
    "    per_device_train_batch_size=batch_size,\n",
    "    per_device_eval_batch_size=batch_size,\n",
    "    evaluation_strategy='epoch',\n",
    "    save_strategy='epoch'\n",
    ")\n",
    "\n",
    "trainer = Trainer(\n",
    "    model,\n",
    "    training_args,\n",
    "    train_dataset=tokenized_ds['train'],\n",
    "    eval_dataset=tokenized_ds['test'],\n",
    "    tokenizer=tokenizer,\n",
    "    compute_metrics=compute_metrics\n",
    ")\n",
    "\n",
    "preds_output = trainer.predict(tokenized_ds['test'])\n",
    "preds_output.metrics\n",
    "\n",
    "trainer.train()"
   ]
  },
  {
   "cell_type": "code",
   "execution_count": 27,
   "id": "c5332666-d6e0-4a73-9c2a-7fa45d594810",
   "metadata": {},
   "outputs": [
    {
     "data": {
      "application/vnd.jupyter.widget-view+json": {
       "model_id": "54d44011d9974442a03433213303505d",
       "version_major": 2,
       "version_minor": 0
      },
      "text/plain": [
       "VBox(children=(HTML(value='<center> <img\\nsrc=https://huggingface.co/front/assets/huggingface_logo-noborder.sv…"
      ]
     },
     "metadata": {},
     "output_type": "display_data"
    }
   ],
   "source": [
    "from huggingface_hub import notebook_login\n",
    "\n",
    "notebook_login()"
   ]
  },
  {
   "cell_type": "code",
   "execution_count": 28,
   "id": "c248ff2a-f32e-43dc-b66b-03e3bb14192b",
   "metadata": {},
   "outputs": [
    {
     "data": {
      "application/vnd.jupyter.widget-view+json": {
       "model_id": "df16f0a68946401b87caba9ad39c3c7a",
       "version_major": 2,
       "version_minor": 0
      },
      "text/plain": [
       "Upload 2 LFS files:   0%|          | 0/2 [00:00<?, ?it/s]"
      ]
     },
     "metadata": {},
     "output_type": "display_data"
    },
    {
     "data": {
      "application/vnd.jupyter.widget-view+json": {
       "model_id": "27a93db1f7714be2a49f3ce210730b48",
       "version_major": 2,
       "version_minor": 0
      },
      "text/plain": [
       "training_args.bin:   0%|          | 0.00/4.79k [00:00<?, ?B/s]"
      ]
     },
     "metadata": {},
     "output_type": "display_data"
    },
    {
     "data": {
      "application/vnd.jupyter.widget-view+json": {
       "model_id": "e7334d6893e04b80830a164f26d2bda7",
       "version_major": 2,
       "version_minor": 0
      },
      "text/plain": [
       "model.safetensors:   0%|          | 0.00/438M [00:00<?, ?B/s]"
      ]
     },
     "metadata": {},
     "output_type": "display_data"
    },
    {
     "data": {
      "text/plain": [
       "CommitInfo(commit_url='https://huggingface.co/PatWang/bert-base-uncased-finetuned-sql-classification-no_context/commit/0aa6c07dc41875a21c7b319133c70dc52c2a5626', commit_message='End of training', commit_description='', oid='0aa6c07dc41875a21c7b319133c70dc52c2a5626', pr_url=None, pr_revision=None, pr_num=None)"
      ]
     },
     "execution_count": 28,
     "metadata": {},
     "output_type": "execute_result"
    }
   ],
   "source": [
    "trainer.push_to_hub()\n"
   ]
  },
  {
   "cell_type": "code",
   "execution_count": 29,
   "id": "88003545-d279-46a8-9a3b-a64f83f68d81",
   "metadata": {},
   "outputs": [
    {
     "data": {
      "text/html": [
       "<div>\n",
       "<style scoped>\n",
       "    .dataframe tbody tr th:only-of-type {\n",
       "        vertical-align: middle;\n",
       "    }\n",
       "\n",
       "    .dataframe tbody tr th {\n",
       "        vertical-align: top;\n",
       "    }\n",
       "\n",
       "    .dataframe thead th {\n",
       "        text-align: right;\n",
       "    }\n",
       "</style>\n",
       "<table border=\"1\" class=\"dataframe\">\n",
       "  <thead>\n",
       "    <tr style=\"text-align: right;\">\n",
       "      <th></th>\n",
       "      <th>text</th>\n",
       "      <th>label</th>\n",
       "    </tr>\n",
       "  </thead>\n",
       "  <tbody>\n",
       "    <tr>\n",
       "      <th>0</th>\n",
       "      <td>SELECT SUM(first_name)\\r\\nFROM person \\r\\nWHER...</td>\n",
       "      <td>0</td>\n",
       "    </tr>\n",
       "    <tr>\n",
       "      <th>1</th>\n",
       "      <td>SELECT COUNT(*) FROM (SELECT DISTINCT person.i...</td>\n",
       "      <td>1</td>\n",
       "    </tr>\n",
       "    <tr>\n",
       "      <th>2</th>\n",
       "      <td>SELECT COUNT(*) FROM (SELECT DISTINCT person.i...</td>\n",
       "      <td>1</td>\n",
       "    </tr>\n",
       "    <tr>\n",
       "      <th>3</th>\n",
       "      <td>SELECT COUNT(*) FROM (SELECT person.id FROM pe...</td>\n",
       "      <td>0</td>\n",
       "    </tr>\n",
       "    <tr>\n",
       "      <th>4</th>\n",
       "      <td>SELECT production_year, COUNT(*) FROM movie \\r...</td>\n",
       "      <td>1</td>\n",
       "    </tr>\n",
       "  </tbody>\n",
       "</table>\n",
       "</div>"
      ],
      "text/plain": [
       "                                                text  label\n",
       "0  SELECT SUM(first_name)\\r\\nFROM person \\r\\nWHER...      0\n",
       "1  SELECT COUNT(*) FROM (SELECT DISTINCT person.i...      1\n",
       "2  SELECT COUNT(*) FROM (SELECT DISTINCT person.i...      1\n",
       "3  SELECT COUNT(*) FROM (SELECT person.id FROM pe...      0\n",
       "4  SELECT production_year, COUNT(*) FROM movie \\r...      1"
      ]
     },
     "execution_count": 29,
     "metadata": {},
     "output_type": "execute_result"
    }
   ],
   "source": [
    "df.head()"
   ]
  },
  {
   "cell_type": "markdown",
   "id": "401437f0-0207-4e77-9155-87c5608e5edd",
   "metadata": {},
   "source": [
    "# Test result from different schemas"
   ]
  },
  {
   "cell_type": "code",
   "execution_count": 3,
   "id": "2475442c-ac71-49d3-90b1-5de297cc604e",
   "metadata": {},
   "outputs": [],
   "source": [
    "import pandas as pd"
   ]
  },
  {
   "cell_type": "code",
   "execution_count": 4,
   "id": "482c6fd9-68ab-485b-9bb5-3876b7da5d05",
   "metadata": {},
   "outputs": [],
   "source": [
    "df = pd.read_json('sql_create_context_v4.json')"
   ]
  },
  {
   "cell_type": "code",
   "execution_count": 5,
   "id": "1912975a-8e42-4056-bff0-4afde8e2e312",
   "metadata": {},
   "outputs": [
    {
     "data": {
      "text/html": [
       "<div>\n",
       "<style scoped>\n",
       "    .dataframe tbody tr th:only-of-type {\n",
       "        vertical-align: middle;\n",
       "    }\n",
       "\n",
       "    .dataframe tbody tr th {\n",
       "        vertical-align: top;\n",
       "    }\n",
       "\n",
       "    .dataframe thead th {\n",
       "        text-align: right;\n",
       "    }\n",
       "</style>\n",
       "<table border=\"1\" class=\"dataframe\">\n",
       "  <thead>\n",
       "    <tr style=\"text-align: right;\">\n",
       "      <th></th>\n",
       "      <th>question</th>\n",
       "      <th>context</th>\n",
       "      <th>answer</th>\n",
       "    </tr>\n",
       "  </thead>\n",
       "  <tbody>\n",
       "    <tr>\n",
       "      <th>0</th>\n",
       "      <td>How many heads of the departments are older th...</td>\n",
       "      <td>CREATE TABLE head (age INTEGER)</td>\n",
       "      <td>SELECT COUNT(*) FROM head WHERE age &gt; 56</td>\n",
       "    </tr>\n",
       "    <tr>\n",
       "      <th>1</th>\n",
       "      <td>List the name, born state and age of the heads...</td>\n",
       "      <td>CREATE TABLE head (name VARCHAR, born_state VA...</td>\n",
       "      <td>SELECT name, born_state, age FROM head ORDER B...</td>\n",
       "    </tr>\n",
       "    <tr>\n",
       "      <th>2</th>\n",
       "      <td>List the creation year, name and budget of eac...</td>\n",
       "      <td>CREATE TABLE department (creation VARCHAR, nam...</td>\n",
       "      <td>SELECT creation, name, budget_in_billions FROM...</td>\n",
       "    </tr>\n",
       "    <tr>\n",
       "      <th>3</th>\n",
       "      <td>What are the maximum and minimum budget of the...</td>\n",
       "      <td>CREATE TABLE department (budget_in_billions IN...</td>\n",
       "      <td>SELECT MAX(budget_in_billions), MIN(budget_in_...</td>\n",
       "    </tr>\n",
       "    <tr>\n",
       "      <th>4</th>\n",
       "      <td>What is the average number of employees of the...</td>\n",
       "      <td>CREATE TABLE department (num_employees INTEGER...</td>\n",
       "      <td>SELECT AVG(num_employees) FROM department WHER...</td>\n",
       "    </tr>\n",
       "    <tr>\n",
       "      <th>...</th>\n",
       "      <td>...</td>\n",
       "      <td>...</td>\n",
       "      <td>...</td>\n",
       "    </tr>\n",
       "    <tr>\n",
       "      <th>78572</th>\n",
       "      <td>What time was the match played with a score of...</td>\n",
       "      <td>CREATE TABLE table_name_35 (time VARCHAR, scor...</td>\n",
       "      <td>SELECT time FROM table_name_35 WHERE score = \"...</td>\n",
       "    </tr>\n",
       "    <tr>\n",
       "      <th>78573</th>\n",
       "      <td>On which ground did the team play Aston Villa?</td>\n",
       "      <td>CREATE TABLE table_name_83 (ground VARCHAR, op...</td>\n",
       "      <td>SELECT ground FROM table_name_83 WHERE opponen...</td>\n",
       "    </tr>\n",
       "    <tr>\n",
       "      <th>78574</th>\n",
       "      <td>What kind of competition was it at San Siro at...</td>\n",
       "      <td>CREATE TABLE table_name_60 (competition VARCHA...</td>\n",
       "      <td>SELECT competition FROM table_name_60 WHERE gr...</td>\n",
       "    </tr>\n",
       "    <tr>\n",
       "      <th>78575</th>\n",
       "      <td>What is the total number of decile for the red...</td>\n",
       "      <td>CREATE TABLE table_name_34 (decile VARCHAR, na...</td>\n",
       "      <td>SELECT COUNT(decile) FROM table_name_34 WHERE ...</td>\n",
       "    </tr>\n",
       "    <tr>\n",
       "      <th>78576</th>\n",
       "      <td>Which report includes a Circuit of Tripoli?</td>\n",
       "      <td>CREATE TABLE table_name_71 (report VARCHAR, ci...</td>\n",
       "      <td>SELECT report FROM table_name_71 WHERE circuit...</td>\n",
       "    </tr>\n",
       "  </tbody>\n",
       "</table>\n",
       "<p>78577 rows × 3 columns</p>\n",
       "</div>"
      ],
      "text/plain": [
       "                                                question  \\\n",
       "0      How many heads of the departments are older th...   \n",
       "1      List the name, born state and age of the heads...   \n",
       "2      List the creation year, name and budget of eac...   \n",
       "3      What are the maximum and minimum budget of the...   \n",
       "4      What is the average number of employees of the...   \n",
       "...                                                  ...   \n",
       "78572  What time was the match played with a score of...   \n",
       "78573     On which ground did the team play Aston Villa?   \n",
       "78574  What kind of competition was it at San Siro at...   \n",
       "78575  What is the total number of decile for the red...   \n",
       "78576        Which report includes a Circuit of Tripoli?   \n",
       "\n",
       "                                                 context  \\\n",
       "0                        CREATE TABLE head (age INTEGER)   \n",
       "1      CREATE TABLE head (name VARCHAR, born_state VA...   \n",
       "2      CREATE TABLE department (creation VARCHAR, nam...   \n",
       "3      CREATE TABLE department (budget_in_billions IN...   \n",
       "4      CREATE TABLE department (num_employees INTEGER...   \n",
       "...                                                  ...   \n",
       "78572  CREATE TABLE table_name_35 (time VARCHAR, scor...   \n",
       "78573  CREATE TABLE table_name_83 (ground VARCHAR, op...   \n",
       "78574  CREATE TABLE table_name_60 (competition VARCHA...   \n",
       "78575  CREATE TABLE table_name_34 (decile VARCHAR, na...   \n",
       "78576  CREATE TABLE table_name_71 (report VARCHAR, ci...   \n",
       "\n",
       "                                                  answer  \n",
       "0               SELECT COUNT(*) FROM head WHERE age > 56  \n",
       "1      SELECT name, born_state, age FROM head ORDER B...  \n",
       "2      SELECT creation, name, budget_in_billions FROM...  \n",
       "3      SELECT MAX(budget_in_billions), MIN(budget_in_...  \n",
       "4      SELECT AVG(num_employees) FROM department WHER...  \n",
       "...                                                  ...  \n",
       "78572  SELECT time FROM table_name_35 WHERE score = \"...  \n",
       "78573  SELECT ground FROM table_name_83 WHERE opponen...  \n",
       "78574  SELECT competition FROM table_name_60 WHERE gr...  \n",
       "78575  SELECT COUNT(decile) FROM table_name_34 WHERE ...  \n",
       "78576  SELECT report FROM table_name_71 WHERE circuit...  \n",
       "\n",
       "[78577 rows x 3 columns]"
      ]
     },
     "execution_count": 5,
     "metadata": {},
     "output_type": "execute_result"
    }
   ],
   "source": [
    "df"
   ]
  },
  {
   "cell_type": "code",
   "execution_count": 6,
   "id": "6175630b-a67a-4a22-bd22-4ac18c2ac81e",
   "metadata": {},
   "outputs": [],
   "source": [
    "df = df.drop('question', axis='columns').drop('context', axis='columns')"
   ]
  },
  {
   "cell_type": "code",
   "execution_count": 7,
   "id": "d5d61474-53ed-4921-8468-66b056e6c7d5",
   "metadata": {},
   "outputs": [
    {
     "data": {
      "text/html": [
       "<div>\n",
       "<style scoped>\n",
       "    .dataframe tbody tr th:only-of-type {\n",
       "        vertical-align: middle;\n",
       "    }\n",
       "\n",
       "    .dataframe tbody tr th {\n",
       "        vertical-align: top;\n",
       "    }\n",
       "\n",
       "    .dataframe thead th {\n",
       "        text-align: right;\n",
       "    }\n",
       "</style>\n",
       "<table border=\"1\" class=\"dataframe\">\n",
       "  <thead>\n",
       "    <tr style=\"text-align: right;\">\n",
       "      <th></th>\n",
       "      <th>answer</th>\n",
       "    </tr>\n",
       "  </thead>\n",
       "  <tbody>\n",
       "    <tr>\n",
       "      <th>0</th>\n",
       "      <td>SELECT COUNT(*) FROM head WHERE age &gt; 56</td>\n",
       "    </tr>\n",
       "    <tr>\n",
       "      <th>1</th>\n",
       "      <td>SELECT name, born_state, age FROM head ORDER B...</td>\n",
       "    </tr>\n",
       "    <tr>\n",
       "      <th>2</th>\n",
       "      <td>SELECT creation, name, budget_in_billions FROM...</td>\n",
       "    </tr>\n",
       "    <tr>\n",
       "      <th>3</th>\n",
       "      <td>SELECT MAX(budget_in_billions), MIN(budget_in_...</td>\n",
       "    </tr>\n",
       "    <tr>\n",
       "      <th>4</th>\n",
       "      <td>SELECT AVG(num_employees) FROM department WHER...</td>\n",
       "    </tr>\n",
       "    <tr>\n",
       "      <th>...</th>\n",
       "      <td>...</td>\n",
       "    </tr>\n",
       "    <tr>\n",
       "      <th>78572</th>\n",
       "      <td>SELECT time FROM table_name_35 WHERE score = \"...</td>\n",
       "    </tr>\n",
       "    <tr>\n",
       "      <th>78573</th>\n",
       "      <td>SELECT ground FROM table_name_83 WHERE opponen...</td>\n",
       "    </tr>\n",
       "    <tr>\n",
       "      <th>78574</th>\n",
       "      <td>SELECT competition FROM table_name_60 WHERE gr...</td>\n",
       "    </tr>\n",
       "    <tr>\n",
       "      <th>78575</th>\n",
       "      <td>SELECT COUNT(decile) FROM table_name_34 WHERE ...</td>\n",
       "    </tr>\n",
       "    <tr>\n",
       "      <th>78576</th>\n",
       "      <td>SELECT report FROM table_name_71 WHERE circuit...</td>\n",
       "    </tr>\n",
       "  </tbody>\n",
       "</table>\n",
       "<p>78577 rows × 1 columns</p>\n",
       "</div>"
      ],
      "text/plain": [
       "                                                  answer\n",
       "0               SELECT COUNT(*) FROM head WHERE age > 56\n",
       "1      SELECT name, born_state, age FROM head ORDER B...\n",
       "2      SELECT creation, name, budget_in_billions FROM...\n",
       "3      SELECT MAX(budget_in_billions), MIN(budget_in_...\n",
       "4      SELECT AVG(num_employees) FROM department WHER...\n",
       "...                                                  ...\n",
       "78572  SELECT time FROM table_name_35 WHERE score = \"...\n",
       "78573  SELECT ground FROM table_name_83 WHERE opponen...\n",
       "78574  SELECT competition FROM table_name_60 WHERE gr...\n",
       "78575  SELECT COUNT(decile) FROM table_name_34 WHERE ...\n",
       "78576  SELECT report FROM table_name_71 WHERE circuit...\n",
       "\n",
       "[78577 rows x 1 columns]"
      ]
     },
     "execution_count": 7,
     "metadata": {},
     "output_type": "execute_result"
    }
   ],
   "source": [
    "df"
   ]
  },
  {
   "cell_type": "code",
   "execution_count": 8,
   "id": "4480d828-7f56-448e-bd6c-9bca6639c7d5",
   "metadata": {},
   "outputs": [
    {
     "data": {
      "text/plain": [
       "pandas.core.frame.DataFrame"
      ]
     },
     "execution_count": 8,
     "metadata": {},
     "output_type": "execute_result"
    }
   ],
   "source": [
    "type(df)"
   ]
  },
  {
   "cell_type": "code",
   "execution_count": 9,
   "id": "dcf3a3e8-e7aa-4a9c-84ea-7e4b0bfee210",
   "metadata": {},
   "outputs": [],
   "source": [
    "df.insert(1, 'labels', [1] * len(df), True)"
   ]
  },
  {
   "cell_type": "code",
   "execution_count": 13,
   "id": "05192bed-05dc-4e02-ad65-465c3ce66218",
   "metadata": {},
   "outputs": [],
   "source": [
    "# Use a pipeline as a high-level helper\n",
    "\n",
    "from transformers import pipeline\n",
    "\n",
    "pipe = pipeline(\"text-classification\", model=\"PatWang/bert-base-uncased-finetuned-sql-classification-no_context\")"
   ]
  },
  {
   "cell_type": "code",
   "execution_count": 15,
   "id": "8285c5c5-314e-4b2a-b699-d59613eefac1",
   "metadata": {},
   "outputs": [
    {
     "data": {
      "text/plain": [
       "'SELECT name, born_state, age FROM head ORDER BY age'"
      ]
     },
     "execution_count": 15,
     "metadata": {},
     "output_type": "execute_result"
    }
   ],
   "source": [
    "df['answer'][1]"
   ]
  },
  {
   "cell_type": "code",
   "execution_count": 43,
   "id": "718c01fb-af9e-46fd-a347-ca9271323879",
   "metadata": {},
   "outputs": [],
   "source": [
    "df_test = df.iloc[:1000]"
   ]
  },
  {
   "cell_type": "code",
   "execution_count": 44,
   "id": "a19542f6-30db-4214-bd75-9d10319f4ad0",
   "metadata": {},
   "outputs": [
    {
     "name": "stderr",
     "output_type": "stream",
     "text": [
      "C:\\Users\\Pat\\AppData\\Local\\Temp\\ipykernel_25572\\4201186193.py:8: SettingWithCopyWarning: \n",
      "A value is trying to be set on a copy of a slice from a DataFrame.\n",
      "Try using .loc[row_indexer,col_indexer] = value instead\n",
      "\n",
      "See the caveats in the documentation: https://pandas.pydata.org/pandas-docs/stable/user_guide/indexing.html#returning-a-view-versus-a-copy\n",
      "  df_test['pred'] = predictions\n"
     ]
    }
   ],
   "source": [
    "predictions = []\n",
    "\n",
    "for i in range(1000):\n",
    "    text = df_test.iloc[i]['answer']\n",
    "    pred = pipe(text)\n",
    "    predictions.append(pred)\n",
    "\n",
    "df_test['pred'] = predictions"
   ]
  },
  {
   "cell_type": "code",
   "execution_count": 46,
   "id": "c9120afa-e543-492d-9f33-9a0e32d332d5",
   "metadata": {},
   "outputs": [
    {
     "name": "stderr",
     "output_type": "stream",
     "text": [
      "C:\\Users\\Pat\\AppData\\Local\\Temp\\ipykernel_25572\\2321545445.py:1: SettingWithCopyWarning: \n",
      "A value is trying to be set on a copy of a slice from a DataFrame.\n",
      "Try using .loc[row_indexer,col_indexer] = value instead\n",
      "\n",
      "See the caveats in the documentation: https://pandas.pydata.org/pandas-docs/stable/user_guide/indexing.html#returning-a-view-versus-a-copy\n",
      "  df_test['predicted_label'] = df_test['pred'].apply(lambda x: 1 if x[0]['label'] == 'positive' else 0)\n"
     ]
    },
    {
     "data": {
      "text/html": [
       "<div>\n",
       "<style scoped>\n",
       "    .dataframe tbody tr th:only-of-type {\n",
       "        vertical-align: middle;\n",
       "    }\n",
       "\n",
       "    .dataframe tbody tr th {\n",
       "        vertical-align: top;\n",
       "    }\n",
       "\n",
       "    .dataframe thead th {\n",
       "        text-align: right;\n",
       "    }\n",
       "</style>\n",
       "<table border=\"1\" class=\"dataframe\">\n",
       "  <thead>\n",
       "    <tr style=\"text-align: right;\">\n",
       "      <th></th>\n",
       "      <th>answer</th>\n",
       "      <th>labels</th>\n",
       "      <th>pred</th>\n",
       "      <th>predicted_label</th>\n",
       "    </tr>\n",
       "  </thead>\n",
       "  <tbody>\n",
       "    <tr>\n",
       "      <th>0</th>\n",
       "      <td>SELECT COUNT(*) FROM head WHERE age &gt; 56</td>\n",
       "      <td>1</td>\n",
       "      <td>[{'label': 'negative', 'score': 0.987013399600...</td>\n",
       "      <td>0</td>\n",
       "    </tr>\n",
       "    <tr>\n",
       "      <th>1</th>\n",
       "      <td>SELECT name, born_state, age FROM head ORDER B...</td>\n",
       "      <td>1</td>\n",
       "      <td>[{'label': 'negative', 'score': 0.987015485763...</td>\n",
       "      <td>0</td>\n",
       "    </tr>\n",
       "    <tr>\n",
       "      <th>2</th>\n",
       "      <td>SELECT creation, name, budget_in_billions FROM...</td>\n",
       "      <td>1</td>\n",
       "      <td>[{'label': 'negative', 'score': 0.987012803554...</td>\n",
       "      <td>0</td>\n",
       "    </tr>\n",
       "    <tr>\n",
       "      <th>3</th>\n",
       "      <td>SELECT MAX(budget_in_billions), MIN(budget_in_...</td>\n",
       "      <td>1</td>\n",
       "      <td>[{'label': 'negative', 'score': 0.987007439136...</td>\n",
       "      <td>0</td>\n",
       "    </tr>\n",
       "    <tr>\n",
       "      <th>4</th>\n",
       "      <td>SELECT AVG(num_employees) FROM department WHER...</td>\n",
       "      <td>1</td>\n",
       "      <td>[{'label': 'negative', 'score': 0.987006068229...</td>\n",
       "      <td>0</td>\n",
       "    </tr>\n",
       "    <tr>\n",
       "      <th>...</th>\n",
       "      <td>...</td>\n",
       "      <td>...</td>\n",
       "      <td>...</td>\n",
       "      <td>...</td>\n",
       "    </tr>\n",
       "    <tr>\n",
       "      <th>995</th>\n",
       "      <td>SELECT Sponsor_name FROM player WHERE Residenc...</td>\n",
       "      <td>1</td>\n",
       "      <td>[{'label': 'negative', 'score': 0.987012922763...</td>\n",
       "      <td>0</td>\n",
       "    </tr>\n",
       "    <tr>\n",
       "      <th>996</th>\n",
       "      <td>SELECT Player_name FROM player ORDER BY Votes ...</td>\n",
       "      <td>1</td>\n",
       "      <td>[{'label': 'negative', 'score': 0.987008988857...</td>\n",
       "      <td>0</td>\n",
       "    </tr>\n",
       "    <tr>\n",
       "      <th>997</th>\n",
       "      <td>SELECT Occupation, COUNT(*) FROM player GROUP ...</td>\n",
       "      <td>1</td>\n",
       "      <td>[{'label': 'negative', 'score': 0.987013936042...</td>\n",
       "      <td>0</td>\n",
       "    </tr>\n",
       "    <tr>\n",
       "      <th>998</th>\n",
       "      <td>SELECT Occupation FROM player GROUP BY Occupat...</td>\n",
       "      <td>1</td>\n",
       "      <td>[{'label': 'negative', 'score': 0.987008631229...</td>\n",
       "      <td>0</td>\n",
       "    </tr>\n",
       "    <tr>\n",
       "      <th>999</th>\n",
       "      <td>SELECT Residence FROM player GROUP BY Residenc...</td>\n",
       "      <td>1</td>\n",
       "      <td>[{'label': 'negative', 'score': 0.987012445926...</td>\n",
       "      <td>0</td>\n",
       "    </tr>\n",
       "  </tbody>\n",
       "</table>\n",
       "<p>1000 rows × 4 columns</p>\n",
       "</div>"
      ],
      "text/plain": [
       "                                                answer  labels  \\\n",
       "0             SELECT COUNT(*) FROM head WHERE age > 56       1   \n",
       "1    SELECT name, born_state, age FROM head ORDER B...       1   \n",
       "2    SELECT creation, name, budget_in_billions FROM...       1   \n",
       "3    SELECT MAX(budget_in_billions), MIN(budget_in_...       1   \n",
       "4    SELECT AVG(num_employees) FROM department WHER...       1   \n",
       "..                                                 ...     ...   \n",
       "995  SELECT Sponsor_name FROM player WHERE Residenc...       1   \n",
       "996  SELECT Player_name FROM player ORDER BY Votes ...       1   \n",
       "997  SELECT Occupation, COUNT(*) FROM player GROUP ...       1   \n",
       "998  SELECT Occupation FROM player GROUP BY Occupat...       1   \n",
       "999  SELECT Residence FROM player GROUP BY Residenc...       1   \n",
       "\n",
       "                                                  pred  predicted_label  \n",
       "0    [{'label': 'negative', 'score': 0.987013399600...                0  \n",
       "1    [{'label': 'negative', 'score': 0.987015485763...                0  \n",
       "2    [{'label': 'negative', 'score': 0.987012803554...                0  \n",
       "3    [{'label': 'negative', 'score': 0.987007439136...                0  \n",
       "4    [{'label': 'negative', 'score': 0.987006068229...                0  \n",
       "..                                                 ...              ...  \n",
       "995  [{'label': 'negative', 'score': 0.987012922763...                0  \n",
       "996  [{'label': 'negative', 'score': 0.987008988857...                0  \n",
       "997  [{'label': 'negative', 'score': 0.987013936042...                0  \n",
       "998  [{'label': 'negative', 'score': 0.987008631229...                0  \n",
       "999  [{'label': 'negative', 'score': 0.987012445926...                0  \n",
       "\n",
       "[1000 rows x 4 columns]"
      ]
     },
     "execution_count": 46,
     "metadata": {},
     "output_type": "execute_result"
    }
   ],
   "source": [
    "df_test['predicted_label'] = df_test['pred'].apply(lambda x: 1 if x[0]['label'] == 'positive' else 0)\n",
    "\n",
    "df_test"
   ]
  },
  {
   "cell_type": "code",
   "execution_count": 47,
   "id": "447fd1cc-6a81-463a-a74e-6319109146e1",
   "metadata": {},
   "outputs": [
    {
     "name": "stdout",
     "output_type": "stream",
     "text": [
      "Accuracy: 0.061\n"
     ]
    }
   ],
   "source": [
    "# PatWang/distilbert-base-uncased-finetuned-sql-classification-no_context 8.3%\n",
    "\n",
    "#PatWang/bert-base-uncased-finetuned-sql-classification-no_context\n",
    "correct_predictions = (df_test['labels'] == df_test['predicted_label']).sum()\n",
    "\n",
    "accuracy = correct_predictions / len(df_test)\n",
    "\n",
    "print(f\"Accuracy: {accuracy}\")"
   ]
  },
  {
   "cell_type": "markdown",
   "id": "6c89dddc-bee3-4199-a6ad-4d6da471da34",
   "metadata": {},
   "source": [
    "# Interpreting BERT Models"
   ]
  },
  {
   "cell_type": "code",
   "execution_count": 48,
   "id": "c599d789-9188-4c24-b07f-fdaf405e0a8a",
   "metadata": {},
   "outputs": [
    {
     "name": "stdout",
     "output_type": "stream",
     "text": [
      "tokens: ['[CLS]', 'select', 'count', '(', '*', ')', 'from', 'head', 'where', 'age', '>', '56', '[SEP]']\n",
      "ids: [101, 7276, 4175, 1006, 1008, 1007, 2013, 2132, 2073, 2287, 1028, 5179, 102]\n"
     ]
    }
   ],
   "source": [
    "from transformers import AutoTokenizer\n",
    "\n",
    "# load tokenizer\n",
    "model_name = \"PatWang/bert-base-uncased-finetuned-sql-classification-no_context\"\n",
    "tokenizer = AutoTokenizer.from_pretrained(model_name)\n",
    "\n",
    "text = 'SELECT COUNT(*) FROM head WHERE age > 56'\n",
    "text_ids = tokenizer.encode(text, add_special_tokens=True)\n",
    "\n",
    "print('tokens:', tokenizer.convert_ids_to_tokens(text_ids))\n",
    "print('ids:', text_ids)\n",
    "\n"
   ]
  },
  {
   "cell_type": "code",
   "execution_count": 184,
   "id": "fdf42afb-dad4-434d-84b8-a8582da046e6",
   "metadata": {},
   "outputs": [],
   "source": [
    "# device = torch.device(\"cuda:0\" if torch.cuda.is_available() else \"cpu\")\n",
    "# model = model.to(device)\n"
   ]
  },
  {
   "cell_type": "code",
   "execution_count": 49,
   "id": "d4d2c639-822f-4b61-82b8-d9b4295010b7",
   "metadata": {},
   "outputs": [
    {
     "ename": "AttributeError",
     "evalue": "'BertForSequenceClassification' object has no attribute 'embeddings'",
     "output_type": "error",
     "traceback": [
      "\u001b[1;31m---------------------------------------------------------------------------\u001b[0m",
      "\u001b[1;31mAttributeError\u001b[0m                            Traceback (most recent call last)",
      "Cell \u001b[1;32mIn[49], line 5\u001b[0m\n\u001b[0;32m      2\u001b[0m \u001b[38;5;66;03m# load model\u001b[39;00m\n\u001b[0;32m      3\u001b[0m model \u001b[38;5;241m=\u001b[39m AutoModelForSequenceClassification\u001b[38;5;241m.\u001b[39mfrom_pretrained(model_name)\n\u001b[1;32m----> 5\u001b[0m embeddings \u001b[38;5;241m=\u001b[39m \u001b[43mmodel\u001b[49m\u001b[38;5;241;43m.\u001b[39;49m\u001b[43membeddings\u001b[49m(torch\u001b[38;5;241m.\u001b[39mtensor([text_ids]))\n\u001b[0;32m      6\u001b[0m \u001b[38;5;28mprint\u001b[39m(embeddings\u001b[38;5;241m.\u001b[39msize())\n\u001b[0;32m      8\u001b[0m \u001b[38;5;66;03m# # find embeddings\u001b[39;00m\n\u001b[0;32m      9\u001b[0m \u001b[38;5;66;03m# inputs = tokenizer(text, return_tensors='pt')\u001b[39;00m\n\u001b[0;32m     10\u001b[0m \u001b[38;5;66;03m# outputs = model(**inputs, output_hidden_states=True)\u001b[39;00m\n\u001b[0;32m     11\u001b[0m \u001b[38;5;66;03m# last_hidden_states = outputs.hidden_states[-1]\u001b[39;00m\n",
      "File \u001b[1;32m~\\miniconda3\\Lib\\site-packages\\torch\\nn\\modules\\module.py:1688\u001b[0m, in \u001b[0;36mModule.__getattr__\u001b[1;34m(self, name)\u001b[0m\n\u001b[0;32m   1686\u001b[0m     \u001b[38;5;28;01mif\u001b[39;00m name \u001b[38;5;129;01min\u001b[39;00m modules:\n\u001b[0;32m   1687\u001b[0m         \u001b[38;5;28;01mreturn\u001b[39;00m modules[name]\n\u001b[1;32m-> 1688\u001b[0m \u001b[38;5;28;01mraise\u001b[39;00m \u001b[38;5;167;01mAttributeError\u001b[39;00m(\u001b[38;5;124mf\u001b[39m\u001b[38;5;124m\"\u001b[39m\u001b[38;5;124m'\u001b[39m\u001b[38;5;132;01m{\u001b[39;00m\u001b[38;5;28mtype\u001b[39m(\u001b[38;5;28mself\u001b[39m)\u001b[38;5;241m.\u001b[39m\u001b[38;5;18m__name__\u001b[39m\u001b[38;5;132;01m}\u001b[39;00m\u001b[38;5;124m'\u001b[39m\u001b[38;5;124m object has no attribute \u001b[39m\u001b[38;5;124m'\u001b[39m\u001b[38;5;132;01m{\u001b[39;00mname\u001b[38;5;132;01m}\u001b[39;00m\u001b[38;5;124m'\u001b[39m\u001b[38;5;124m\"\u001b[39m)\n",
      "\u001b[1;31mAttributeError\u001b[0m: 'BertForSequenceClassification' object has no attribute 'embeddings'"
     ]
    }
   ],
   "source": [
    "from transformers import AutoModelForSequenceClassification\n",
    "# load model\n",
    "model = AutoModelForSequenceClassification.from_pretrained(model_name)\n",
    "\n",
    "embeddings = model.embeddings(torch.tensor([text_ids]))\n",
    "print(embeddings.size())\n",
    "\n",
    "# # find embeddings\n",
    "# inputs = tokenizer(text, return_tensors='pt')\n",
    "# outputs = model(**inputs, output_hidden_states=True)\n",
    "# last_hidden_states = outputs.hidden_states[-1]\n",
    "\n"
   ]
  },
  {
   "cell_type": "code",
   "execution_count": 5,
   "id": "89459979-00f7-4990-9b61-a0172263a4a9",
   "metadata": {},
   "outputs": [
    {
     "data": {
      "text/plain": [
       "torch.Size([1, 13, 768])"
      ]
     },
     "execution_count": 5,
     "metadata": {},
     "output_type": "execute_result"
    }
   ],
   "source": [
    "last_hidden_states.size()"
   ]
  },
  {
   "cell_type": "code",
   "execution_count": 6,
   "id": "18ac8346-2350-4473-b215-e244016ee15d",
   "metadata": {},
   "outputs": [],
   "source": [
    "# specify model architecture\n",
    "from torch import nn\n",
    "\n",
    "class BertClassifier(nn.Module):\n",
    "\n",
    "    def __init__(self, dropout=0.5):\n",
    "\n",
    "        super(BertClassifier, self).__init__()\n",
    "\n",
    "        self.bert = AutoModelForSequenceClassification.from_pretrained(model_name)\n",
    "        self.dropout = nn.Dropout(dropout)\n",
    "        self.linear = nn.Linear(768, 2)\n",
    "        self.relu = nn.ReLU()\n",
    "\n",
    "    def forward(self, input_id, mask = None):\n",
    "\n",
    "        _, pooled_output = self.bert(input_ids= input_id, attention_mask=mask,return_dict=False)\n",
    "        dropout_output = self.dropout(pooled_output)\n",
    "        linear_output = self.linear(dropout_output)\n",
    "        final_layer = self.relu(linear_output)\n",
    "\n",
    "        return final_layer"
   ]
  },
  {
   "cell_type": "code",
   "execution_count": 7,
   "id": "27e11276-c087-410a-8c04-d1b1b2ea2294",
   "metadata": {},
   "outputs": [
    {
     "data": {
      "text/plain": [
       "BertClassifier(\n",
       "  (bert): DistilBertForSequenceClassification(\n",
       "    (distilbert): DistilBertModel(\n",
       "      (embeddings): Embeddings(\n",
       "        (word_embeddings): Embedding(30522, 768, padding_idx=0)\n",
       "        (position_embeddings): Embedding(512, 768)\n",
       "        (LayerNorm): LayerNorm((768,), eps=1e-12, elementwise_affine=True)\n",
       "        (dropout): Dropout(p=0.1, inplace=False)\n",
       "      )\n",
       "      (transformer): Transformer(\n",
       "        (layer): ModuleList(\n",
       "          (0-5): 6 x TransformerBlock(\n",
       "            (attention): MultiHeadSelfAttention(\n",
       "              (dropout): Dropout(p=0.1, inplace=False)\n",
       "              (q_lin): Linear(in_features=768, out_features=768, bias=True)\n",
       "              (k_lin): Linear(in_features=768, out_features=768, bias=True)\n",
       "              (v_lin): Linear(in_features=768, out_features=768, bias=True)\n",
       "              (out_lin): Linear(in_features=768, out_features=768, bias=True)\n",
       "            )\n",
       "            (sa_layer_norm): LayerNorm((768,), eps=1e-12, elementwise_affine=True)\n",
       "            (ffn): FFN(\n",
       "              (dropout): Dropout(p=0.1, inplace=False)\n",
       "              (lin1): Linear(in_features=768, out_features=3072, bias=True)\n",
       "              (lin2): Linear(in_features=3072, out_features=768, bias=True)\n",
       "              (activation): GELUActivation()\n",
       "            )\n",
       "            (output_layer_norm): LayerNorm((768,), eps=1e-12, elementwise_affine=True)\n",
       "          )\n",
       "        )\n",
       "      )\n",
       "    )\n",
       "    (pre_classifier): Linear(in_features=768, out_features=768, bias=True)\n",
       "    (classifier): Linear(in_features=768, out_features=2, bias=True)\n",
       "    (dropout): Dropout(p=0.2, inplace=False)\n",
       "  )\n",
       "  (dropout): Dropout(p=0.5, inplace=False)\n",
       "  (linear): Linear(in_features=768, out_features=2, bias=True)\n",
       "  (relu): ReLU()\n",
       ")"
      ]
     },
     "execution_count": 7,
     "metadata": {},
     "output_type": "execute_result"
    }
   ],
   "source": [
    "#load model parameters\n",
    "model = BertClassifier()\n",
    "#model.load_state_dict(torch.load('path/to/bert_model.pt', map_location=torch.device('cpu')))\n",
    "model.eval()"
   ]
  },
  {
   "cell_type": "code",
   "execution_count": 11,
   "id": "a614e498-9d39-4b28-bca0-bbbdcb92edd3",
   "metadata": {},
   "outputs": [
    {
     "ename": "AttributeError",
     "evalue": "'DistilBertForSequenceClassification' object has no attribute 'embeddings'",
     "output_type": "error",
     "traceback": [
      "\u001b[1;31m---------------------------------------------------------------------------\u001b[0m",
      "\u001b[1;31mAttributeError\u001b[0m                            Traceback (most recent call last)",
      "Cell \u001b[1;32mIn[11], line 101\u001b[0m\n\u001b[0;32m     90\u001b[0m     \u001b[38;5;66;03m# storing couple samples in an array for visualization purposes\u001b[39;00m\n\u001b[0;32m     91\u001b[0m     vis_data_records\u001b[38;5;241m.\u001b[39mappend(visualization\u001b[38;5;241m.\u001b[39mVisualizationDataRecord(\n\u001b[0;32m     92\u001b[0m                             attributions,\n\u001b[0;32m     93\u001b[0m                             pred,\n\u001b[1;32m   (...)\u001b[0m\n\u001b[0;32m     98\u001b[0m                             tokens[:\u001b[38;5;28mlen\u001b[39m(attributions)],\n\u001b[0;32m     99\u001b[0m                             delta))    \n\u001b[1;32m--> 101\u001b[0m \u001b[43minterpret_sentence\u001b[49m\u001b[43m(\u001b[49m\u001b[43mbert_model_wrapper\u001b[49m\u001b[43m,\u001b[49m\u001b[43m \u001b[49m\u001b[43msentence\u001b[49m\u001b[38;5;241;43m=\u001b[39;49m\u001b[38;5;124;43m\"\u001b[39;49m\u001b[38;5;124;43mtext to classify\u001b[39;49m\u001b[38;5;124;43m\"\u001b[39;49m\u001b[43m,\u001b[49m\u001b[43m \u001b[49m\u001b[43mlabel\u001b[49m\u001b[38;5;241;43m=\u001b[39;49m\u001b[38;5;241;43m0\u001b[39;49m\u001b[43m)\u001b[49m\n\u001b[0;32m    102\u001b[0m visualization\u001b[38;5;241m.\u001b[39mvisualize_text(vis_data_records_ig)\n",
      "Cell \u001b[1;32mIn[11], line 70\u001b[0m, in \u001b[0;36minterpret_sentence\u001b[1;34m(model_wrapper, sentence, label)\u001b[0m\n\u001b[0;32m     67\u001b[0m model_wrapper\u001b[38;5;241m.\u001b[39mzero_grad()\n\u001b[0;32m     69\u001b[0m input_ids \u001b[38;5;241m=\u001b[39m torch\u001b[38;5;241m.\u001b[39mtensor([tokenizer\u001b[38;5;241m.\u001b[39mencode(sentence, add_special_tokens\u001b[38;5;241m=\u001b[39m\u001b[38;5;28;01mTrue\u001b[39;00m)])\n\u001b[1;32m---> 70\u001b[0m input_embedding \u001b[38;5;241m=\u001b[39m \u001b[43mmodel_wrapper\u001b[49m\u001b[38;5;241;43m.\u001b[39;49m\u001b[43mmodel\u001b[49m\u001b[38;5;241;43m.\u001b[39;49m\u001b[43mbert\u001b[49m\u001b[38;5;241;43m.\u001b[39;49m\u001b[43membeddings\u001b[49m(input_ids)\n\u001b[0;32m     72\u001b[0m \u001b[38;5;66;03m# predict\u001b[39;00m\n\u001b[0;32m     73\u001b[0m pred \u001b[38;5;241m=\u001b[39m model_wrapper(input_embedding)\u001b[38;5;241m.\u001b[39mitem()\n",
      "File \u001b[1;32m~\\miniconda3\\Lib\\site-packages\\torch\\nn\\modules\\module.py:1688\u001b[0m, in \u001b[0;36mModule.__getattr__\u001b[1;34m(self, name)\u001b[0m\n\u001b[0;32m   1686\u001b[0m     \u001b[38;5;28;01mif\u001b[39;00m name \u001b[38;5;129;01min\u001b[39;00m modules:\n\u001b[0;32m   1687\u001b[0m         \u001b[38;5;28;01mreturn\u001b[39;00m modules[name]\n\u001b[1;32m-> 1688\u001b[0m \u001b[38;5;28;01mraise\u001b[39;00m \u001b[38;5;167;01mAttributeError\u001b[39;00m(\u001b[38;5;124mf\u001b[39m\u001b[38;5;124m\"\u001b[39m\u001b[38;5;124m'\u001b[39m\u001b[38;5;132;01m{\u001b[39;00m\u001b[38;5;28mtype\u001b[39m(\u001b[38;5;28mself\u001b[39m)\u001b[38;5;241m.\u001b[39m\u001b[38;5;18m__name__\u001b[39m\u001b[38;5;132;01m}\u001b[39;00m\u001b[38;5;124m'\u001b[39m\u001b[38;5;124m object has no attribute \u001b[39m\u001b[38;5;124m'\u001b[39m\u001b[38;5;132;01m{\u001b[39;00mname\u001b[38;5;132;01m}\u001b[39;00m\u001b[38;5;124m'\u001b[39m\u001b[38;5;124m\"\u001b[39m)\n",
      "\u001b[1;31mAttributeError\u001b[0m: 'DistilBertForSequenceClassification' object has no attribute 'embeddings'"
     ]
    }
   ],
   "source": [
    "import torch\n",
    "import torch.nn as nn\n",
    "\n",
    "from captum.attr import IntegratedGradients\n",
    "from captum.attr import InterpretableEmbeddingBase, TokenReferenceBase\n",
    "from captum.attr import visualization\n",
    "from captum.attr import configure_interpretable_embedding_layer, remove_interpretable_embedding_layer\n",
    "\n",
    "\n",
    "\n",
    "\n",
    "# We need to split forward pass into two part: \n",
    "# 1) embeddings computation\n",
    "# 2) classification\n",
    "\n",
    "def compute_bert_outputs(model_bert, embedding_output, attention_mask=None, head_mask=None):\n",
    "    if attention_mask is None:\n",
    "        attention_mask = torch.ones(embedding_output.shape[0], embedding_output.shape[1]).to(embedding_output)\n",
    "\n",
    "    extended_attention_mask = attention_mask.unsqueeze(1).unsqueeze(2)\n",
    "\n",
    "    extended_attention_mask = extended_attention_mask.to(dtype=next(model_bert.parameters()).dtype) # fp16 compatibility\n",
    "    extended_attention_mask = (1.0 - extended_attention_mask) * -10000.0\n",
    "\n",
    "    if head_mask is not None:\n",
    "        if head_mask.dim() == 1:\n",
    "            head_mask = head_mask.unsqueeze(0).unsqueeze(0).unsqueeze(-1).unsqueeze(-1)\n",
    "            head_mask = head_mask.expand(model_bert.config.num_hidden_layers, -1, -1, -1, -1)\n",
    "        elif head_mask.dim() == 2:\n",
    "            head_mask = head_mask.unsqueeze(1).unsqueeze(-1).unsqueeze(-1)  # We can specify head_mask for each layer\n",
    "        head_mask = head_mask.to(dtype=next(model_bert.parameters()).dtype) # switch to fload if need + fp16 compatibility\n",
    "    else:\n",
    "        head_mask = [None] * model_bert.config.num_hidden_layers\n",
    "\n",
    "    encoder_outputs = model_bert.encoder(embedding_output,\n",
    "                                         extended_attention_mask,\n",
    "                                         head_mask=head_mask)\n",
    "    sequence_output = encoder_outputs[0]\n",
    "    pooled_output = model_bert.pooler(sequence_output)\n",
    "    outputs = (sequence_output, pooled_output,) + encoder_outputs[1:]  # add hidden_states and attentions if they are here\n",
    "    return outputs  # sequence_output, pooled_output, (hidden_states), (attentions)    \n",
    "\n",
    "\n",
    "class BertModelWrapper(nn.Module):\n",
    "    \n",
    "    def __init__(self, model):\n",
    "        super(BertModelWrapper, self).__init__()\n",
    "        self.model = model\n",
    "        \n",
    "    def forward(self, embeddings):        \n",
    "        outputs = compute_bert_outputs(self.model.bert, embeddings)\n",
    "        pooled_output = outputs[1]\n",
    "        pooled_output = self.model.dropout(pooled_output)\n",
    "        logits = self.model.classifier(pooled_output)\n",
    "        return torch.softmax(logits, dim=1)[:, 1].unsqueeze(1)\n",
    "\n",
    "    \n",
    "bert_model_wrapper = BertModelWrapper(model)\n",
    "ig = IntegratedGradients(bert_model_wrapper)\n",
    "\n",
    "# accumalate couple samples in this array for visualization purposes\n",
    "vis_data_records_ig = []\n",
    "\n",
    "def interpret_sentence(model_wrapper, sentence, label=1):\n",
    "\n",
    "    model_wrapper.eval()\n",
    "    model_wrapper.zero_grad()\n",
    "    \n",
    "    input_ids = torch.tensor([tokenizer.encode(sentence, add_special_tokens=True)])\n",
    "    input_embedding = model_wrapper.model.bert.embeddings(input_ids)\n",
    "    \n",
    "    # predict\n",
    "    pred = model_wrapper(input_embedding).item()\n",
    "    pred_ind = round(pred)\n",
    "\n",
    "    # compute attributions and approximation delta using integrated gradients\n",
    "    attributions_ig, delta = ig.attribute(input_embedding, n_steps=500, return_convergence_delta=True)\n",
    "\n",
    "    print('pred: ', pred_ind, '(', '%.2f' % pred, ')', ', delta: ', abs(delta))\n",
    "\n",
    "    tokens = tokenizer.convert_ids_to_tokens(input_ids[0].numpy().tolist())    \n",
    "    add_attributions_to_visualizer(attributions_ig, tokens, pred, pred_ind, label, delta, vis_data_records_ig)\n",
    "    \n",
    "    \n",
    "def add_attributions_to_visualizer(attributions, tokens, pred, pred_ind, label, delta, vis_data_records):\n",
    "    attributions = attributions.sum(dim=2).squeeze(0)\n",
    "    attributions = attributions / torch.norm(attributions)\n",
    "    attributions = attributions.detach().numpy()\n",
    "    \n",
    "    # storing couple samples in an array for visualization purposes\n",
    "    vis_data_records.append(visualization.VisualizationDataRecord(\n",
    "                            attributions,\n",
    "                            pred,\n",
    "                            pred_ind,\n",
    "                            label,\n",
    "                            \"label\",\n",
    "                            attributions.sum(),       \n",
    "                            tokens[:len(attributions)],\n",
    "                            delta))    \n",
    "\n",
    "interpret_sentence(bert_model_wrapper, sentence=\"text to classify\", label=0)\n",
    "visualization.visualize_text(vis_data_records_ig)"
   ]
  },
  {
   "cell_type": "code",
   "execution_count": null,
   "id": "53fdca1a-b0d4-4461-a3ab-782d560c582d",
   "metadata": {},
   "outputs": [],
   "source": []
  }
 ],
 "metadata": {
  "kernelspec": {
   "display_name": "Python 3 (ipykernel)",
   "language": "python",
   "name": "python3"
  },
  "language_info": {
   "codemirror_mode": {
    "name": "ipython",
    "version": 3
   },
   "file_extension": ".py",
   "mimetype": "text/x-python",
   "name": "python",
   "nbconvert_exporter": "python",
   "pygments_lexer": "ipython3",
   "version": "3.11.5"
  }
 },
 "nbformat": 4,
 "nbformat_minor": 5
}
